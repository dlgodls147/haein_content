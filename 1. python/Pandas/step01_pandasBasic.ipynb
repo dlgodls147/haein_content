{
 "cells": [
  {
   "cell_type": "markdown",
   "metadata": {},
   "source": [
    "# Pandas 학습\n",
    "    1. 데이터 분석을 위한 모듈\n",
    "        - 데이터 분석 빝 가공에 사영되는 파이썬 라이브러리\n",
    "        - 사용 빈도가 굉장히 높음\n",
    "        - Numpy 모듈 기반으로 생성됨\n",
    "    2. http://pandas.pydata.org"
   ]
  },
  {
   "cell_type": "markdown",
   "metadata": {},
   "source": [
    "### 학습 내용\n",
    "    1. 기초 익히기\n",
    "        - 이미 존재하는 파일의 내용을 DataFrame 생성하기\n",
    "        - 중복 데이터 처리 기술\n",
    "        - 결측치 처리 하기\n",
    "        - 두개의 dataFrame 병합 : row / colum 기준\n",
    "       "
   ]
  },
  {
   "cell_type": "markdown",
   "metadata": {},
   "source": [
    "### 주요 객체\n",
    "> 1. **series** :\n",
    "    1. dataframe의 구성요소\n",
    "        - 구조가 하나의 colum으로 구성 (dataframe의 하나의 컬럼)\n",
    "> 2. **dataframe** : \n",
    "    1. 가로측과 세로축이 있는 엑셀과 유사한 구조\n",
    "        - seriese들로 구성"
   ]
  },
  {
   "cell_type": "code",
   "execution_count": 2,
   "metadata": {},
   "outputs": [],
   "source": [
    "import pandas as pd\n",
    "import numpy as np"
   ]
  },
  {
   "cell_type": "code",
   "execution_count": 6,
   "metadata": {},
   "outputs": [
    {
     "name": "stdout",
     "output_type": "stream",
     "text": [
      "Name: pandas\n",
      "Version: 0.23.4\n",
      "Summary: Powerful data structures for data analysis, time series, and statistics\n",
      "Home-page: http://pandas.pydata.org\n",
      "Author: None\n",
      "Author-email: None\n",
      "License: BSD\n",
      "Location: c:\\users\\playdata\\anaconda3\\lib\\site-packages\n",
      "Requires: python-dateutil, pytz, numpy\n",
      "Required-by: seaborn, odo\n"
     ]
    }
   ],
   "source": [
    "!pip show pandas"
   ]
  },
  {
   "cell_type": "markdown",
   "metadata": {},
   "source": [
    "### 기초익히기"
   ]
  },
  {
   "cell_type": "code",
   "execution_count": 8,
   "metadata": {},
   "outputs": [
    {
     "data": {
      "text/plain": [
       "0    1\n",
       "1    2\n",
       "2    3\n",
       "dtype: int64"
      ]
     },
     "execution_count": 8,
     "metadata": {},
     "output_type": "execute_result"
    }
   ],
   "source": [
    "p = pd.Series([1,2,3])\n",
    "p"
   ]
  },
  {
   "cell_type": "code",
   "execution_count": 9,
   "metadata": {},
   "outputs": [
    {
     "data": {
      "text/plain": [
       "pandas.core.series.Series"
      ]
     },
     "execution_count": 9,
     "metadata": {},
     "output_type": "execute_result"
    }
   ],
   "source": [
    "type(p)"
   ]
  },
  {
   "cell_type": "code",
   "execution_count": 12,
   "metadata": {},
   "outputs": [
    {
     "data": {
      "text/plain": [
       "array([1, 2, 3], dtype=int64)"
      ]
     },
     "execution_count": 12,
     "metadata": {},
     "output_type": "execute_result"
    }
   ],
   "source": [
    "p.values"
   ]
  },
  {
   "cell_type": "code",
   "execution_count": 13,
   "metadata": {},
   "outputs": [
    {
     "data": {
      "text/plain": [
       "RangeIndex(start=0, stop=3, step=1)"
      ]
     },
     "execution_count": 13,
     "metadata": {},
     "output_type": "execute_result"
    }
   ],
   "source": [
    "p.index"
   ]
  },
  {
   "cell_type": "code",
   "execution_count": 15,
   "metadata": {},
   "outputs": [
    {
     "data": {
      "text/plain": [
       "0    1.0\n",
       "1    NaN\n",
       "2    3.0\n",
       "dtype: float64"
      ]
     },
     "execution_count": 15,
     "metadata": {},
     "output_type": "execute_result"
    }
   ],
   "source": [
    "# 결측치 반영해보기\n",
    "# NaN - not a Number\n",
    "# 결측치 반영시 Series 의 각 요소의 데이터 타입 - float64 로 변경\n",
    "p = pd.Series([1, np.nan, 3])\n",
    "p"
   ]
  },
  {
   "cell_type": "code",
   "execution_count": 3,
   "metadata": {},
   "outputs": [
    {
     "name": "stdout",
     "output_type": "stream",
     "text": [
      "DatetimeIndex(['2018-12-10', '2018-12-11', '2018-12-12', '2018-12-13',\n",
      "               '2018-12-14', '2018-12-15'],\n",
      "              dtype='datetime64[ns]', freq='D')\n"
     ]
    }
   ],
   "source": [
    "datas= pd.date_range('20181210', periods = 6)\n",
    "print(datas)"
   ]
  },
  {
   "cell_type": "code",
   "execution_count": 30,
   "metadata": {},
   "outputs": [
    {
     "data": {
      "text/html": [
       "<div>\n",
       "<style scoped>\n",
       "    .dataframe tbody tr th:only-of-type {\n",
       "        vertical-align: middle;\n",
       "    }\n",
       "\n",
       "    .dataframe tbody tr th {\n",
       "        vertical-align: top;\n",
       "    }\n",
       "\n",
       "    .dataframe thead th {\n",
       "        text-align: right;\n",
       "    }\n",
       "</style>\n",
       "<table border=\"1\" class=\"dataframe\">\n",
       "  <thead>\n",
       "    <tr style=\"text-align: right;\">\n",
       "      <th></th>\n",
       "      <th>0</th>\n",
       "      <th>1</th>\n",
       "      <th>2</th>\n",
       "      <th>3</th>\n",
       "    </tr>\n",
       "  </thead>\n",
       "  <tbody>\n",
       "    <tr>\n",
       "      <th>2018-12-10</th>\n",
       "      <td>0.379428</td>\n",
       "      <td>1.057087</td>\n",
       "      <td>0.690672</td>\n",
       "      <td>-1.100415</td>\n",
       "    </tr>\n",
       "    <tr>\n",
       "      <th>2018-12-11</th>\n",
       "      <td>0.459795</td>\n",
       "      <td>-1.236661</td>\n",
       "      <td>-0.250624</td>\n",
       "      <td>1.948358</td>\n",
       "    </tr>\n",
       "    <tr>\n",
       "      <th>2018-12-12</th>\n",
       "      <td>0.292389</td>\n",
       "      <td>-0.042664</td>\n",
       "      <td>-0.566685</td>\n",
       "      <td>2.053395</td>\n",
       "    </tr>\n",
       "    <tr>\n",
       "      <th>2018-12-13</th>\n",
       "      <td>0.049867</td>\n",
       "      <td>-0.176498</td>\n",
       "      <td>0.668916</td>\n",
       "      <td>0.011132</td>\n",
       "    </tr>\n",
       "    <tr>\n",
       "      <th>2018-12-14</th>\n",
       "      <td>-0.124339</td>\n",
       "      <td>-1.788662</td>\n",
       "      <td>-0.168935</td>\n",
       "      <td>-1.761784</td>\n",
       "    </tr>\n",
       "    <tr>\n",
       "      <th>2018-12-15</th>\n",
       "      <td>-0.540842</td>\n",
       "      <td>0.818357</td>\n",
       "      <td>0.753776</td>\n",
       "      <td>1.773885</td>\n",
       "    </tr>\n",
       "  </tbody>\n",
       "</table>\n",
       "</div>"
      ],
      "text/plain": [
       "                   0         1         2         3\n",
       "2018-12-10  0.379428  1.057087  0.690672 -1.100415\n",
       "2018-12-11  0.459795 -1.236661 -0.250624  1.948358\n",
       "2018-12-12  0.292389 -0.042664 -0.566685  2.053395\n",
       "2018-12-13  0.049867 -0.176498  0.668916  0.011132\n",
       "2018-12-14 -0.124339 -1.788662 -0.168935 -1.761784\n",
       "2018-12-15 -0.540842  0.818357  0.753776  1.773885"
      ]
     },
     "execution_count": 30,
     "metadata": {},
     "output_type": "execute_result"
    }
   ],
   "source": [
    "df = pd.DataFrame(np.random.ranfdn(6,4), index = datas) # 6행 4열\n",
    "df"
   ]
  },
  {
   "cell_type": "code",
   "execution_count": 31,
   "metadata": {},
   "outputs": [
    {
     "data": {
      "text/html": [
       "<div>\n",
       "<style scoped>\n",
       "    .dataframe tbody tr th:only-of-type {\n",
       "        vertical-align: middle;\n",
       "    }\n",
       "\n",
       "    .dataframe tbody tr th {\n",
       "        vertical-align: top;\n",
       "    }\n",
       "\n",
       "    .dataframe thead th {\n",
       "        text-align: right;\n",
       "    }\n",
       "</style>\n",
       "<table border=\"1\" class=\"dataframe\">\n",
       "  <thead>\n",
       "    <tr style=\"text-align: right;\">\n",
       "      <th></th>\n",
       "      <th>a</th>\n",
       "      <th>b</th>\n",
       "      <th>c</th>\n",
       "      <th>d</th>\n",
       "    </tr>\n",
       "  </thead>\n",
       "  <tbody>\n",
       "    <tr>\n",
       "      <th>2018-12-10</th>\n",
       "      <td>1.558342</td>\n",
       "      <td>-1.572946</td>\n",
       "      <td>0.086986</td>\n",
       "      <td>0.923304</td>\n",
       "    </tr>\n",
       "    <tr>\n",
       "      <th>2018-12-11</th>\n",
       "      <td>-0.290137</td>\n",
       "      <td>-0.552569</td>\n",
       "      <td>-0.648360</td>\n",
       "      <td>-2.031389</td>\n",
       "    </tr>\n",
       "    <tr>\n",
       "      <th>2018-12-12</th>\n",
       "      <td>-0.697431</td>\n",
       "      <td>0.438184</td>\n",
       "      <td>-0.445619</td>\n",
       "      <td>1.819321</td>\n",
       "    </tr>\n",
       "    <tr>\n",
       "      <th>2018-12-13</th>\n",
       "      <td>-1.395159</td>\n",
       "      <td>-0.310460</td>\n",
       "      <td>-0.636245</td>\n",
       "      <td>1.117384</td>\n",
       "    </tr>\n",
       "    <tr>\n",
       "      <th>2018-12-14</th>\n",
       "      <td>0.145845</td>\n",
       "      <td>-0.025134</td>\n",
       "      <td>-0.720890</td>\n",
       "      <td>-0.913996</td>\n",
       "    </tr>\n",
       "    <tr>\n",
       "      <th>2018-12-15</th>\n",
       "      <td>0.445046</td>\n",
       "      <td>-1.508589</td>\n",
       "      <td>-1.523788</td>\n",
       "      <td>-1.065776</td>\n",
       "    </tr>\n",
       "  </tbody>\n",
       "</table>\n",
       "</div>"
      ],
      "text/plain": [
       "                   a         b         c         d\n",
       "2018-12-10  1.558342 -1.572946  0.086986  0.923304\n",
       "2018-12-11 -0.290137 -0.552569 -0.648360 -2.031389\n",
       "2018-12-12 -0.697431  0.438184 -0.445619  1.819321\n",
       "2018-12-13 -1.395159 -0.310460 -0.636245  1.117384\n",
       "2018-12-14  0.145845 -0.025134 -0.720890 -0.913996\n",
       "2018-12-15  0.445046 -1.508589 -1.523788 -1.065776"
      ]
     },
     "execution_count": 31,
     "metadata": {},
     "output_type": "execute_result"
    }
   ],
   "source": [
    "df = pd.DataFrame(np.random.randn(6,4), index = datas, columns=['a','b','c','d']) # 6행 4열\n",
    "df"
   ]
  },
  {
   "cell_type": "code",
   "execution_count": 32,
   "metadata": {},
   "outputs": [
    {
     "data": {
      "text/plain": [
       "array([[ 1.55834162, -1.57294619,  0.08698564,  0.92330353],\n",
       "       [-0.29013732, -0.55256853, -0.64835973, -2.03138911],\n",
       "       [-0.69743133,  0.43818402, -0.44561893,  1.81932131],\n",
       "       [-1.39515882, -0.31045992, -0.63624463,  1.11738374],\n",
       "       [ 0.14584466, -0.02513359, -0.72088991, -0.91399597],\n",
       "       [ 0.44504609, -1.50858855, -1.52378846, -1.06577597]])"
      ]
     },
     "execution_count": 32,
     "metadata": {},
     "output_type": "execute_result"
    }
   ],
   "source": [
    "df.values"
   ]
  },
  {
   "cell_type": "code",
   "execution_count": 33,
   "metadata": {},
   "outputs": [
    {
     "name": "stdout",
     "output_type": "stream",
     "text": [
      "<class 'pandas.core.frame.DataFrame'>\n",
      "DatetimeIndex: 6 entries, 2018-12-10 to 2018-12-15\n",
      "Freq: D\n",
      "Data columns (total 4 columns):\n",
      "a    6 non-null float64\n",
      "b    6 non-null float64\n",
      "c    6 non-null float64\n",
      "d    6 non-null float64\n",
      "dtypes: float64(4)\n",
      "memory usage: 240.0 bytes\n"
     ]
    }
   ],
   "source": [
    "df.info()"
   ]
  },
  {
   "cell_type": "markdown",
   "metadata": {},
   "source": [
    "### 정리\n",
    ">   Series 생성 방법 <br>\n",
    "    yyyymmdd 및 기간을 기준으로 날짜 자동 생성 하는 방법<br>\n",
    "    Dataframe 객체 생성 방법, index 및 colum 적용 방법<br>\n",
    "    "
   ]
  },
  {
   "cell_type": "code",
   "execution_count": 38,
   "metadata": {},
   "outputs": [
    {
     "data": {
      "text/html": [
       "<div>\n",
       "<style scoped>\n",
       "    .dataframe tbody tr th:only-of-type {\n",
       "        vertical-align: middle;\n",
       "    }\n",
       "\n",
       "    .dataframe tbody tr th {\n",
       "        vertical-align: top;\n",
       "    }\n",
       "\n",
       "    .dataframe thead th {\n",
       "        text-align: right;\n",
       "    }\n",
       "</style>\n",
       "<table border=\"1\" class=\"dataframe\">\n",
       "  <thead>\n",
       "    <tr style=\"text-align: right;\">\n",
       "      <th></th>\n",
       "      <th>a</th>\n",
       "      <th>b</th>\n",
       "      <th>c</th>\n",
       "      <th>d</th>\n",
       "    </tr>\n",
       "  </thead>\n",
       "  <tbody>\n",
       "    <tr>\n",
       "      <th>2018-12-10</th>\n",
       "      <td>1.558342</td>\n",
       "      <td>-1.572946</td>\n",
       "      <td>0.086986</td>\n",
       "      <td>0.923304</td>\n",
       "    </tr>\n",
       "    <tr>\n",
       "      <th>2018-12-15</th>\n",
       "      <td>0.445046</td>\n",
       "      <td>-1.508589</td>\n",
       "      <td>-1.523788</td>\n",
       "      <td>-1.065776</td>\n",
       "    </tr>\n",
       "    <tr>\n",
       "      <th>2018-12-11</th>\n",
       "      <td>-0.290137</td>\n",
       "      <td>-0.552569</td>\n",
       "      <td>-0.648360</td>\n",
       "      <td>-2.031389</td>\n",
       "    </tr>\n",
       "    <tr>\n",
       "      <th>2018-12-13</th>\n",
       "      <td>-1.395159</td>\n",
       "      <td>-0.310460</td>\n",
       "      <td>-0.636245</td>\n",
       "      <td>1.117384</td>\n",
       "    </tr>\n",
       "    <tr>\n",
       "      <th>2018-12-14</th>\n",
       "      <td>0.145845</td>\n",
       "      <td>-0.025134</td>\n",
       "      <td>-0.720890</td>\n",
       "      <td>-0.913996</td>\n",
       "    </tr>\n",
       "    <tr>\n",
       "      <th>2018-12-12</th>\n",
       "      <td>-0.697431</td>\n",
       "      <td>0.438184</td>\n",
       "      <td>-0.445619</td>\n",
       "      <td>1.819321</td>\n",
       "    </tr>\n",
       "  </tbody>\n",
       "</table>\n",
       "</div>"
      ],
      "text/plain": [
       "                   a         b         c         d\n",
       "2018-12-10  1.558342 -1.572946  0.086986  0.923304\n",
       "2018-12-15  0.445046 -1.508589 -1.523788 -1.065776\n",
       "2018-12-11 -0.290137 -0.552569 -0.648360 -2.031389\n",
       "2018-12-13 -1.395159 -0.310460 -0.636245  1.117384\n",
       "2018-12-14  0.145845 -0.025134 -0.720890 -0.913996\n",
       "2018-12-12 -0.697431  0.438184 -0.445619  1.819321"
      ]
     },
     "execution_count": 38,
     "metadata": {},
     "output_type": "execute_result"
    }
   ],
   "source": [
    "# 오름차순 - ascending = True\n",
    "# 내림차순 - ascending = False\n",
    "df.sort_values(by ='b', ascending=True)\n"
   ]
  },
  {
   "cell_type": "code",
   "execution_count": 39,
   "metadata": {},
   "outputs": [
    {
     "data": {
      "text/html": [
       "<div>\n",
       "<style scoped>\n",
       "    .dataframe tbody tr th:only-of-type {\n",
       "        vertical-align: middle;\n",
       "    }\n",
       "\n",
       "    .dataframe tbody tr th {\n",
       "        vertical-align: top;\n",
       "    }\n",
       "\n",
       "    .dataframe thead th {\n",
       "        text-align: right;\n",
       "    }\n",
       "</style>\n",
       "<table border=\"1\" class=\"dataframe\">\n",
       "  <thead>\n",
       "    <tr style=\"text-align: right;\">\n",
       "      <th></th>\n",
       "      <th>a</th>\n",
       "      <th>b</th>\n",
       "      <th>c</th>\n",
       "      <th>d</th>\n",
       "    </tr>\n",
       "  </thead>\n",
       "  <tbody>\n",
       "    <tr>\n",
       "      <th>2018-12-10</th>\n",
       "      <td>1.558342</td>\n",
       "      <td>-1.572946</td>\n",
       "      <td>0.086986</td>\n",
       "      <td>0.923304</td>\n",
       "    </tr>\n",
       "    <tr>\n",
       "      <th>2018-12-11</th>\n",
       "      <td>-0.290137</td>\n",
       "      <td>-0.552569</td>\n",
       "      <td>-0.648360</td>\n",
       "      <td>-2.031389</td>\n",
       "    </tr>\n",
       "    <tr>\n",
       "      <th>2018-12-12</th>\n",
       "      <td>-0.697431</td>\n",
       "      <td>0.438184</td>\n",
       "      <td>-0.445619</td>\n",
       "      <td>1.819321</td>\n",
       "    </tr>\n",
       "    <tr>\n",
       "      <th>2018-12-13</th>\n",
       "      <td>-1.395159</td>\n",
       "      <td>-0.310460</td>\n",
       "      <td>-0.636245</td>\n",
       "      <td>1.117384</td>\n",
       "    </tr>\n",
       "    <tr>\n",
       "      <th>2018-12-14</th>\n",
       "      <td>0.145845</td>\n",
       "      <td>-0.025134</td>\n",
       "      <td>-0.720890</td>\n",
       "      <td>-0.913996</td>\n",
       "    </tr>\n",
       "    <tr>\n",
       "      <th>2018-12-15</th>\n",
       "      <td>0.445046</td>\n",
       "      <td>-1.508589</td>\n",
       "      <td>-1.523788</td>\n",
       "      <td>-1.065776</td>\n",
       "    </tr>\n",
       "  </tbody>\n",
       "</table>\n",
       "</div>"
      ],
      "text/plain": [
       "                   a         b         c         d\n",
       "2018-12-10  1.558342 -1.572946  0.086986  0.923304\n",
       "2018-12-11 -0.290137 -0.552569 -0.648360 -2.031389\n",
       "2018-12-12 -0.697431  0.438184 -0.445619  1.819321\n",
       "2018-12-13 -1.395159 -0.310460 -0.636245  1.117384\n",
       "2018-12-14  0.145845 -0.025134 -0.720890 -0.913996\n",
       "2018-12-15  0.445046 -1.508589 -1.523788 -1.065776"
      ]
     },
     "execution_count": 39,
     "metadata": {},
     "output_type": "execute_result"
    }
   ],
   "source": [
    "df"
   ]
  },
  {
   "cell_type": "code",
   "execution_count": 42,
   "metadata": {},
   "outputs": [
    {
     "data": {
      "text/plain": [
       "pandas.core.series.Series"
      ]
     },
     "execution_count": 42,
     "metadata": {},
     "output_type": "execute_result"
    }
   ],
   "source": [
    "type(df['a']) # 시리즈들이 모여서 데이터프레임을 생성한다"
   ]
  },
  {
   "cell_type": "code",
   "execution_count": 44,
   "metadata": {},
   "outputs": [
    {
     "data": {
      "text/html": [
       "<div>\n",
       "<style scoped>\n",
       "    .dataframe tbody tr th:only-of-type {\n",
       "        vertical-align: middle;\n",
       "    }\n",
       "\n",
       "    .dataframe tbody tr th {\n",
       "        vertical-align: top;\n",
       "    }\n",
       "\n",
       "    .dataframe thead th {\n",
       "        text-align: right;\n",
       "    }\n",
       "</style>\n",
       "<table border=\"1\" class=\"dataframe\">\n",
       "  <thead>\n",
       "    <tr style=\"text-align: right;\">\n",
       "      <th></th>\n",
       "      <th>a</th>\n",
       "      <th>b</th>\n",
       "      <th>c</th>\n",
       "      <th>d</th>\n",
       "    </tr>\n",
       "  </thead>\n",
       "  <tbody>\n",
       "    <tr>\n",
       "      <th>2018-12-10</th>\n",
       "      <td>1.558342</td>\n",
       "      <td>-1.572946</td>\n",
       "      <td>0.086986</td>\n",
       "      <td>0.923304</td>\n",
       "    </tr>\n",
       "    <tr>\n",
       "      <th>2018-12-11</th>\n",
       "      <td>-0.290137</td>\n",
       "      <td>-0.552569</td>\n",
       "      <td>-0.648360</td>\n",
       "      <td>-2.031389</td>\n",
       "    </tr>\n",
       "    <tr>\n",
       "      <th>2018-12-12</th>\n",
       "      <td>-0.697431</td>\n",
       "      <td>0.438184</td>\n",
       "      <td>-0.445619</td>\n",
       "      <td>1.819321</td>\n",
       "    </tr>\n",
       "  </tbody>\n",
       "</table>\n",
       "</div>"
      ],
      "text/plain": [
       "                   a         b         c         d\n",
       "2018-12-10  1.558342 -1.572946  0.086986  0.923304\n",
       "2018-12-11 -0.290137 -0.552569 -0.648360 -2.031389\n",
       "2018-12-12 -0.697431  0.438184 -0.445619  1.819321"
      ]
     },
     "execution_count": 44,
     "metadata": {},
     "output_type": "execute_result"
    }
   ],
   "source": [
    "df[0:3] # row 를 기준으로 0~3을 슬라이싱 "
   ]
  },
  {
   "cell_type": "code",
   "execution_count": 47,
   "metadata": {},
   "outputs": [
    {
     "data": {
      "text/html": [
       "<div>\n",
       "<style scoped>\n",
       "    .dataframe tbody tr th:only-of-type {\n",
       "        vertical-align: middle;\n",
       "    }\n",
       "\n",
       "    .dataframe tbody tr th {\n",
       "        vertical-align: top;\n",
       "    }\n",
       "\n",
       "    .dataframe thead th {\n",
       "        text-align: right;\n",
       "    }\n",
       "</style>\n",
       "<table border=\"1\" class=\"dataframe\">\n",
       "  <thead>\n",
       "    <tr style=\"text-align: right;\">\n",
       "      <th></th>\n",
       "      <th>a</th>\n",
       "      <th>b</th>\n",
       "      <th>c</th>\n",
       "      <th>d</th>\n",
       "    </tr>\n",
       "  </thead>\n",
       "  <tbody>\n",
       "    <tr>\n",
       "      <th>2018-12-10</th>\n",
       "      <td>1.558342</td>\n",
       "      <td>-1.572946</td>\n",
       "      <td>0.086986</td>\n",
       "      <td>0.923304</td>\n",
       "    </tr>\n",
       "    <tr>\n",
       "      <th>2018-12-11</th>\n",
       "      <td>-0.290137</td>\n",
       "      <td>-0.552569</td>\n",
       "      <td>-0.648360</td>\n",
       "      <td>-2.031389</td>\n",
       "    </tr>\n",
       "    <tr>\n",
       "      <th>2018-12-12</th>\n",
       "      <td>-0.697431</td>\n",
       "      <td>0.438184</td>\n",
       "      <td>-0.445619</td>\n",
       "      <td>1.819321</td>\n",
       "    </tr>\n",
       "    <tr>\n",
       "      <th>2018-12-13</th>\n",
       "      <td>-1.395159</td>\n",
       "      <td>-0.310460</td>\n",
       "      <td>-0.636245</td>\n",
       "      <td>1.117384</td>\n",
       "    </tr>\n",
       "  </tbody>\n",
       "</table>\n",
       "</div>"
      ],
      "text/plain": [
       "                   a         b         c         d\n",
       "2018-12-10  1.558342 -1.572946  0.086986  0.923304\n",
       "2018-12-11 -0.290137 -0.552569 -0.648360 -2.031389\n",
       "2018-12-12 -0.697431  0.438184 -0.445619  1.819321\n",
       "2018-12-13 -1.395159 -0.310460 -0.636245  1.117384"
      ]
     },
     "execution_count": 47,
     "metadata": {},
     "output_type": "execute_result"
    }
   ],
   "source": [
    "# index 명으로 반환 설정 가능, 단 row 의 행 번호와 달리 지정한 영역까지 반영\n",
    "df['2018-12-10':'2018-12-13']"
   ]
  },
  {
   "cell_type": "markdown",
   "metadata": {},
   "source": [
    "### 정리\n",
    "    index 로 검색시 번호 검색 0~3 이면 -1\n",
    "    index 명으로 검색시 다 출력"
   ]
  },
  {
   "cell_type": "markdown",
   "metadata": {},
   "source": [
    "loc 속성 <br>\n",
    "- 데이터를 slicing 기술 <br>\n",
    "- loc[index,colums]\n",
    "- iloc[[index],[index]]\n",
    "   :  행과 열의 번호를 이용해서 데이터 활용이 가능"
   ]
  },
  {
   "cell_type": "code",
   "execution_count": 99,
   "metadata": {},
   "outputs": [
    {
     "data": {
      "text/plain": [
       "a   -0.697431\n",
       "b    0.438184\n",
       "Name: 2018-12-12 00:00:00, dtype: float64"
      ]
     },
     "execution_count": 99,
     "metadata": {},
     "output_type": "execute_result"
    }
   ],
   "source": [
    "df.loc['2018-12-12', ['a','b']] # 형식이 다름?"
   ]
  },
  {
   "cell_type": "code",
   "execution_count": null,
   "metadata": {},
   "outputs": [],
   "source": []
  },
  {
   "cell_type": "code",
   "execution_count": 57,
   "metadata": {},
   "outputs": [
    {
     "data": {
      "text/plain": [
       "pandas.core.indexing._LocIndexer"
      ]
     },
     "execution_count": 57,
     "metadata": {},
     "output_type": "execute_result"
    }
   ],
   "source": [
    "type(df.loc)"
   ]
  },
  {
   "cell_type": "code",
   "execution_count": 79,
   "metadata": {},
   "outputs": [
    {
     "data": {
      "text/html": [
       "<div>\n",
       "<style scoped>\n",
       "    .dataframe tbody tr th:only-of-type {\n",
       "        vertical-align: middle;\n",
       "    }\n",
       "\n",
       "    .dataframe tbody tr th {\n",
       "        vertical-align: top;\n",
       "    }\n",
       "\n",
       "    .dataframe thead th {\n",
       "        text-align: right;\n",
       "    }\n",
       "</style>\n",
       "<table border=\"1\" class=\"dataframe\">\n",
       "  <thead>\n",
       "    <tr style=\"text-align: right;\">\n",
       "      <th></th>\n",
       "      <th>b</th>\n",
       "      <th>c</th>\n",
       "    </tr>\n",
       "  </thead>\n",
       "  <tbody>\n",
       "    <tr>\n",
       "      <th>2018-12-12</th>\n",
       "      <td>0.438184</td>\n",
       "      <td>-0.445619</td>\n",
       "    </tr>\n",
       "  </tbody>\n",
       "</table>\n",
       "</div>"
      ],
      "text/plain": [
       "                   b         c\n",
       "2018-12-12  0.438184 -0.445619"
      ]
     },
     "execution_count": 79,
     "metadata": {},
     "output_type": "execute_result"
    }
   ],
   "source": [
    "df.iloc[[2], [1,2]] # iloc()로 index번호로만 검색하기"
   ]
  },
  {
   "cell_type": "code",
   "execution_count": 86,
   "metadata": {},
   "outputs": [
    {
     "data": {
      "text/html": [
       "<div>\n",
       "<style scoped>\n",
       "    .dataframe tbody tr th:only-of-type {\n",
       "        vertical-align: middle;\n",
       "    }\n",
       "\n",
       "    .dataframe tbody tr th {\n",
       "        vertical-align: top;\n",
       "    }\n",
       "\n",
       "    .dataframe thead th {\n",
       "        text-align: right;\n",
       "    }\n",
       "</style>\n",
       "<table border=\"1\" class=\"dataframe\">\n",
       "  <thead>\n",
       "    <tr style=\"text-align: right;\">\n",
       "      <th></th>\n",
       "      <th>b</th>\n",
       "    </tr>\n",
       "  </thead>\n",
       "  <tbody>\n",
       "    <tr>\n",
       "      <th>2018-12-12</th>\n",
       "      <td>0.438184</td>\n",
       "    </tr>\n",
       "  </tbody>\n",
       "</table>\n",
       "</div>"
      ],
      "text/plain": [
       "                   b\n",
       "2018-12-12  0.438184"
      ]
     },
     "execution_count": 86,
     "metadata": {},
     "output_type": "execute_result"
    }
   ],
   "source": [
    "x = df.iloc[[2]]\n",
    "x\n",
    "x.loc[:,['b']]"
   ]
  },
  {
   "cell_type": "code",
   "execution_count": 90,
   "metadata": {},
   "outputs": [
    {
     "data": {
      "text/html": [
       "<div>\n",
       "<style scoped>\n",
       "    .dataframe tbody tr th:only-of-type {\n",
       "        vertical-align: middle;\n",
       "    }\n",
       "\n",
       "    .dataframe tbody tr th {\n",
       "        vertical-align: top;\n",
       "    }\n",
       "\n",
       "    .dataframe thead th {\n",
       "        text-align: right;\n",
       "    }\n",
       "</style>\n",
       "<table border=\"1\" class=\"dataframe\">\n",
       "  <thead>\n",
       "    <tr style=\"text-align: right;\">\n",
       "      <th></th>\n",
       "      <th>b</th>\n",
       "    </tr>\n",
       "  </thead>\n",
       "  <tbody>\n",
       "    <tr>\n",
       "      <th>2018-12-12</th>\n",
       "      <td>0.438184</td>\n",
       "    </tr>\n",
       "  </tbody>\n",
       "</table>\n",
       "</div>"
      ],
      "text/plain": [
       "                   b\n",
       "2018-12-12  0.438184"
      ]
     },
     "execution_count": 90,
     "metadata": {},
     "output_type": "execute_result"
    }
   ],
   "source": [
    "df.iloc[[2],[1]]"
   ]
  },
  {
   "cell_type": "code",
   "execution_count": 101,
   "metadata": {},
   "outputs": [
    {
     "data": {
      "text/plain": [
       "0.43818401946210517"
      ]
     },
     "execution_count": 101,
     "metadata": {},
     "output_type": "execute_result"
    }
   ],
   "source": [
    "df.loc['2018-12-12','b']"
   ]
  },
  {
   "cell_type": "code",
   "execution_count": 102,
   "metadata": {},
   "outputs": [
    {
     "data": {
      "text/plain": [
       "numpy.float64"
      ]
     },
     "execution_count": 102,
     "metadata": {},
     "output_type": "execute_result"
    }
   ],
   "source": [
    "type(df.loc['2018-12-12','b'])"
   ]
  },
  {
   "cell_type": "code",
   "execution_count": 89,
   "metadata": {},
   "outputs": [
    {
     "data": {
      "text/plain": [
       "pandas.core.frame.DataFrame"
      ]
     },
     "execution_count": 89,
     "metadata": {},
     "output_type": "execute_result"
    }
   ],
   "source": [
    "type(df.iloc[[2],[1]])"
   ]
  },
  {
   "cell_type": "markdown",
   "metadata": {},
   "source": [
    "문제 - 12월 12일에 b컬럼값 반환 loc ? iloc ? 가 타입이 다름\n",
    "활용하기 나름"
   ]
  },
  {
   "cell_type": "code",
   "execution_count": 127,
   "metadata": {},
   "outputs": [
    {
     "data": {
      "text/html": [
       "<div>\n",
       "<style scoped>\n",
       "    .dataframe tbody tr th:only-of-type {\n",
       "        vertical-align: middle;\n",
       "    }\n",
       "\n",
       "    .dataframe tbody tr th {\n",
       "        vertical-align: top;\n",
       "    }\n",
       "\n",
       "    .dataframe thead th {\n",
       "        text-align: right;\n",
       "    }\n",
       "</style>\n",
       "<table border=\"1\" class=\"dataframe\">\n",
       "  <thead>\n",
       "    <tr style=\"text-align: right;\">\n",
       "      <th></th>\n",
       "      <th>a</th>\n",
       "      <th>b</th>\n",
       "      <th>c</th>\n",
       "      <th>d</th>\n",
       "    </tr>\n",
       "  </thead>\n",
       "  <tbody>\n",
       "    <tr>\n",
       "      <th>2018-12-10</th>\n",
       "      <td>10.000000</td>\n",
       "      <td>-1.572946</td>\n",
       "      <td>0.086986</td>\n",
       "      <td>0.923304</td>\n",
       "    </tr>\n",
       "    <tr>\n",
       "      <th>2018-12-11</th>\n",
       "      <td>-0.290137</td>\n",
       "      <td>-0.552569</td>\n",
       "      <td>-0.648360</td>\n",
       "      <td>-2.031389</td>\n",
       "    </tr>\n",
       "    <tr>\n",
       "      <th>2018-12-12</th>\n",
       "      <td>-0.697431</td>\n",
       "      <td>0.438184</td>\n",
       "      <td>-0.445619</td>\n",
       "      <td>1.819321</td>\n",
       "    </tr>\n",
       "    <tr>\n",
       "      <th>2018-12-13</th>\n",
       "      <td>-1.395159</td>\n",
       "      <td>-0.310460</td>\n",
       "      <td>-0.636245</td>\n",
       "      <td>1.117384</td>\n",
       "    </tr>\n",
       "    <tr>\n",
       "      <th>2018-12-14</th>\n",
       "      <td>0.145845</td>\n",
       "      <td>-0.025134</td>\n",
       "      <td>-0.720890</td>\n",
       "      <td>-0.913996</td>\n",
       "    </tr>\n",
       "    <tr>\n",
       "      <th>2018-12-15</th>\n",
       "      <td>0.445046</td>\n",
       "      <td>-1.508589</td>\n",
       "      <td>-1.523788</td>\n",
       "      <td>-1.065776</td>\n",
       "    </tr>\n",
       "  </tbody>\n",
       "</table>\n",
       "</div>"
      ],
      "text/plain": [
       "                    a         b         c         d\n",
       "2018-12-10  10.000000 -1.572946  0.086986  0.923304\n",
       "2018-12-11  -0.290137 -0.552569 -0.648360 -2.031389\n",
       "2018-12-12  -0.697431  0.438184 -0.445619  1.819321\n",
       "2018-12-13  -1.395159 -0.310460 -0.636245  1.117384\n",
       "2018-12-14   0.145845 -0.025134 -0.720890 -0.913996\n",
       "2018-12-15   0.445046 -1.508589 -1.523788 -1.065776"
      ]
     },
     "execution_count": 127,
     "metadata": {},
     "output_type": "execute_result"
    }
   ],
   "source": [
    "# Dataframe 객체 복제해서 새로운 객체 생성해서 대입 -> copy()\n",
    "df2 = df.copy()\n",
    "df2"
   ]
  },
  {
   "cell_type": "code",
   "execution_count": 128,
   "metadata": {},
   "outputs": [
    {
     "data": {
      "text/html": [
       "<div>\n",
       "<style scoped>\n",
       "    .dataframe tbody tr th:only-of-type {\n",
       "        vertical-align: middle;\n",
       "    }\n",
       "\n",
       "    .dataframe tbody tr th {\n",
       "        vertical-align: top;\n",
       "    }\n",
       "\n",
       "    .dataframe thead th {\n",
       "        text-align: right;\n",
       "    }\n",
       "</style>\n",
       "<table border=\"1\" class=\"dataframe\">\n",
       "  <thead>\n",
       "    <tr style=\"text-align: right;\">\n",
       "      <th></th>\n",
       "      <th>a</th>\n",
       "      <th>b</th>\n",
       "      <th>c</th>\n",
       "      <th>d</th>\n",
       "    </tr>\n",
       "  </thead>\n",
       "  <tbody>\n",
       "    <tr>\n",
       "      <th>2018-12-10</th>\n",
       "      <td>123.000000</td>\n",
       "      <td>-1.572946</td>\n",
       "      <td>0.086986</td>\n",
       "      <td>0.923304</td>\n",
       "    </tr>\n",
       "    <tr>\n",
       "      <th>2018-12-11</th>\n",
       "      <td>-0.290137</td>\n",
       "      <td>-0.552569</td>\n",
       "      <td>-0.648360</td>\n",
       "      <td>-2.031389</td>\n",
       "    </tr>\n",
       "    <tr>\n",
       "      <th>2018-12-12</th>\n",
       "      <td>-0.697431</td>\n",
       "      <td>0.438184</td>\n",
       "      <td>-0.445619</td>\n",
       "      <td>1.819321</td>\n",
       "    </tr>\n",
       "    <tr>\n",
       "      <th>2018-12-13</th>\n",
       "      <td>-1.395159</td>\n",
       "      <td>-0.310460</td>\n",
       "      <td>-0.636245</td>\n",
       "      <td>1.117384</td>\n",
       "    </tr>\n",
       "    <tr>\n",
       "      <th>2018-12-14</th>\n",
       "      <td>0.145845</td>\n",
       "      <td>-0.025134</td>\n",
       "      <td>-0.720890</td>\n",
       "      <td>-0.913996</td>\n",
       "    </tr>\n",
       "    <tr>\n",
       "      <th>2018-12-15</th>\n",
       "      <td>0.445046</td>\n",
       "      <td>-1.508589</td>\n",
       "      <td>-1.523788</td>\n",
       "      <td>-1.065776</td>\n",
       "    </tr>\n",
       "  </tbody>\n",
       "</table>\n",
       "</div>"
      ],
      "text/plain": [
       "                     a         b         c         d\n",
       "2018-12-10  123.000000 -1.572946  0.086986  0.923304\n",
       "2018-12-11   -0.290137 -0.552569 -0.648360 -2.031389\n",
       "2018-12-12   -0.697431  0.438184 -0.445619  1.819321\n",
       "2018-12-13   -1.395159 -0.310460 -0.636245  1.117384\n",
       "2018-12-14    0.145845 -0.025134 -0.720890 -0.913996\n",
       "2018-12-15    0.445046 -1.508589 -1.523788 -1.065776"
      ]
     },
     "execution_count": 128,
     "metadata": {},
     "output_type": "execute_result"
    }
   ],
   "source": [
    "\n",
    "df2.loc['2018-12-10','a'] = 123\n",
    "df2"
   ]
  },
  {
   "cell_type": "code",
   "execution_count": 129,
   "metadata": {},
   "outputs": [
    {
     "data": {
      "text/plain": [
       "numpy.float64"
      ]
     },
     "execution_count": 129,
     "metadata": {},
     "output_type": "execute_result"
    }
   ],
   "source": [
    "type(df2.loc['2018-12-10','a'])"
   ]
  },
  {
   "cell_type": "code",
   "execution_count": 130,
   "metadata": {},
   "outputs": [
    {
     "data": {
      "text/html": [
       "<div>\n",
       "<style scoped>\n",
       "    .dataframe tbody tr th:only-of-type {\n",
       "        vertical-align: middle;\n",
       "    }\n",
       "\n",
       "    .dataframe tbody tr th {\n",
       "        vertical-align: top;\n",
       "    }\n",
       "\n",
       "    .dataframe thead th {\n",
       "        text-align: right;\n",
       "    }\n",
       "</style>\n",
       "<table border=\"1\" class=\"dataframe\">\n",
       "  <thead>\n",
       "    <tr style=\"text-align: right;\">\n",
       "      <th></th>\n",
       "      <th>a</th>\n",
       "      <th>b</th>\n",
       "      <th>c</th>\n",
       "      <th>d</th>\n",
       "    </tr>\n",
       "  </thead>\n",
       "  <tbody>\n",
       "    <tr>\n",
       "      <th>2018-12-10</th>\n",
       "      <td>10.000000</td>\n",
       "      <td>-1.572946</td>\n",
       "      <td>0.086986</td>\n",
       "      <td>0.923304</td>\n",
       "    </tr>\n",
       "    <tr>\n",
       "      <th>2018-12-11</th>\n",
       "      <td>-0.290137</td>\n",
       "      <td>-0.552569</td>\n",
       "      <td>-0.648360</td>\n",
       "      <td>-2.031389</td>\n",
       "    </tr>\n",
       "    <tr>\n",
       "      <th>2018-12-12</th>\n",
       "      <td>-0.697431</td>\n",
       "      <td>0.438184</td>\n",
       "      <td>-0.445619</td>\n",
       "      <td>1.819321</td>\n",
       "    </tr>\n",
       "    <tr>\n",
       "      <th>2018-12-13</th>\n",
       "      <td>-1.395159</td>\n",
       "      <td>-0.310460</td>\n",
       "      <td>-0.636245</td>\n",
       "      <td>1.117384</td>\n",
       "    </tr>\n",
       "    <tr>\n",
       "      <th>2018-12-14</th>\n",
       "      <td>0.145845</td>\n",
       "      <td>-0.025134</td>\n",
       "      <td>-0.720890</td>\n",
       "      <td>-0.913996</td>\n",
       "    </tr>\n",
       "    <tr>\n",
       "      <th>2018-12-15</th>\n",
       "      <td>0.445046</td>\n",
       "      <td>-1.508589</td>\n",
       "      <td>-1.523788</td>\n",
       "      <td>-1.065776</td>\n",
       "    </tr>\n",
       "  </tbody>\n",
       "</table>\n",
       "</div>"
      ],
      "text/plain": [
       "                    a         b         c         d\n",
       "2018-12-10  10.000000 -1.572946  0.086986  0.923304\n",
       "2018-12-11  -0.290137 -0.552569 -0.648360 -2.031389\n",
       "2018-12-12  -0.697431  0.438184 -0.445619  1.819321\n",
       "2018-12-13  -1.395159 -0.310460 -0.636245  1.117384\n",
       "2018-12-14   0.145845 -0.025134 -0.720890 -0.913996\n",
       "2018-12-15   0.445046 -1.508589 -1.523788 -1.065776"
      ]
     },
     "execution_count": 130,
     "metadata": {},
     "output_type": "execute_result"
    }
   ],
   "source": [
    "# df의 주소값을 넘김 - 즉 객체지향\n",
    "df3 = df\n",
    "df3.iloc[[0],[0]] = 10\n",
    "df3"
   ]
  },
  {
   "cell_type": "code",
   "execution_count": 135,
   "metadata": {},
   "outputs": [
    {
     "data": {
      "text/html": [
       "<div>\n",
       "<style scoped>\n",
       "    .dataframe tbody tr th:only-of-type {\n",
       "        vertical-align: middle;\n",
       "    }\n",
       "\n",
       "    .dataframe tbody tr th {\n",
       "        vertical-align: top;\n",
       "    }\n",
       "\n",
       "    .dataframe thead th {\n",
       "        text-align: right;\n",
       "    }\n",
       "</style>\n",
       "<table border=\"1\" class=\"dataframe\">\n",
       "  <thead>\n",
       "    <tr style=\"text-align: right;\">\n",
       "      <th></th>\n",
       "      <th>a</th>\n",
       "      <th>b</th>\n",
       "      <th>c</th>\n",
       "      <th>d</th>\n",
       "      <th>e</th>\n",
       "    </tr>\n",
       "  </thead>\n",
       "  <tbody>\n",
       "    <tr>\n",
       "      <th>2018-12-10</th>\n",
       "      <td>123.000000</td>\n",
       "      <td>-1.572946</td>\n",
       "      <td>0.086986</td>\n",
       "      <td>0.923304</td>\n",
       "      <td>1.0</td>\n",
       "    </tr>\n",
       "    <tr>\n",
       "      <th>2018-12-11</th>\n",
       "      <td>-0.290137</td>\n",
       "      <td>-0.552569</td>\n",
       "      <td>-0.648360</td>\n",
       "      <td>-2.031389</td>\n",
       "      <td>2.0</td>\n",
       "    </tr>\n",
       "    <tr>\n",
       "      <th>2018-12-12</th>\n",
       "      <td>-0.697431</td>\n",
       "      <td>0.438184</td>\n",
       "      <td>-0.445619</td>\n",
       "      <td>1.819321</td>\n",
       "      <td>3.0</td>\n",
       "    </tr>\n",
       "    <tr>\n",
       "      <th>2018-12-13</th>\n",
       "      <td>-1.395159</td>\n",
       "      <td>-0.310460</td>\n",
       "      <td>-0.636245</td>\n",
       "      <td>1.117384</td>\n",
       "      <td>4.0</td>\n",
       "    </tr>\n",
       "    <tr>\n",
       "      <th>2018-12-14</th>\n",
       "      <td>0.145845</td>\n",
       "      <td>-0.025134</td>\n",
       "      <td>-0.720890</td>\n",
       "      <td>-0.913996</td>\n",
       "      <td>NaN</td>\n",
       "    </tr>\n",
       "    <tr>\n",
       "      <th>2018-12-15</th>\n",
       "      <td>0.445046</td>\n",
       "      <td>-1.508589</td>\n",
       "      <td>-1.523788</td>\n",
       "      <td>-1.065776</td>\n",
       "      <td>6.0</td>\n",
       "    </tr>\n",
       "  </tbody>\n",
       "</table>\n",
       "</div>"
      ],
      "text/plain": [
       "                     a         b         c         d    e\n",
       "2018-12-10  123.000000 -1.572946  0.086986  0.923304  1.0\n",
       "2018-12-11   -0.290137 -0.552569 -0.648360 -2.031389  2.0\n",
       "2018-12-12   -0.697431  0.438184 -0.445619  1.819321  3.0\n",
       "2018-12-13   -1.395159 -0.310460 -0.636245  1.117384  4.0\n",
       "2018-12-14    0.145845 -0.025134 -0.720890 -0.913996  NaN\n",
       "2018-12-15    0.445046 -1.508589 -1.523788 -1.065776  6.0"
      ]
     },
     "execution_count": 135,
     "metadata": {},
     "output_type": "execute_result"
    }
   ],
   "source": [
    "# 이미 존재하는 dataframe 에 새로운 컬럼 추가\n",
    "df2['e'] = [1,2,3,4,np.nan,6]\n",
    "df2"
   ]
  },
  {
   "cell_type": "code",
   "execution_count": 132,
   "metadata": {},
   "outputs": [
    {
     "data": {
      "text/plain": [
       "pandas.core.series.Series"
      ]
     },
     "execution_count": 132,
     "metadata": {},
     "output_type": "execute_result"
    }
   ],
   "source": [
    "type(df2['e'])"
   ]
  },
  {
   "cell_type": "code",
   "execution_count": 133,
   "metadata": {},
   "outputs": [
    {
     "data": {
      "text/html": [
       "<div>\n",
       "<style scoped>\n",
       "    .dataframe tbody tr th:only-of-type {\n",
       "        vertical-align: middle;\n",
       "    }\n",
       "\n",
       "    .dataframe tbody tr th {\n",
       "        vertical-align: top;\n",
       "    }\n",
       "\n",
       "    .dataframe thead th {\n",
       "        text-align: right;\n",
       "    }\n",
       "</style>\n",
       "<table border=\"1\" class=\"dataframe\">\n",
       "  <thead>\n",
       "    <tr style=\"text-align: right;\">\n",
       "      <th></th>\n",
       "      <th>a</th>\n",
       "      <th>b</th>\n",
       "      <th>c</th>\n",
       "      <th>d</th>\n",
       "    </tr>\n",
       "  </thead>\n",
       "  <tbody>\n",
       "    <tr>\n",
       "      <th>2018-12-10</th>\n",
       "      <td>123.000000</td>\n",
       "      <td>-1.572946</td>\n",
       "      <td>0.086986</td>\n",
       "      <td>0.923304</td>\n",
       "    </tr>\n",
       "    <tr>\n",
       "      <th>2018-12-11</th>\n",
       "      <td>-0.290137</td>\n",
       "      <td>-0.552569</td>\n",
       "      <td>-0.648360</td>\n",
       "      <td>-2.031389</td>\n",
       "    </tr>\n",
       "    <tr>\n",
       "      <th>2018-12-12</th>\n",
       "      <td>-0.697431</td>\n",
       "      <td>0.438184</td>\n",
       "      <td>-0.445619</td>\n",
       "      <td>1.819321</td>\n",
       "    </tr>\n",
       "    <tr>\n",
       "      <th>2018-12-13</th>\n",
       "      <td>-1.395159</td>\n",
       "      <td>-0.310460</td>\n",
       "      <td>-0.636245</td>\n",
       "      <td>1.117384</td>\n",
       "    </tr>\n",
       "    <tr>\n",
       "      <th>2018-12-14</th>\n",
       "      <td>0.145845</td>\n",
       "      <td>-0.025134</td>\n",
       "      <td>-0.720890</td>\n",
       "      <td>-0.913996</td>\n",
       "    </tr>\n",
       "    <tr>\n",
       "      <th>2018-12-15</th>\n",
       "      <td>0.445046</td>\n",
       "      <td>-1.508589</td>\n",
       "      <td>-1.523788</td>\n",
       "      <td>-1.065776</td>\n",
       "    </tr>\n",
       "  </tbody>\n",
       "</table>\n",
       "</div>"
      ],
      "text/plain": [
       "                     a         b         c         d\n",
       "2018-12-10  123.000000 -1.572946  0.086986  0.923304\n",
       "2018-12-11   -0.290137 -0.552569 -0.648360 -2.031389\n",
       "2018-12-12   -0.697431  0.438184 -0.445619  1.819321\n",
       "2018-12-13   -1.395159 -0.310460 -0.636245  1.117384\n",
       "2018-12-14    0.145845 -0.025134 -0.720890 -0.913996\n",
       "2018-12-15    0.445046 -1.508589 -1.523788 -1.065776"
      ]
     },
     "execution_count": 133,
     "metadata": {},
     "output_type": "execute_result"
    }
   ],
   "source": [
    "# del df2['e']\n",
    "df2"
   ]
  },
  {
   "cell_type": "code",
   "execution_count": 136,
   "metadata": {},
   "outputs": [
    {
     "data": {
      "text/plain": [
       "2018-12-10     True\n",
       "2018-12-11    False\n",
       "2018-12-12     True\n",
       "2018-12-13    False\n",
       "2018-12-14    False\n",
       "2018-12-15     True\n",
       "Freq: D, Name: e, dtype: bool"
      ]
     },
     "execution_count": 136,
     "metadata": {},
     "output_type": "execute_result"
    }
   ],
   "source": [
    "# 해당 데이터 열에 존재 여부 검증하는 함수\n",
    "df2['e'].isin([1,3,5,6])"
   ]
  },
  {
   "cell_type": "code",
   "execution_count": 137,
   "metadata": {},
   "outputs": [
    {
     "data": {
      "text/plain": [
       "10.0"
      ]
     },
     "execution_count": 137,
     "metadata": {},
     "output_type": "execute_result"
    }
   ],
   "source": [
    "df['a'].max()"
   ]
  },
  {
   "cell_type": "code",
   "execution_count": 138,
   "metadata": {},
   "outputs": [
    {
     "data": {
      "text/plain": [
       "-1.3951588224862395"
      ]
     },
     "execution_count": 138,
     "metadata": {},
     "output_type": "execute_result"
    }
   ],
   "source": [
    "df['a'].min()"
   ]
  },
  {
   "cell_type": "code",
   "execution_count": 143,
   "metadata": {},
   "outputs": [
    {
     "data": {
      "text/plain": [
       "11.39515882248624"
      ]
     },
     "execution_count": 143,
     "metadata": {},
     "output_type": "execute_result"
    }
   ],
   "source": [
    "# a 컬럼에서 최대값 - 최소값 연산하기 : 연산식이 가능\n",
    "df['a'].max() - df['a'].min()"
   ]
  },
  {
   "cell_type": "code",
   "execution_count": 144,
   "metadata": {},
   "outputs": [
    {
     "data": {
      "text/plain": [
       "a    11.395159\n",
       "b     2.011130\n",
       "c     1.610774\n",
       "d     3.850710\n",
       "dtype: float64"
      ]
     },
     "execution_count": 144,
     "metadata": {},
     "output_type": "execute_result"
    }
   ],
   "source": [
    "# 모든 컬럼에서 최대값 - 최소값 연산하기 \n",
    "df.max() - df.min()"
   ]
  },
  {
   "cell_type": "code",
   "execution_count": 146,
   "metadata": {},
   "outputs": [
    {
     "data": {
      "text/plain": [
       "a    11.395159\n",
       "b     2.011130\n",
       "c     1.610774\n",
       "d     3.850710\n",
       "dtype: float64"
      ]
     },
     "execution_count": 146,
     "metadata": {},
     "output_type": "execute_result"
    }
   ],
   "source": [
    "# 사용자 정의 함수를 호출 또는 람다 표현식을 사용 가능한 dataframe의 함수\n",
    "# apply로 파라미터로 유입시켜 생성\n",
    "# 최대값 - 최소값 : 각 컬럼별 데이터 파악 후 대소비교 후 연산\n",
    "df.apply(lambda x : x.max() - x.min())"
   ]
  },
  {
   "cell_type": "code",
   "execution_count": 154,
   "metadata": {},
   "outputs": [
    {
     "name": "stdout",
     "output_type": "stream",
     "text": [
      "2018-12-10    10.000000\n",
      "2018-12-11    -0.290137\n",
      "2018-12-12    -0.697431\n",
      "2018-12-13    -1.395159\n",
      "2018-12-14     0.145845\n",
      "2018-12-15     0.445046\n",
      "Freq: D, Name: a, dtype: float64 \n",
      "----------------------\n",
      "2018-12-10   -1.572946\n",
      "2018-12-11   -0.552569\n",
      "2018-12-12    0.438184\n",
      "2018-12-13   -0.310460\n",
      "2018-12-14   -0.025134\n",
      "2018-12-15   -1.508589\n",
      "Freq: D, Name: b, dtype: float64 \n",
      "----------------------\n",
      "2018-12-10    0.086986\n",
      "2018-12-11   -0.648360\n",
      "2018-12-12   -0.445619\n",
      "2018-12-13   -0.636245\n",
      "2018-12-14   -0.720890\n",
      "2018-12-15   -1.523788\n",
      "Freq: D, Name: c, dtype: float64 \n",
      "----------------------\n",
      "2018-12-10    0.923304\n",
      "2018-12-11   -2.031389\n",
      "2018-12-12    1.819321\n",
      "2018-12-13    1.117384\n",
      "2018-12-14   -0.913996\n",
      "2018-12-15   -1.065776\n",
      "Freq: D, Name: d, dtype: float64 \n",
      "----------------------\n"
     ]
    },
    {
     "data": {
      "text/plain": [
       "a    None\n",
       "b    None\n",
       "c    None\n",
       "d    None\n",
       "dtype: object"
      ]
     },
     "execution_count": 154,
     "metadata": {},
     "output_type": "execute_result"
    }
   ],
   "source": [
    "# apply()가 몇번 호출될지 파악하는 로직을 lambda로 단순확인해보기\n",
    "df.apply(lambda x : print(x,'\\n----------------------'))\n"
   ]
  },
  {
   "cell_type": "code",
   "execution_count": 155,
   "metadata": {},
   "outputs": [
    {
     "data": {
      "text/html": [
       "<div>\n",
       "<style scoped>\n",
       "    .dataframe tbody tr th:only-of-type {\n",
       "        vertical-align: middle;\n",
       "    }\n",
       "\n",
       "    .dataframe tbody tr th {\n",
       "        vertical-align: top;\n",
       "    }\n",
       "\n",
       "    .dataframe thead th {\n",
       "        text-align: right;\n",
       "    }\n",
       "</style>\n",
       "<table border=\"1\" class=\"dataframe\">\n",
       "  <thead>\n",
       "    <tr style=\"text-align: right;\">\n",
       "      <th></th>\n",
       "      <th>a</th>\n",
       "      <th>b</th>\n",
       "      <th>c</th>\n",
       "      <th>d</th>\n",
       "    </tr>\n",
       "  </thead>\n",
       "  <tbody>\n",
       "    <tr>\n",
       "      <th>2018-12-10</th>\n",
       "      <td>10.000000</td>\n",
       "      <td>-1.572946</td>\n",
       "      <td>0.086986</td>\n",
       "      <td>0.923304</td>\n",
       "    </tr>\n",
       "    <tr>\n",
       "      <th>2018-12-11</th>\n",
       "      <td>-0.290137</td>\n",
       "      <td>-0.552569</td>\n",
       "      <td>-0.648360</td>\n",
       "      <td>-2.031389</td>\n",
       "    </tr>\n",
       "    <tr>\n",
       "      <th>2018-12-12</th>\n",
       "      <td>-0.697431</td>\n",
       "      <td>0.438184</td>\n",
       "      <td>-0.445619</td>\n",
       "      <td>1.819321</td>\n",
       "    </tr>\n",
       "    <tr>\n",
       "      <th>2018-12-13</th>\n",
       "      <td>-1.395159</td>\n",
       "      <td>-0.310460</td>\n",
       "      <td>-0.636245</td>\n",
       "      <td>1.117384</td>\n",
       "    </tr>\n",
       "    <tr>\n",
       "      <th>2018-12-14</th>\n",
       "      <td>0.145845</td>\n",
       "      <td>-0.025134</td>\n",
       "      <td>-0.720890</td>\n",
       "      <td>-0.913996</td>\n",
       "    </tr>\n",
       "    <tr>\n",
       "      <th>2018-12-15</th>\n",
       "      <td>0.445046</td>\n",
       "      <td>-1.508589</td>\n",
       "      <td>-1.523788</td>\n",
       "      <td>-1.065776</td>\n",
       "    </tr>\n",
       "  </tbody>\n",
       "</table>\n",
       "</div>"
      ],
      "text/plain": [
       "                    a         b         c         d\n",
       "2018-12-10  10.000000 -1.572946  0.086986  0.923304\n",
       "2018-12-11  -0.290137 -0.552569 -0.648360 -2.031389\n",
       "2018-12-12  -0.697431  0.438184 -0.445619  1.819321\n",
       "2018-12-13  -1.395159 -0.310460 -0.636245  1.117384\n",
       "2018-12-14   0.145845 -0.025134 -0.720890 -0.913996\n",
       "2018-12-15   0.445046 -1.508589 -1.523788 -1.065776"
      ]
     },
     "execution_count": 155,
     "metadata": {},
     "output_type": "execute_result"
    }
   ],
   "source": [
    "df"
   ]
  },
  {
   "cell_type": "markdown",
   "metadata": {},
   "source": [
    "### 이미 존재하는 파일의 내용을 기반으로 Dataframe 생성하기"
   ]
  },
  {
   "cell_type": "code",
   "execution_count": 159,
   "metadata": {},
   "outputs": [
    {
     "data": {
      "text/html": [
       "<div>\n",
       "<style scoped>\n",
       "    .dataframe tbody tr th:only-of-type {\n",
       "        vertical-align: middle;\n",
       "    }\n",
       "\n",
       "    .dataframe tbody tr th {\n",
       "        vertical-align: top;\n",
       "    }\n",
       "\n",
       "    .dataframe thead th {\n",
       "        text-align: right;\n",
       "    }\n",
       "</style>\n",
       "<table border=\"1\" class=\"dataframe\">\n",
       "  <thead>\n",
       "    <tr style=\"text-align: right;\">\n",
       "      <th></th>\n",
       "      <th>이름</th>\n",
       "      <th>나이</th>\n",
       "      <th>직업</th>\n",
       "      <th>hobby</th>\n",
       "    </tr>\n",
       "  </thead>\n",
       "  <tbody>\n",
       "    <tr>\n",
       "      <th>0</th>\n",
       "      <td>신동엽</td>\n",
       "      <td>20</td>\n",
       "      <td>연예인</td>\n",
       "      <td>music</td>\n",
       "    </tr>\n",
       "    <tr>\n",
       "      <th>1</th>\n",
       "      <td>유재석</td>\n",
       "      <td>41</td>\n",
       "      <td>교수</td>\n",
       "      <td>art</td>\n",
       "    </tr>\n",
       "    <tr>\n",
       "      <th>2</th>\n",
       "      <td>김새롬</td>\n",
       "      <td>18</td>\n",
       "      <td>학생</td>\n",
       "      <td>study</td>\n",
       "    </tr>\n",
       "    <tr>\n",
       "      <th>3</th>\n",
       "      <td>이영자</td>\n",
       "      <td>45</td>\n",
       "      <td>상담사</td>\n",
       "      <td>talk</td>\n",
       "    </tr>\n",
       "    <tr>\n",
       "      <th>4</th>\n",
       "      <td>강호동</td>\n",
       "      <td>38</td>\n",
       "      <td>연예인</td>\n",
       "      <td>talk</td>\n",
       "    </tr>\n",
       "  </tbody>\n",
       "</table>\n",
       "</div>"
      ],
      "text/plain": [
       "    이름  나이   직업  hobby\n",
       "0  신동엽  20  연예인  music\n",
       "1  유재석  41   교수    art\n",
       "2  김새롬  18   학생  study\n",
       "3  이영자  45  상담사   talk\n",
       "4  강호동  38  연예인   talk"
      ]
     },
     "execution_count": 159,
     "metadata": {},
     "output_type": "execute_result"
    }
   ],
   "source": [
    "# 외부 폴더의 파일을 read 해서 dataframe 객체 생성\n",
    "# 상대경로 -> 현재 내 위치를 기준으로  \n",
    "# 절대경로 -> 어디서나 절대적으로 찾아갈 수 있는 경로 \"C:\\0.ITstudy\\00.dataSet\\friend.csv\"\n",
    "df = pd.read_csv(\"../00.dataSet/friend.csv\")\n",
    "df"
   ]
  },
  {
   "cell_type": "code",
   "execution_count": 166,
   "metadata": {},
   "outputs": [
    {
     "data": {
      "text/html": [
       "<div>\n",
       "<style scoped>\n",
       "    .dataframe tbody tr th:only-of-type {\n",
       "        vertical-align: middle;\n",
       "    }\n",
       "\n",
       "    .dataframe tbody tr th {\n",
       "        vertical-align: top;\n",
       "    }\n",
       "\n",
       "    .dataframe thead th {\n",
       "        text-align: right;\n",
       "    }\n",
       "</style>\n",
       "<table border=\"1\" class=\"dataframe\">\n",
       "  <thead>\n",
       "    <tr style=\"text-align: right;\">\n",
       "      <th></th>\n",
       "      <th>이름</th>\n",
       "      <th>hobby</th>\n",
       "    </tr>\n",
       "  </thead>\n",
       "  <tbody>\n",
       "    <tr>\n",
       "      <th>0</th>\n",
       "      <td>신동엽</td>\n",
       "      <td>music</td>\n",
       "    </tr>\n",
       "    <tr>\n",
       "      <th>1</th>\n",
       "      <td>유재석</td>\n",
       "      <td>art</td>\n",
       "    </tr>\n",
       "    <tr>\n",
       "      <th>2</th>\n",
       "      <td>김새롬</td>\n",
       "      <td>study</td>\n",
       "    </tr>\n",
       "    <tr>\n",
       "      <th>3</th>\n",
       "      <td>이영자</td>\n",
       "      <td>talk</td>\n",
       "    </tr>\n",
       "    <tr>\n",
       "      <th>4</th>\n",
       "      <td>강호동</td>\n",
       "      <td>talk</td>\n",
       "    </tr>\n",
       "  </tbody>\n",
       "</table>\n",
       "</div>"
      ],
      "text/plain": [
       "    이름  hobby\n",
       "0  신동엽  music\n",
       "1  유재석    art\n",
       "2  김새롬  study\n",
       "3  이영자   talk\n",
       "4  강호동   talk"
      ]
     },
     "execution_count": 166,
     "metadata": {},
     "output_type": "execute_result"
    }
   ],
   "source": [
    "df.loc[:,['이름','hobby']]"
   ]
  },
  {
   "cell_type": "code",
   "execution_count": 176,
   "metadata": {},
   "outputs": [
    {
     "data": {
      "text/html": [
       "<div>\n",
       "<style scoped>\n",
       "    .dataframe tbody tr th:only-of-type {\n",
       "        vertical-align: middle;\n",
       "    }\n",
       "\n",
       "    .dataframe tbody tr th {\n",
       "        vertical-align: top;\n",
       "    }\n",
       "\n",
       "    .dataframe thead th {\n",
       "        text-align: right;\n",
       "    }\n",
       "</style>\n",
       "<table border=\"1\" class=\"dataframe\">\n",
       "  <thead>\n",
       "    <tr style=\"text-align: right;\">\n",
       "      <th></th>\n",
       "      <th>이름</th>\n",
       "      <th>나이</th>\n",
       "      <th>직업</th>\n",
       "      <th>hobby</th>\n",
       "    </tr>\n",
       "  </thead>\n",
       "  <tbody>\n",
       "    <tr>\n",
       "      <th>0</th>\n",
       "      <td>신동엽</td>\n",
       "      <td>20</td>\n",
       "      <td>연예인</td>\n",
       "      <td>music</td>\n",
       "    </tr>\n",
       "    <tr>\n",
       "      <th>1</th>\n",
       "      <td>유재석</td>\n",
       "      <td>41</td>\n",
       "      <td>교수</td>\n",
       "      <td>art</td>\n",
       "    </tr>\n",
       "    <tr>\n",
       "      <th>2</th>\n",
       "      <td>김새롬</td>\n",
       "      <td>18</td>\n",
       "      <td>학생</td>\n",
       "      <td>study</td>\n",
       "    </tr>\n",
       "    <tr>\n",
       "      <th>3</th>\n",
       "      <td>이영순</td>\n",
       "      <td>45</td>\n",
       "      <td>상담사</td>\n",
       "      <td>talk</td>\n",
       "    </tr>\n",
       "    <tr>\n",
       "      <th>4</th>\n",
       "      <td>강호동</td>\n",
       "      <td>38</td>\n",
       "      <td>연예인</td>\n",
       "      <td>talk</td>\n",
       "    </tr>\n",
       "  </tbody>\n",
       "</table>\n",
       "</div>"
      ],
      "text/plain": [
       "    이름  나이   직업  hobby\n",
       "0  신동엽  20  연예인  music\n",
       "1  유재석  41   교수    art\n",
       "2  김새롬  18   학생  study\n",
       "3  이영순  45  상담사   talk\n",
       "4  강호동  38  연예인   talk"
      ]
     },
     "execution_count": 176,
     "metadata": {},
     "output_type": "execute_result"
    }
   ],
   "source": [
    "# 이영자를 이영순으로 바꾸어보기\n",
    "df.loc[3,'이름'] = '이영순'\n",
    "df"
   ]
  },
  {
   "cell_type": "code",
   "execution_count": null,
   "metadata": {},
   "outputs": [],
   "source": []
  },
  {
   "cell_type": "code",
   "execution_count": 175,
   "metadata": {},
   "outputs": [
    {
     "data": {
      "text/html": [
       "<div>\n",
       "<style scoped>\n",
       "    .dataframe tbody tr th:only-of-type {\n",
       "        vertical-align: middle;\n",
       "    }\n",
       "\n",
       "    .dataframe tbody tr th {\n",
       "        vertical-align: top;\n",
       "    }\n",
       "\n",
       "    .dataframe thead th {\n",
       "        text-align: right;\n",
       "    }\n",
       "</style>\n",
       "<table border=\"1\" class=\"dataframe\">\n",
       "  <thead>\n",
       "    <tr style=\"text-align: right;\">\n",
       "      <th></th>\n",
       "      <th>이름</th>\n",
       "      <th>나이</th>\n",
       "      <th>직업</th>\n",
       "      <th>hobby</th>\n",
       "    </tr>\n",
       "  </thead>\n",
       "  <tbody>\n",
       "    <tr>\n",
       "      <th>0</th>\n",
       "      <td>신동엽</td>\n",
       "      <td>20</td>\n",
       "      <td>연예인</td>\n",
       "      <td>music</td>\n",
       "    </tr>\n",
       "    <tr>\n",
       "      <th>1</th>\n",
       "      <td>유재석</td>\n",
       "      <td>41</td>\n",
       "      <td>교수</td>\n",
       "      <td>art</td>\n",
       "    </tr>\n",
       "    <tr>\n",
       "      <th>2</th>\n",
       "      <td>김새롬</td>\n",
       "      <td>18</td>\n",
       "      <td>학생</td>\n",
       "      <td>study</td>\n",
       "    </tr>\n",
       "    <tr>\n",
       "      <th>3</th>\n",
       "      <td>이영자</td>\n",
       "      <td>45</td>\n",
       "      <td>상담사</td>\n",
       "      <td>talk</td>\n",
       "    </tr>\n",
       "    <tr>\n",
       "      <th>4</th>\n",
       "      <td>강호동</td>\n",
       "      <td>38</td>\n",
       "      <td>연예인</td>\n",
       "      <td>talk</td>\n",
       "    </tr>\n",
       "  </tbody>\n",
       "</table>\n",
       "</div>"
      ],
      "text/plain": [
       "    이름  나이   직업  hobby\n",
       "0  신동엽  20  연예인  music\n",
       "1  유재석  41   교수    art\n",
       "2  김새롬  18   학생  study\n",
       "3  이영자  45  상담사   talk\n",
       "4  강호동  38  연예인   talk"
      ]
     },
     "execution_count": 175,
     "metadata": {},
     "output_type": "execute_result"
    }
   ],
   "source": [
    "# tab 으로 데이터를 구분한 파일의 내용으로 Dataframe 객체 생성하기\n",
    "df = pd.read_csv(\"../00.dataSet/friendsTab.txt\", delimiter='\\t')\n",
    "df"
   ]
  },
  {
   "cell_type": "markdown",
   "metadata": {},
   "source": [
    "### 원천 데이터 (raw)에 컬럼명으로 사용될 header 정보가 없을 경우 주의사항<br>\n",
    "1. DataFrame 생성시 데이터의 첫 라인이 header정보로 사용되지 않게 속성으로 제어해야함<br>\n",
    "\n",
    "> 1 단계 실습 : 신동엽 정보가 header정보로 사용 -> colums 추가 -> 정보 손실<br>\n",
    "  2 단계 실습 : 데이터 손실없이 작업"
   ]
  },
  {
   "cell_type": "code",
   "execution_count": 187,
   "metadata": {},
   "outputs": [
    {
     "data": {
      "text/html": [
       "<div>\n",
       "<style scoped>\n",
       "    .dataframe tbody tr th:only-of-type {\n",
       "        vertical-align: middle;\n",
       "    }\n",
       "\n",
       "    .dataframe tbody tr th {\n",
       "        vertical-align: top;\n",
       "    }\n",
       "\n",
       "    .dataframe thead th {\n",
       "        text-align: right;\n",
       "    }\n",
       "</style>\n",
       "<table border=\"1\" class=\"dataframe\">\n",
       "  <thead>\n",
       "    <tr style=\"text-align: right;\">\n",
       "      <th></th>\n",
       "      <th>신동엽</th>\n",
       "      <th>20</th>\n",
       "      <th>연예인</th>\n",
       "      <th>music</th>\n",
       "    </tr>\n",
       "  </thead>\n",
       "  <tbody>\n",
       "    <tr>\n",
       "      <th>0</th>\n",
       "      <td>유재석</td>\n",
       "      <td>41</td>\n",
       "      <td>교수</td>\n",
       "      <td>art</td>\n",
       "    </tr>\n",
       "    <tr>\n",
       "      <th>1</th>\n",
       "      <td>김새롬</td>\n",
       "      <td>18</td>\n",
       "      <td>학생</td>\n",
       "      <td>study</td>\n",
       "    </tr>\n",
       "    <tr>\n",
       "      <th>2</th>\n",
       "      <td>이영자</td>\n",
       "      <td>45</td>\n",
       "      <td>상담사</td>\n",
       "      <td>talk</td>\n",
       "    </tr>\n",
       "    <tr>\n",
       "      <th>3</th>\n",
       "      <td>강호동</td>\n",
       "      <td>38</td>\n",
       "      <td>연예인</td>\n",
       "      <td>talk</td>\n",
       "    </tr>\n",
       "  </tbody>\n",
       "</table>\n",
       "</div>"
      ],
      "text/plain": [
       "   신동엽  20  연예인  music\n",
       "0  유재석  41   교수    art\n",
       "1  김새롬  18   학생  study\n",
       "2  이영자  45  상담사   talk\n",
       "3  강호동  38  연예인   talk"
      ]
     },
     "execution_count": 187,
     "metadata": {},
     "output_type": "execute_result"
    }
   ],
   "source": [
    "# header 정보가 없는 파일을 read 해서 가공하기\n",
    "df = pd.read_csv(\"../00.dataSet/friendsTabNoHead.txt\", delimiter='\\t')\n",
    "df"
   ]
  },
  {
   "cell_type": "code",
   "execution_count": 188,
   "metadata": {},
   "outputs": [
    {
     "data": {
      "text/plain": [
       "Index(['신동엽', '20', '연예인', 'music'], dtype='object')"
      ]
     },
     "execution_count": 188,
     "metadata": {},
     "output_type": "execute_result"
    }
   ],
   "source": [
    "df.columns"
   ]
  },
  {
   "cell_type": "code",
   "execution_count": 189,
   "metadata": {},
   "outputs": [
    {
     "data": {
      "text/html": [
       "<div>\n",
       "<style scoped>\n",
       "    .dataframe tbody tr th:only-of-type {\n",
       "        vertical-align: middle;\n",
       "    }\n",
       "\n",
       "    .dataframe tbody tr th {\n",
       "        vertical-align: top;\n",
       "    }\n",
       "\n",
       "    .dataframe thead th {\n",
       "        text-align: right;\n",
       "    }\n",
       "</style>\n",
       "<table border=\"1\" class=\"dataframe\">\n",
       "  <thead>\n",
       "    <tr style=\"text-align: right;\">\n",
       "      <th></th>\n",
       "      <th>name</th>\n",
       "      <th>age</th>\n",
       "      <th>job</th>\n",
       "      <th>hobby</th>\n",
       "    </tr>\n",
       "  </thead>\n",
       "  <tbody>\n",
       "    <tr>\n",
       "      <th>0</th>\n",
       "      <td>유재석</td>\n",
       "      <td>41</td>\n",
       "      <td>교수</td>\n",
       "      <td>art</td>\n",
       "    </tr>\n",
       "    <tr>\n",
       "      <th>1</th>\n",
       "      <td>김새롬</td>\n",
       "      <td>18</td>\n",
       "      <td>학생</td>\n",
       "      <td>study</td>\n",
       "    </tr>\n",
       "    <tr>\n",
       "      <th>2</th>\n",
       "      <td>이영자</td>\n",
       "      <td>45</td>\n",
       "      <td>상담사</td>\n",
       "      <td>talk</td>\n",
       "    </tr>\n",
       "    <tr>\n",
       "      <th>3</th>\n",
       "      <td>강호동</td>\n",
       "      <td>38</td>\n",
       "      <td>연예인</td>\n",
       "      <td>talk</td>\n",
       "    </tr>\n",
       "  </tbody>\n",
       "</table>\n",
       "</div>"
      ],
      "text/plain": [
       "  name  age  job  hobby\n",
       "0  유재석   41   교수    art\n",
       "1  김새롬   18   학생  study\n",
       "2  이영자   45  상담사   talk\n",
       "3  강호동   38  연예인   talk"
      ]
     },
     "execution_count": 189,
     "metadata": {},
     "output_type": "execute_result"
    }
   ],
   "source": [
    "df.columns = ['name', 'age', 'job', 'hobby']\n",
    "df\n",
    "# 신동엽이 사라짐"
   ]
  },
  {
   "cell_type": "code",
   "execution_count": 183,
   "metadata": {},
   "outputs": [
    {
     "data": {
      "text/html": [
       "<div>\n",
       "<style scoped>\n",
       "    .dataframe tbody tr th:only-of-type {\n",
       "        vertical-align: middle;\n",
       "    }\n",
       "\n",
       "    .dataframe tbody tr th {\n",
       "        vertical-align: top;\n",
       "    }\n",
       "\n",
       "    .dataframe thead th {\n",
       "        text-align: right;\n",
       "    }\n",
       "</style>\n",
       "<table border=\"1\" class=\"dataframe\">\n",
       "  <thead>\n",
       "    <tr style=\"text-align: right;\">\n",
       "      <th></th>\n",
       "      <th>0</th>\n",
       "      <th>1</th>\n",
       "      <th>2</th>\n",
       "      <th>3</th>\n",
       "    </tr>\n",
       "  </thead>\n",
       "  <tbody>\n",
       "    <tr>\n",
       "      <th>0</th>\n",
       "      <td>신동엽</td>\n",
       "      <td>20</td>\n",
       "      <td>연예인</td>\n",
       "      <td>music</td>\n",
       "    </tr>\n",
       "    <tr>\n",
       "      <th>1</th>\n",
       "      <td>유재석</td>\n",
       "      <td>41</td>\n",
       "      <td>교수</td>\n",
       "      <td>art</td>\n",
       "    </tr>\n",
       "    <tr>\n",
       "      <th>2</th>\n",
       "      <td>김새롬</td>\n",
       "      <td>18</td>\n",
       "      <td>학생</td>\n",
       "      <td>study</td>\n",
       "    </tr>\n",
       "    <tr>\n",
       "      <th>3</th>\n",
       "      <td>이영자</td>\n",
       "      <td>45</td>\n",
       "      <td>상담사</td>\n",
       "      <td>talk</td>\n",
       "    </tr>\n",
       "    <tr>\n",
       "      <th>4</th>\n",
       "      <td>강호동</td>\n",
       "      <td>38</td>\n",
       "      <td>연예인</td>\n",
       "      <td>talk</td>\n",
       "    </tr>\n",
       "  </tbody>\n",
       "</table>\n",
       "</div>"
      ],
      "text/plain": [
       "     0   1    2      3\n",
       "0  신동엽  20  연예인  music\n",
       "1  유재석  41   교수    art\n",
       "2  김새롬  18   학생  study\n",
       "3  이영자  45  상담사   talk\n",
       "4  강호동  38  연예인   talk"
      ]
     },
     "execution_count": 183,
     "metadata": {},
     "output_type": "execute_result"
    }
   ],
   "source": [
    "# 2 단계 :\n",
    "df = pd.read_csv(\"../00.dataSet/friendsTabNoHead.txt\", delimiter='\\t',header=None)\n",
    "df"
   ]
  },
  {
   "cell_type": "code",
   "execution_count": 184,
   "metadata": {},
   "outputs": [
    {
     "data": {
      "text/html": [
       "<div>\n",
       "<style scoped>\n",
       "    .dataframe tbody tr th:only-of-type {\n",
       "        vertical-align: middle;\n",
       "    }\n",
       "\n",
       "    .dataframe tbody tr th {\n",
       "        vertical-align: top;\n",
       "    }\n",
       "\n",
       "    .dataframe thead th {\n",
       "        text-align: right;\n",
       "    }\n",
       "</style>\n",
       "<table border=\"1\" class=\"dataframe\">\n",
       "  <thead>\n",
       "    <tr style=\"text-align: right;\">\n",
       "      <th></th>\n",
       "      <th>name</th>\n",
       "      <th>age</th>\n",
       "      <th>job</th>\n",
       "      <th>hobby</th>\n",
       "    </tr>\n",
       "  </thead>\n",
       "  <tbody>\n",
       "    <tr>\n",
       "      <th>0</th>\n",
       "      <td>신동엽</td>\n",
       "      <td>20</td>\n",
       "      <td>연예인</td>\n",
       "      <td>music</td>\n",
       "    </tr>\n",
       "    <tr>\n",
       "      <th>1</th>\n",
       "      <td>유재석</td>\n",
       "      <td>41</td>\n",
       "      <td>교수</td>\n",
       "      <td>art</td>\n",
       "    </tr>\n",
       "    <tr>\n",
       "      <th>2</th>\n",
       "      <td>김새롬</td>\n",
       "      <td>18</td>\n",
       "      <td>학생</td>\n",
       "      <td>study</td>\n",
       "    </tr>\n",
       "    <tr>\n",
       "      <th>3</th>\n",
       "      <td>이영자</td>\n",
       "      <td>45</td>\n",
       "      <td>상담사</td>\n",
       "      <td>talk</td>\n",
       "    </tr>\n",
       "    <tr>\n",
       "      <th>4</th>\n",
       "      <td>강호동</td>\n",
       "      <td>38</td>\n",
       "      <td>연예인</td>\n",
       "      <td>talk</td>\n",
       "    </tr>\n",
       "  </tbody>\n",
       "</table>\n",
       "</div>"
      ],
      "text/plain": [
       "  name  age  job  hobby\n",
       "0  신동엽   20  연예인  music\n",
       "1  유재석   41   교수    art\n",
       "2  김새롬   18   학생  study\n",
       "3  이영자   45  상담사   talk\n",
       "4  강호동   38  연예인   talk"
      ]
     },
     "execution_count": 184,
     "metadata": {},
     "output_type": "execute_result"
    }
   ],
   "source": [
    "df.columns = ['name', 'age', 'job', 'hobby']\n",
    "df"
   ]
  },
  {
   "cell_type": "code",
   "execution_count": 185,
   "metadata": {},
   "outputs": [
    {
     "data": {
      "text/html": [
       "<div>\n",
       "<style scoped>\n",
       "    .dataframe tbody tr th:only-of-type {\n",
       "        vertical-align: middle;\n",
       "    }\n",
       "\n",
       "    .dataframe tbody tr th {\n",
       "        vertical-align: top;\n",
       "    }\n",
       "\n",
       "    .dataframe thead th {\n",
       "        text-align: right;\n",
       "    }\n",
       "</style>\n",
       "<table border=\"1\" class=\"dataframe\">\n",
       "  <thead>\n",
       "    <tr style=\"text-align: right;\">\n",
       "      <th></th>\n",
       "      <th>name</th>\n",
       "      <th>age</th>\n",
       "      <th>job</th>\n",
       "      <th>hobby</th>\n",
       "    </tr>\n",
       "  </thead>\n",
       "  <tbody>\n",
       "    <tr>\n",
       "      <th>0</th>\n",
       "      <td>신동엽</td>\n",
       "      <td>20</td>\n",
       "      <td>연예인</td>\n",
       "      <td>music</td>\n",
       "    </tr>\n",
       "    <tr>\n",
       "      <th>1</th>\n",
       "      <td>유재석</td>\n",
       "      <td>41</td>\n",
       "      <td>교수</td>\n",
       "      <td>art</td>\n",
       "    </tr>\n",
       "    <tr>\n",
       "      <th>2</th>\n",
       "      <td>김새롬</td>\n",
       "      <td>18</td>\n",
       "      <td>학생</td>\n",
       "      <td>study</td>\n",
       "    </tr>\n",
       "    <tr>\n",
       "      <th>3</th>\n",
       "      <td>이영자</td>\n",
       "      <td>45</td>\n",
       "      <td>상담사</td>\n",
       "      <td>talk</td>\n",
       "    </tr>\n",
       "    <tr>\n",
       "      <th>4</th>\n",
       "      <td>강호동</td>\n",
       "      <td>38</td>\n",
       "      <td>연예인</td>\n",
       "      <td>talk</td>\n",
       "    </tr>\n",
       "  </tbody>\n",
       "</table>\n",
       "</div>"
      ],
      "text/plain": [
       "  name  age  job  hobby\n",
       "0  신동엽   20  연예인  music\n",
       "1  유재석   41   교수    art\n",
       "2  김새롬   18   학생  study\n",
       "3  이영자   45  상담사   talk\n",
       "4  강호동   38  연예인   talk"
      ]
     },
     "execution_count": 185,
     "metadata": {},
     "output_type": "execute_result"
    }
   ],
   "source": [
    "# 3 단계 : Dataframe 생성 시점에 컬럼명 반영\n",
    "df = pd.read_csv(\"../00.dataSet/friendsTabNoHead.txt\", delimiter='\\t',header=None, names=['name', 'age', 'job', 'hobby'])\n",
    "df"
   ]
  },
  {
   "cell_type": "markdown",
   "metadata": {},
   "source": [
    "### python data 타입으로부터 Dataframe 생성 및 가공"
   ]
  },
  {
   "cell_type": "code",
   "execution_count": 222,
   "metadata": {},
   "outputs": [],
   "source": [
    "friend_dict_list = [{'name': '신동엽', 'age': 20, 'job': '연예인', 'hobby':'music'},\n",
    "                     {'name': '유재석', 'age': 41, 'job': '교수', 'hobby':'art'},\n",
    "                     {'name': '김새롬', 'age': 18, 'job': '학생', 'hobby':'study'},\n",
    "                     {'name': '이영자', 'age' : 45, 'job': '상담사', 'hobby' : 'talk'},\n",
    "                     {'name' :  '강호동', 'age' : 38, 'job' : '연예인', 'hobby' : 'talk'}]"
   ]
  },
  {
   "cell_type": "code",
   "execution_count": 223,
   "metadata": {},
   "outputs": [
    {
     "data": {
      "text/plain": [
       "list"
      ]
     },
     "execution_count": 223,
     "metadata": {},
     "output_type": "execute_result"
    }
   ],
   "source": [
    "type(friend_dict_list)"
   ]
  },
  {
   "cell_type": "code",
   "execution_count": 224,
   "metadata": {},
   "outputs": [
    {
     "data": {
      "text/html": [
       "<div>\n",
       "<style scoped>\n",
       "    .dataframe tbody tr th:only-of-type {\n",
       "        vertical-align: middle;\n",
       "    }\n",
       "\n",
       "    .dataframe tbody tr th {\n",
       "        vertical-align: top;\n",
       "    }\n",
       "\n",
       "    .dataframe thead th {\n",
       "        text-align: right;\n",
       "    }\n",
       "</style>\n",
       "<table border=\"1\" class=\"dataframe\">\n",
       "  <thead>\n",
       "    <tr style=\"text-align: right;\">\n",
       "      <th></th>\n",
       "      <th>age</th>\n",
       "      <th>hobby</th>\n",
       "      <th>job</th>\n",
       "      <th>name</th>\n",
       "    </tr>\n",
       "  </thead>\n",
       "  <tbody>\n",
       "    <tr>\n",
       "      <th>0</th>\n",
       "      <td>20</td>\n",
       "      <td>music</td>\n",
       "      <td>연예인</td>\n",
       "      <td>신동엽</td>\n",
       "    </tr>\n",
       "    <tr>\n",
       "      <th>1</th>\n",
       "      <td>41</td>\n",
       "      <td>art</td>\n",
       "      <td>교수</td>\n",
       "      <td>유재석</td>\n",
       "    </tr>\n",
       "    <tr>\n",
       "      <th>2</th>\n",
       "      <td>18</td>\n",
       "      <td>study</td>\n",
       "      <td>학생</td>\n",
       "      <td>김새롬</td>\n",
       "    </tr>\n",
       "    <tr>\n",
       "      <th>3</th>\n",
       "      <td>45</td>\n",
       "      <td>talk</td>\n",
       "      <td>상담사</td>\n",
       "      <td>이영자</td>\n",
       "    </tr>\n",
       "    <tr>\n",
       "      <th>4</th>\n",
       "      <td>38</td>\n",
       "      <td>talk</td>\n",
       "      <td>연예인</td>\n",
       "      <td>강호동</td>\n",
       "    </tr>\n",
       "  </tbody>\n",
       "</table>\n",
       "</div>"
      ],
      "text/plain": [
       "   age  hobby  job name\n",
       "0   20  music  연예인  신동엽\n",
       "1   41    art   교수  유재석\n",
       "2   18  study   학생  김새롬\n",
       "3   45   talk  상담사  이영자\n",
       "4   38   talk  연예인  강호동"
      ]
     },
     "execution_count": 224,
     "metadata": {},
     "output_type": "execute_result"
    }
   ],
   "source": [
    "#  리스트를 dataframe으로 바꾸기, 순서 거꾸로\n",
    "df = pd.DataFrame(friend_dict_list)\n",
    "df"
   ]
  },
  {
   "cell_type": "code",
   "execution_count": 212,
   "metadata": {},
   "outputs": [
    {
     "data": {
      "text/plain": [
       "0    신동엽\n",
       "1    유재석\n",
       "2    김새롬\n",
       "3    이영자\n",
       "4    강호동\n",
       "Name: name, dtype: object"
      ]
     },
     "execution_count": 212,
     "metadata": {},
     "output_type": "execute_result"
    }
   ],
   "source": [
    "df.name"
   ]
  },
  {
   "cell_type": "code",
   "execution_count": 227,
   "metadata": {},
   "outputs": [
    {
     "data": {
      "text/html": [
       "<div>\n",
       "<style scoped>\n",
       "    .dataframe tbody tr th:only-of-type {\n",
       "        vertical-align: middle;\n",
       "    }\n",
       "\n",
       "    .dataframe tbody tr th {\n",
       "        vertical-align: top;\n",
       "    }\n",
       "\n",
       "    .dataframe thead th {\n",
       "        text-align: right;\n",
       "    }\n",
       "</style>\n",
       "<table border=\"1\" class=\"dataframe\">\n",
       "  <thead>\n",
       "    <tr style=\"text-align: right;\">\n",
       "      <th></th>\n",
       "      <th>name</th>\n",
       "      <th>age</th>\n",
       "      <th>job</th>\n",
       "      <th>hobby</th>\n",
       "    </tr>\n",
       "  </thead>\n",
       "  <tbody>\n",
       "    <tr>\n",
       "      <th>0</th>\n",
       "      <td>신동엽</td>\n",
       "      <td>20</td>\n",
       "      <td>연예인</td>\n",
       "      <td>music</td>\n",
       "    </tr>\n",
       "    <tr>\n",
       "      <th>1</th>\n",
       "      <td>유재석</td>\n",
       "      <td>41</td>\n",
       "      <td>교수</td>\n",
       "      <td>art</td>\n",
       "    </tr>\n",
       "    <tr>\n",
       "      <th>2</th>\n",
       "      <td>김새롬</td>\n",
       "      <td>18</td>\n",
       "      <td>학생</td>\n",
       "      <td>study</td>\n",
       "    </tr>\n",
       "    <tr>\n",
       "      <th>3</th>\n",
       "      <td>이영자</td>\n",
       "      <td>45</td>\n",
       "      <td>상담사</td>\n",
       "      <td>talk</td>\n",
       "    </tr>\n",
       "    <tr>\n",
       "      <th>4</th>\n",
       "      <td>강호동</td>\n",
       "      <td>38</td>\n",
       "      <td>연예인</td>\n",
       "      <td>talk</td>\n",
       "    </tr>\n",
       "  </tbody>\n",
       "</table>\n",
       "</div>"
      ],
      "text/plain": [
       "  name  age  job  hobby\n",
       "0  신동엽   20  연예인  music\n",
       "1  유재석   41   교수    art\n",
       "2  김새롬   18   학생  study\n",
       "3  이영자   45  상담사   talk\n",
       "4  강호동   38  연예인   talk"
      ]
     },
     "execution_count": 227,
     "metadata": {},
     "output_type": "execute_result"
    }
   ],
   "source": [
    "df = df[['name','age','job','hobby']]\n",
    "df"
   ]
  },
  {
   "cell_type": "code",
   "execution_count": 231,
   "metadata": {},
   "outputs": [
    {
     "data": {
      "text/html": [
       "<div>\n",
       "<style scoped>\n",
       "    .dataframe tbody tr th:only-of-type {\n",
       "        vertical-align: middle;\n",
       "    }\n",
       "\n",
       "    .dataframe tbody tr th {\n",
       "        vertical-align: top;\n",
       "    }\n",
       "\n",
       "    .dataframe thead th {\n",
       "        text-align: right;\n",
       "    }\n",
       "</style>\n",
       "<table border=\"1\" class=\"dataframe\">\n",
       "  <thead>\n",
       "    <tr style=\"text-align: right;\">\n",
       "      <th></th>\n",
       "      <th>name</th>\n",
       "      <th>age</th>\n",
       "      <th>job</th>\n",
       "      <th>hobby</th>\n",
       "    </tr>\n",
       "  </thead>\n",
       "  <tbody>\n",
       "    <tr>\n",
       "      <th>영</th>\n",
       "      <td>신동엽</td>\n",
       "      <td>20</td>\n",
       "      <td>연예인</td>\n",
       "      <td>music</td>\n",
       "    </tr>\n",
       "    <tr>\n",
       "      <th>일</th>\n",
       "      <td>유재석</td>\n",
       "      <td>41</td>\n",
       "      <td>교수</td>\n",
       "      <td>art</td>\n",
       "    </tr>\n",
       "    <tr>\n",
       "      <th>이</th>\n",
       "      <td>김새롬</td>\n",
       "      <td>18</td>\n",
       "      <td>학생</td>\n",
       "      <td>study</td>\n",
       "    </tr>\n",
       "    <tr>\n",
       "      <th>삼</th>\n",
       "      <td>이영자</td>\n",
       "      <td>45</td>\n",
       "      <td>상담사</td>\n",
       "      <td>talk</td>\n",
       "    </tr>\n",
       "    <tr>\n",
       "      <th>사</th>\n",
       "      <td>강호동</td>\n",
       "      <td>38</td>\n",
       "      <td>연예인</td>\n",
       "      <td>talk</td>\n",
       "    </tr>\n",
       "  </tbody>\n",
       "</table>\n",
       "</div>"
      ],
      "text/plain": [
       "  name  age  job  hobby\n",
       "영  신동엽   20  연예인  music\n",
       "일  유재석   41   교수    art\n",
       "이  김새롬   18   학생  study\n",
       "삼  이영자   45  상담사   talk\n",
       "사  강호동   38  연예인   talk"
      ]
     },
     "execution_count": 231,
     "metadata": {},
     "output_type": "execute_result"
    }
   ],
   "source": [
    "# df2 라는 변수한테 friends_dict_list가 보유한 일반 python 의 list로 dataframe 생성하라\n",
    "# 단, columns 순서는 name, age, job, hobby 순으로 생성\n",
    "# 생성 시점에 columns 순서를 정할 수 있는지에 대해 문제\n",
    "df2 = pd.DataFrame(friend_dict_list, columns=['name','age','job','hobby'], index = ['영','일','이','삼','사'])\n",
    "df2"
   ]
  },
  {
   "cell_type": "markdown",
   "metadata": {},
   "source": [
    "### 정제한 dataframe 을 csv파일로 출력하기"
   ]
  },
  {
   "cell_type": "code",
   "execution_count": 242,
   "metadata": {},
   "outputs": [
    {
     "data": {
      "text/html": [
       "<div>\n",
       "<style scoped>\n",
       "    .dataframe tbody tr th:only-of-type {\n",
       "        vertical-align: middle;\n",
       "    }\n",
       "\n",
       "    .dataframe tbody tr th {\n",
       "        vertical-align: top;\n",
       "    }\n",
       "\n",
       "    .dataframe thead th {\n",
       "        text-align: right;\n",
       "    }\n",
       "</style>\n",
       "<table border=\"1\" class=\"dataframe\">\n",
       "  <thead>\n",
       "    <tr style=\"text-align: right;\">\n",
       "      <th></th>\n",
       "      <th>name</th>\n",
       "      <th>age</th>\n",
       "      <th>job</th>\n",
       "      <th>hobby</th>\n",
       "    </tr>\n",
       "  </thead>\n",
       "  <tbody>\n",
       "    <tr>\n",
       "      <th>영</th>\n",
       "      <td>신동엽</td>\n",
       "      <td>20</td>\n",
       "      <td>연예인</td>\n",
       "      <td>music</td>\n",
       "    </tr>\n",
       "    <tr>\n",
       "      <th>일</th>\n",
       "      <td>유재석</td>\n",
       "      <td>41</td>\n",
       "      <td>교수</td>\n",
       "      <td>art</td>\n",
       "    </tr>\n",
       "    <tr>\n",
       "      <th>이</th>\n",
       "      <td>김새롬</td>\n",
       "      <td>18</td>\n",
       "      <td>학생</td>\n",
       "      <td>study</td>\n",
       "    </tr>\n",
       "    <tr>\n",
       "      <th>삼</th>\n",
       "      <td>이영자</td>\n",
       "      <td>45</td>\n",
       "      <td>상담사</td>\n",
       "      <td>talk</td>\n",
       "    </tr>\n",
       "    <tr>\n",
       "      <th>사</th>\n",
       "      <td>강호동</td>\n",
       "      <td>38</td>\n",
       "      <td>연예인</td>\n",
       "      <td>talk</td>\n",
       "    </tr>\n",
       "  </tbody>\n",
       "</table>\n",
       "</div>"
      ],
      "text/plain": [
       "  name  age  job  hobby\n",
       "영  신동엽   20  연예인  music\n",
       "일  유재석   41   교수    art\n",
       "이  김새롬   18   학생  study\n",
       "삼  이영자   45  상담사   talk\n",
       "사  강호동   38  연예인   talk"
      ]
     },
     "execution_count": 242,
     "metadata": {},
     "output_type": "execute_result"
    }
   ],
   "source": [
    "df2.to_csv(\"../00.dataSet/11_out.csv\", index = None, header = None)\n"
   ]
  },
  {
   "cell_type": "code",
   "execution_count": 244,
   "metadata": {},
   "outputs": [
    {
     "data": {
      "text/html": [
       "<div>\n",
       "<style scoped>\n",
       "    .dataframe tbody tr th:only-of-type {\n",
       "        vertical-align: middle;\n",
       "    }\n",
       "\n",
       "    .dataframe tbody tr th {\n",
       "        vertical-align: top;\n",
       "    }\n",
       "\n",
       "    .dataframe thead th {\n",
       "        text-align: right;\n",
       "    }\n",
       "</style>\n",
       "<table border=\"1\" class=\"dataframe\">\n",
       "  <thead>\n",
       "    <tr style=\"text-align: right;\">\n",
       "      <th></th>\n",
       "      <th>0</th>\n",
       "      <th>1</th>\n",
       "      <th>2</th>\n",
       "      <th>3</th>\n",
       "    </tr>\n",
       "  </thead>\n",
       "  <tbody>\n",
       "    <tr>\n",
       "      <th>0</th>\n",
       "      <td>신동엽</td>\n",
       "      <td>20</td>\n",
       "      <td>연예인</td>\n",
       "      <td>music</td>\n",
       "    </tr>\n",
       "    <tr>\n",
       "      <th>1</th>\n",
       "      <td>유재석</td>\n",
       "      <td>41</td>\n",
       "      <td>교수</td>\n",
       "      <td>art</td>\n",
       "    </tr>\n",
       "    <tr>\n",
       "      <th>2</th>\n",
       "      <td>김새롬</td>\n",
       "      <td>18</td>\n",
       "      <td>학생</td>\n",
       "      <td>study</td>\n",
       "    </tr>\n",
       "    <tr>\n",
       "      <th>3</th>\n",
       "      <td>이영자</td>\n",
       "      <td>45</td>\n",
       "      <td>상담사</td>\n",
       "      <td>talk</td>\n",
       "    </tr>\n",
       "    <tr>\n",
       "      <th>4</th>\n",
       "      <td>강호동</td>\n",
       "      <td>38</td>\n",
       "      <td>연예인</td>\n",
       "      <td>talk</td>\n",
       "    </tr>\n",
       "  </tbody>\n",
       "</table>\n",
       "</div>"
      ],
      "text/plain": [
       "     0   1    2      3\n",
       "0  신동엽  20  연예인  music\n",
       "1  유재석  41   교수    art\n",
       "2  김새롬  18   학생  study\n",
       "3  이영자  45  상담사   talk\n",
       "4  강호동  38  연예인   talk"
      ]
     },
     "execution_count": 244,
     "metadata": {},
     "output_type": "execute_result"
    }
   ],
   "source": [
    "#리스트로 데이터 프레임 생성하기 + header 정보만 추가\n",
    "\n",
    "friends = [['신동엽',20,'연예인','music'], \n",
    "           ['유재석',41,'교수','art'], \n",
    "           ['김새롬',18,'학생','study'], \n",
    "           ['이영자',45,'상담사','talk'], \n",
    "           ['강호동',38,'연예인','talk']]\n",
    "\n",
    "df = pd.DataFrame.from_records(friends)\n",
    "df"
   ]
  },
  {
   "cell_type": "code",
   "execution_count": 245,
   "metadata": {},
   "outputs": [
    {
     "data": {
      "text/html": [
       "<div>\n",
       "<style scoped>\n",
       "    .dataframe tbody tr th:only-of-type {\n",
       "        vertical-align: middle;\n",
       "    }\n",
       "\n",
       "    .dataframe tbody tr th {\n",
       "        vertical-align: top;\n",
       "    }\n",
       "\n",
       "    .dataframe thead th {\n",
       "        text-align: right;\n",
       "    }\n",
       "</style>\n",
       "<table border=\"1\" class=\"dataframe\">\n",
       "  <thead>\n",
       "    <tr style=\"text-align: right;\">\n",
       "      <th></th>\n",
       "      <th>name</th>\n",
       "      <th>age</th>\n",
       "      <th>job</th>\n",
       "      <th>hobby</th>\n",
       "    </tr>\n",
       "  </thead>\n",
       "  <tbody>\n",
       "    <tr>\n",
       "      <th>0</th>\n",
       "      <td>신동엽</td>\n",
       "      <td>20</td>\n",
       "      <td>연예인</td>\n",
       "      <td>music</td>\n",
       "    </tr>\n",
       "    <tr>\n",
       "      <th>1</th>\n",
       "      <td>유재석</td>\n",
       "      <td>41</td>\n",
       "      <td>교수</td>\n",
       "      <td>art</td>\n",
       "    </tr>\n",
       "    <tr>\n",
       "      <th>2</th>\n",
       "      <td>김새롬</td>\n",
       "      <td>18</td>\n",
       "      <td>학생</td>\n",
       "      <td>study</td>\n",
       "    </tr>\n",
       "    <tr>\n",
       "      <th>3</th>\n",
       "      <td>이영자</td>\n",
       "      <td>45</td>\n",
       "      <td>상담사</td>\n",
       "      <td>talk</td>\n",
       "    </tr>\n",
       "    <tr>\n",
       "      <th>4</th>\n",
       "      <td>강호동</td>\n",
       "      <td>38</td>\n",
       "      <td>연예인</td>\n",
       "      <td>talk</td>\n",
       "    </tr>\n",
       "  </tbody>\n",
       "</table>\n",
       "</div>"
      ],
      "text/plain": [
       "  name  age  job  hobby\n",
       "0  신동엽   20  연예인  music\n",
       "1  유재석   41   교수    art\n",
       "2  김새롬   18   학생  study\n",
       "3  이영자   45  상담사   talk\n",
       "4  강호동   38  연예인   talk"
      ]
     },
     "execution_count": 245,
     "metadata": {},
     "output_type": "execute_result"
    }
   ],
   "source": [
    "df.columns = ['name','age','job','hobby']\n",
    "df"
   ]
  },
  {
   "cell_type": "code",
   "execution_count": 246,
   "metadata": {},
   "outputs": [
    {
     "data": {
      "text/html": [
       "<div>\n",
       "<style scoped>\n",
       "    .dataframe tbody tr th:only-of-type {\n",
       "        vertical-align: middle;\n",
       "    }\n",
       "\n",
       "    .dataframe tbody tr th {\n",
       "        vertical-align: top;\n",
       "    }\n",
       "\n",
       "    .dataframe thead th {\n",
       "        text-align: right;\n",
       "    }\n",
       "</style>\n",
       "<table border=\"1\" class=\"dataframe\">\n",
       "  <thead>\n",
       "    <tr style=\"text-align: right;\">\n",
       "      <th></th>\n",
       "      <th>name</th>\n",
       "      <th>age</th>\n",
       "      <th>job</th>\n",
       "      <th>hobby</th>\n",
       "      <th>salary</th>\n",
       "    </tr>\n",
       "  </thead>\n",
       "  <tbody>\n",
       "    <tr>\n",
       "      <th>0</th>\n",
       "      <td>신동엽</td>\n",
       "      <td>20</td>\n",
       "      <td>연예인</td>\n",
       "      <td>music</td>\n",
       "      <td>0</td>\n",
       "    </tr>\n",
       "    <tr>\n",
       "      <th>1</th>\n",
       "      <td>유재석</td>\n",
       "      <td>41</td>\n",
       "      <td>교수</td>\n",
       "      <td>art</td>\n",
       "      <td>0</td>\n",
       "    </tr>\n",
       "    <tr>\n",
       "      <th>2</th>\n",
       "      <td>김새롬</td>\n",
       "      <td>18</td>\n",
       "      <td>학생</td>\n",
       "      <td>study</td>\n",
       "      <td>0</td>\n",
       "    </tr>\n",
       "    <tr>\n",
       "      <th>3</th>\n",
       "      <td>이영자</td>\n",
       "      <td>45</td>\n",
       "      <td>상담사</td>\n",
       "      <td>talk</td>\n",
       "      <td>0</td>\n",
       "    </tr>\n",
       "    <tr>\n",
       "      <th>4</th>\n",
       "      <td>강호동</td>\n",
       "      <td>38</td>\n",
       "      <td>연예인</td>\n",
       "      <td>talk</td>\n",
       "      <td>0</td>\n",
       "    </tr>\n",
       "  </tbody>\n",
       "</table>\n",
       "</div>"
      ],
      "text/plain": [
       "  name  age  job  hobby  salary\n",
       "0  신동엽   20  연예인  music       0\n",
       "1  유재석   41   교수    art       0\n",
       "2  김새롬   18   학생  study       0\n",
       "3  이영자   45  상담사   talk       0\n",
       "4  강호동   38  연예인   talk       0"
      ]
     },
     "execution_count": 246,
     "metadata": {},
     "output_type": "execute_result"
    }
   ],
   "source": [
    "df['salary'] = 0\n",
    "df"
   ]
  },
  {
   "cell_type": "code",
   "execution_count": 250,
   "metadata": {},
   "outputs": [
    {
     "data": {
      "text/html": [
       "<div>\n",
       "<style scoped>\n",
       "    .dataframe tbody tr th:only-of-type {\n",
       "        vertical-align: middle;\n",
       "    }\n",
       "\n",
       "    .dataframe tbody tr th {\n",
       "        vertical-align: top;\n",
       "    }\n",
       "\n",
       "    .dataframe thead th {\n",
       "        text-align: right;\n",
       "    }\n",
       "</style>\n",
       "<table border=\"1\" class=\"dataframe\">\n",
       "  <thead>\n",
       "    <tr style=\"text-align: right;\">\n",
       "      <th></th>\n",
       "      <th>name</th>\n",
       "      <th>age</th>\n",
       "      <th>job</th>\n",
       "      <th>hobby</th>\n",
       "      <th>salary</th>\n",
       "    </tr>\n",
       "  </thead>\n",
       "  <tbody>\n",
       "    <tr>\n",
       "      <th>0</th>\n",
       "      <td>신동엽</td>\n",
       "      <td>20</td>\n",
       "      <td>연예인</td>\n",
       "      <td>music</td>\n",
       "      <td>yes</td>\n",
       "    </tr>\n",
       "    <tr>\n",
       "      <th>1</th>\n",
       "      <td>유재석</td>\n",
       "      <td>41</td>\n",
       "      <td>교수</td>\n",
       "      <td>art</td>\n",
       "      <td>yes</td>\n",
       "    </tr>\n",
       "    <tr>\n",
       "      <th>2</th>\n",
       "      <td>김새롬</td>\n",
       "      <td>18</td>\n",
       "      <td>학생</td>\n",
       "      <td>study</td>\n",
       "      <td>no</td>\n",
       "    </tr>\n",
       "    <tr>\n",
       "      <th>3</th>\n",
       "      <td>이영자</td>\n",
       "      <td>45</td>\n",
       "      <td>상담사</td>\n",
       "      <td>talk</td>\n",
       "      <td>yes</td>\n",
       "    </tr>\n",
       "    <tr>\n",
       "      <th>4</th>\n",
       "      <td>강호동</td>\n",
       "      <td>38</td>\n",
       "      <td>연예인</td>\n",
       "      <td>talk</td>\n",
       "      <td>yes</td>\n",
       "    </tr>\n",
       "  </tbody>\n",
       "</table>\n",
       "</div>"
      ],
      "text/plain": [
       "  name  age  job  hobby salary\n",
       "0  신동엽   20  연예인  music    yes\n",
       "1  유재석   41   교수    art    yes\n",
       "2  김새롬   18   학생  study     no\n",
       "3  이영자   45  상담사   talk    yes\n",
       "4  강호동   38  연예인   talk    yes"
      ]
     },
     "execution_count": 250,
     "metadata": {},
     "output_type": "execute_result"
    }
   ],
   "source": [
    "# job이 학생인 경우 salary 값이 no, 아닌경우 yes\n",
    "# np.where\n",
    "# 삼항 연산자 구조 : 다른 보편적인 언어들 -> 조건식?true일때:false일때\n",
    "# 파이썬의 삼항연산자 구조 : ->  df['salary'] = np.where(df['job'] != '학생', 'yes','no')\n",
    "\n",
    "df['salary'] = np.where(df['job'] != '학생', 'yes','no')\n",
    "df"
   ]
  },
  {
   "cell_type": "markdown",
   "metadata": {},
   "source": [
    "### 중복 데이터 처리\n",
    "> 1단계 : 100% 모든 데이터 동일한 것으로 테스트 하기<br>\n",
    "  2단계 : age 컬럼 값만 다를 경우 중복이 아니다 false 출력 확인<br>\n",
    "  \n",
    "  "
   ]
  },
  {
   "cell_type": "code",
   "execution_count": 252,
   "metadata": {},
   "outputs": [
    {
     "data": {
      "text/html": [
       "<div>\n",
       "<style scoped>\n",
       "    .dataframe tbody tr th:only-of-type {\n",
       "        vertical-align: middle;\n",
       "    }\n",
       "\n",
       "    .dataframe tbody tr th {\n",
       "        vertical-align: top;\n",
       "    }\n",
       "\n",
       "    .dataframe thead th {\n",
       "        text-align: right;\n",
       "    }\n",
       "</style>\n",
       "<table border=\"1\" class=\"dataframe\">\n",
       "  <thead>\n",
       "    <tr style=\"text-align: right;\">\n",
       "      <th></th>\n",
       "      <th>name</th>\n",
       "      <th>age</th>\n",
       "      <th>job</th>\n",
       "      <th>hobby</th>\n",
       "    </tr>\n",
       "  </thead>\n",
       "  <tbody>\n",
       "    <tr>\n",
       "      <th>0</th>\n",
       "      <td>신동엽</td>\n",
       "      <td>20</td>\n",
       "      <td>연예인</td>\n",
       "      <td>music</td>\n",
       "    </tr>\n",
       "    <tr>\n",
       "      <th>1</th>\n",
       "      <td>유재석</td>\n",
       "      <td>41</td>\n",
       "      <td>교수</td>\n",
       "      <td>art</td>\n",
       "    </tr>\n",
       "    <tr>\n",
       "      <th>2</th>\n",
       "      <td>김새롬</td>\n",
       "      <td>18</td>\n",
       "      <td>학생</td>\n",
       "      <td>study</td>\n",
       "    </tr>\n",
       "    <tr>\n",
       "      <th>3</th>\n",
       "      <td>이영자</td>\n",
       "      <td>45</td>\n",
       "      <td>상담사</td>\n",
       "      <td>talk</td>\n",
       "    </tr>\n",
       "    <tr>\n",
       "      <th>4</th>\n",
       "      <td>강호동</td>\n",
       "      <td>38</td>\n",
       "      <td>연예인</td>\n",
       "      <td>talk</td>\n",
       "    </tr>\n",
       "    <tr>\n",
       "      <th>5</th>\n",
       "      <td>신동엽</td>\n",
       "      <td>20</td>\n",
       "      <td>연예인</td>\n",
       "      <td>music</td>\n",
       "    </tr>\n",
       "  </tbody>\n",
       "</table>\n",
       "</div>"
      ],
      "text/plain": [
       "  name  age  job  hobby\n",
       "0  신동엽   20  연예인  music\n",
       "1  유재석   41   교수    art\n",
       "2  김새롬   18   학생  study\n",
       "3  이영자   45  상담사   talk\n",
       "4  강호동   38  연예인   talk\n",
       "5  신동엽   20  연예인  music"
      ]
     },
     "execution_count": 252,
     "metadata": {},
     "output_type": "execute_result"
    }
   ],
   "source": [
    "#step01\n",
    "friend_dict_list = [ {'name': '신동엽', 'age': 20, 'job': '연예인', 'hobby':'music'},\n",
    "                     {'name': '유재석', 'age': 41, 'job': '교수', 'hobby':'art'},\n",
    "                     {'name': '김새롬', 'age': 18, 'job': '학생', 'hobby':'study'},\n",
    "                     {'name': '이영자', 'age' : 45, 'job': '상담사', 'hobby' : 'talk'},\n",
    "                     {'name' :  '강호동', 'age' : 38, 'job' : '연예인', 'hobby' : 'talk'},\n",
    "                    {'name': '신동엽', 'age': 100, 'job': '연예인', 'hobby':'music'} ]\n",
    "\n",
    "df = pd.DataFrame(friend_dict_list)\n",
    "df = df[['name', 'age', 'job', 'hobby']]\n",
    "df"
   ]
  },
  {
   "cell_type": "code",
   "execution_count": 254,
   "metadata": {},
   "outputs": [
    {
     "data": {
      "text/plain": [
       "0    False\n",
       "1    False\n",
       "2    False\n",
       "3    False\n",
       "4    False\n",
       "5     True\n",
       "dtype: bool"
      ]
     },
     "execution_count": 254,
     "metadata": {},
     "output_type": "execute_result"
    }
   ],
   "source": [
    "df.duplicated() # 중복값 검사"
   ]
  },
  {
   "cell_type": "code",
   "execution_count": 257,
   "metadata": {},
   "outputs": [
    {
     "data": {
      "text/html": [
       "<div>\n",
       "<style scoped>\n",
       "    .dataframe tbody tr th:only-of-type {\n",
       "        vertical-align: middle;\n",
       "    }\n",
       "\n",
       "    .dataframe tbody tr th {\n",
       "        vertical-align: top;\n",
       "    }\n",
       "\n",
       "    .dataframe thead th {\n",
       "        text-align: right;\n",
       "    }\n",
       "</style>\n",
       "<table border=\"1\" class=\"dataframe\">\n",
       "  <thead>\n",
       "    <tr style=\"text-align: right;\">\n",
       "      <th></th>\n",
       "      <th>name</th>\n",
       "      <th>age</th>\n",
       "      <th>job</th>\n",
       "      <th>hobby</th>\n",
       "    </tr>\n",
       "  </thead>\n",
       "  <tbody>\n",
       "    <tr>\n",
       "      <th>0</th>\n",
       "      <td>신동엽</td>\n",
       "      <td>20</td>\n",
       "      <td>연예인</td>\n",
       "      <td>music</td>\n",
       "    </tr>\n",
       "    <tr>\n",
       "      <th>1</th>\n",
       "      <td>유재석</td>\n",
       "      <td>41</td>\n",
       "      <td>교수</td>\n",
       "      <td>art</td>\n",
       "    </tr>\n",
       "    <tr>\n",
       "      <th>2</th>\n",
       "      <td>김새롬</td>\n",
       "      <td>18</td>\n",
       "      <td>학생</td>\n",
       "      <td>study</td>\n",
       "    </tr>\n",
       "    <tr>\n",
       "      <th>3</th>\n",
       "      <td>이영자</td>\n",
       "      <td>45</td>\n",
       "      <td>상담사</td>\n",
       "      <td>talk</td>\n",
       "    </tr>\n",
       "    <tr>\n",
       "      <th>4</th>\n",
       "      <td>강호동</td>\n",
       "      <td>38</td>\n",
       "      <td>연예인</td>\n",
       "      <td>talk</td>\n",
       "    </tr>\n",
       "  </tbody>\n",
       "</table>\n",
       "</div>"
      ],
      "text/plain": [
       "  name  age  job  hobby\n",
       "0  신동엽   20  연예인  music\n",
       "1  유재석   41   교수    art\n",
       "2  김새롬   18   학생  study\n",
       "3  이영자   45  상담사   talk\n",
       "4  강호동   38  연예인   talk"
      ]
     },
     "execution_count": 257,
     "metadata": {},
     "output_type": "execute_result"
    }
   ],
   "source": [
    "df = df.drop_duplicates() # 중복된 값 제거\n",
    "df "
   ]
  },
  {
   "cell_type": "code",
   "execution_count": 259,
   "metadata": {},
   "outputs": [
    {
     "data": {
      "text/html": [
       "<div>\n",
       "<style scoped>\n",
       "    .dataframe tbody tr th:only-of-type {\n",
       "        vertical-align: middle;\n",
       "    }\n",
       "\n",
       "    .dataframe tbody tr th {\n",
       "        vertical-align: top;\n",
       "    }\n",
       "\n",
       "    .dataframe thead th {\n",
       "        text-align: right;\n",
       "    }\n",
       "</style>\n",
       "<table border=\"1\" class=\"dataframe\">\n",
       "  <thead>\n",
       "    <tr style=\"text-align: right;\">\n",
       "      <th></th>\n",
       "      <th>name</th>\n",
       "      <th>age</th>\n",
       "      <th>job</th>\n",
       "      <th>hobby</th>\n",
       "    </tr>\n",
       "  </thead>\n",
       "  <tbody>\n",
       "    <tr>\n",
       "      <th>0</th>\n",
       "      <td>신동엽</td>\n",
       "      <td>20</td>\n",
       "      <td>연예인</td>\n",
       "      <td>music</td>\n",
       "    </tr>\n",
       "    <tr>\n",
       "      <th>1</th>\n",
       "      <td>유재석</td>\n",
       "      <td>41</td>\n",
       "      <td>교수</td>\n",
       "      <td>art</td>\n",
       "    </tr>\n",
       "    <tr>\n",
       "      <th>2</th>\n",
       "      <td>김새롬</td>\n",
       "      <td>18</td>\n",
       "      <td>학생</td>\n",
       "      <td>study</td>\n",
       "    </tr>\n",
       "    <tr>\n",
       "      <th>3</th>\n",
       "      <td>이영자</td>\n",
       "      <td>45</td>\n",
       "      <td>상담사</td>\n",
       "      <td>talk</td>\n",
       "    </tr>\n",
       "    <tr>\n",
       "      <th>4</th>\n",
       "      <td>강호동</td>\n",
       "      <td>38</td>\n",
       "      <td>연예인</td>\n",
       "      <td>talk</td>\n",
       "    </tr>\n",
       "    <tr>\n",
       "      <th>5</th>\n",
       "      <td>신동엽</td>\n",
       "      <td>100</td>\n",
       "      <td>연예인</td>\n",
       "      <td>music</td>\n",
       "    </tr>\n",
       "  </tbody>\n",
       "</table>\n",
       "</div>"
      ],
      "text/plain": [
       "  name  age  job  hobby\n",
       "0  신동엽   20  연예인  music\n",
       "1  유재석   41   교수    art\n",
       "2  김새롬   18   학생  study\n",
       "3  이영자   45  상담사   talk\n",
       "4  강호동   38  연예인   talk\n",
       "5  신동엽  100  연예인  music"
      ]
     },
     "execution_count": 259,
     "metadata": {},
     "output_type": "execute_result"
    }
   ],
   "source": [
    "#step02\n",
    "friend_dict_list = [ {'name': '신동엽', 'age': 20, 'job': '연예인', 'hobby':'music'},\n",
    "                     {'name': '유재석', 'age': 41, 'job': '교수', 'hobby':'art'},\n",
    "                     {'name': '김새롬', 'age': 18, 'job': '학생', 'hobby':'study'},\n",
    "                     {'name': '이영자', 'age' : 45, 'job': '상담사', 'hobby' : 'talk'},\n",
    "                     {'name' :  '강호동', 'age' : 38, 'job' : '연예인', 'hobby' : 'talk'},\n",
    "                    {'name': '신동엽', 'age': 100, 'job': '연예인', 'hobby':'music'} ]\n",
    "\n",
    "df = pd.DataFrame(friend_dict_list)\n",
    "df = df[['name', 'age', 'job', 'hobby']]\n",
    "df"
   ]
  },
  {
   "cell_type": "code",
   "execution_count": 265,
   "metadata": {},
   "outputs": [
    {
     "data": {
      "text/plain": [
       "0    False\n",
       "1    False\n",
       "2    False\n",
       "3    False\n",
       "4    False\n",
       "5    False\n",
       "dtype: bool"
      ]
     },
     "execution_count": 265,
     "metadata": {},
     "output_type": "execute_result"
    }
   ],
   "source": [
    "df.duplicated() # 데이터값이 하나라도 다르면 false 출력"
   ]
  },
  {
   "cell_type": "code",
   "execution_count": 267,
   "metadata": {},
   "outputs": [
    {
     "data": {
      "text/html": [
       "<div>\n",
       "<style scoped>\n",
       "    .dataframe tbody tr th:only-of-type {\n",
       "        vertical-align: middle;\n",
       "    }\n",
       "\n",
       "    .dataframe tbody tr th {\n",
       "        vertical-align: top;\n",
       "    }\n",
       "\n",
       "    .dataframe thead th {\n",
       "        text-align: right;\n",
       "    }\n",
       "</style>\n",
       "<table border=\"1\" class=\"dataframe\">\n",
       "  <thead>\n",
       "    <tr style=\"text-align: right;\">\n",
       "      <th></th>\n",
       "      <th>name</th>\n",
       "      <th>age</th>\n",
       "      <th>job</th>\n",
       "      <th>hobby</th>\n",
       "    </tr>\n",
       "  </thead>\n",
       "  <tbody>\n",
       "    <tr>\n",
       "      <th>0</th>\n",
       "      <td>신동엽</td>\n",
       "      <td>20</td>\n",
       "      <td>연예인</td>\n",
       "      <td>music</td>\n",
       "    </tr>\n",
       "    <tr>\n",
       "      <th>1</th>\n",
       "      <td>유재석</td>\n",
       "      <td>41</td>\n",
       "      <td>교수</td>\n",
       "      <td>art</td>\n",
       "    </tr>\n",
       "    <tr>\n",
       "      <th>2</th>\n",
       "      <td>김새롬</td>\n",
       "      <td>18</td>\n",
       "      <td>학생</td>\n",
       "      <td>study</td>\n",
       "    </tr>\n",
       "    <tr>\n",
       "      <th>3</th>\n",
       "      <td>이영자</td>\n",
       "      <td>45</td>\n",
       "      <td>상담사</td>\n",
       "      <td>talk</td>\n",
       "    </tr>\n",
       "    <tr>\n",
       "      <th>4</th>\n",
       "      <td>강호동</td>\n",
       "      <td>38</td>\n",
       "      <td>연예인</td>\n",
       "      <td>talk</td>\n",
       "    </tr>\n",
       "    <tr>\n",
       "      <th>5</th>\n",
       "      <td>신동엽</td>\n",
       "      <td>100</td>\n",
       "      <td>연예인</td>\n",
       "      <td>music</td>\n",
       "    </tr>\n",
       "  </tbody>\n",
       "</table>\n",
       "</div>"
      ],
      "text/plain": [
       "  name  age  job  hobby\n",
       "0  신동엽   20  연예인  music\n",
       "1  유재석   41   교수    art\n",
       "2  김새롬   18   학생  study\n",
       "3  이영자   45  상담사   talk\n",
       "4  강호동   38  연예인   talk\n",
       "5  신동엽  100  연예인  music"
      ]
     },
     "execution_count": 267,
     "metadata": {},
     "output_type": "execute_result"
    }
   ],
   "source": [
    "df.drop_duplicates() # 제거되지 않음"
   ]
  },
  {
   "cell_type": "code",
   "execution_count": 275,
   "metadata": {},
   "outputs": [
    {
     "data": {
      "text/html": [
       "<div>\n",
       "<style scoped>\n",
       "    .dataframe tbody tr th:only-of-type {\n",
       "        vertical-align: middle;\n",
       "    }\n",
       "\n",
       "    .dataframe tbody tr th {\n",
       "        vertical-align: top;\n",
       "    }\n",
       "\n",
       "    .dataframe thead th {\n",
       "        text-align: right;\n",
       "    }\n",
       "</style>\n",
       "<table border=\"1\" class=\"dataframe\">\n",
       "  <thead>\n",
       "    <tr style=\"text-align: right;\">\n",
       "      <th></th>\n",
       "      <th>name</th>\n",
       "      <th>age</th>\n",
       "      <th>job</th>\n",
       "      <th>hobby</th>\n",
       "    </tr>\n",
       "  </thead>\n",
       "  <tbody>\n",
       "    <tr>\n",
       "      <th>0</th>\n",
       "      <td>신동엽</td>\n",
       "      <td>20</td>\n",
       "      <td>연예인</td>\n",
       "      <td>music</td>\n",
       "    </tr>\n",
       "    <tr>\n",
       "      <th>1</th>\n",
       "      <td>유재석</td>\n",
       "      <td>41</td>\n",
       "      <td>교수</td>\n",
       "      <td>art</td>\n",
       "    </tr>\n",
       "    <tr>\n",
       "      <th>2</th>\n",
       "      <td>김새롬</td>\n",
       "      <td>18</td>\n",
       "      <td>학생</td>\n",
       "      <td>study</td>\n",
       "    </tr>\n",
       "    <tr>\n",
       "      <th>3</th>\n",
       "      <td>이영자</td>\n",
       "      <td>45</td>\n",
       "      <td>상담사</td>\n",
       "      <td>talk</td>\n",
       "    </tr>\n",
       "    <tr>\n",
       "      <th>4</th>\n",
       "      <td>강호동</td>\n",
       "      <td>38</td>\n",
       "      <td>연예인</td>\n",
       "      <td>talk</td>\n",
       "    </tr>\n",
       "  </tbody>\n",
       "</table>\n",
       "</div>"
      ],
      "text/plain": [
       "  name  age  job  hobby\n",
       "0  신동엽   20  연예인  music\n",
       "1  유재석   41   교수    art\n",
       "2  김새롬   18   학생  study\n",
       "3  이영자   45  상담사   talk\n",
       "4  강호동   38  연예인   talk"
      ]
     },
     "execution_count": 275,
     "metadata": {},
     "output_type": "execute_result"
    }
   ],
   "source": [
    "df.drop_duplicates(['name'], keep='first') # name값을 기준으로 삭제"
   ]
  },
  {
   "cell_type": "code",
   "execution_count": 281,
   "metadata": {},
   "outputs": [
    {
     "data": {
      "text/html": [
       "<div>\n",
       "<style scoped>\n",
       "    .dataframe tbody tr th:only-of-type {\n",
       "        vertical-align: middle;\n",
       "    }\n",
       "\n",
       "    .dataframe tbody tr th {\n",
       "        vertical-align: top;\n",
       "    }\n",
       "\n",
       "    .dataframe thead th {\n",
       "        text-align: right;\n",
       "    }\n",
       "</style>\n",
       "<table border=\"1\" class=\"dataframe\">\n",
       "  <thead>\n",
       "    <tr style=\"text-align: right;\">\n",
       "      <th></th>\n",
       "      <th>name</th>\n",
       "      <th>age</th>\n",
       "      <th>job</th>\n",
       "      <th>hobby</th>\n",
       "    </tr>\n",
       "  </thead>\n",
       "  <tbody>\n",
       "    <tr>\n",
       "      <th>1</th>\n",
       "      <td>유재석</td>\n",
       "      <td>41</td>\n",
       "      <td>교수</td>\n",
       "      <td>art</td>\n",
       "    </tr>\n",
       "    <tr>\n",
       "      <th>2</th>\n",
       "      <td>김새롬</td>\n",
       "      <td>18</td>\n",
       "      <td>학생</td>\n",
       "      <td>study</td>\n",
       "    </tr>\n",
       "    <tr>\n",
       "      <th>3</th>\n",
       "      <td>이영자</td>\n",
       "      <td>45</td>\n",
       "      <td>상담사</td>\n",
       "      <td>talk</td>\n",
       "    </tr>\n",
       "    <tr>\n",
       "      <th>4</th>\n",
       "      <td>강호동</td>\n",
       "      <td>38</td>\n",
       "      <td>연예인</td>\n",
       "      <td>talk</td>\n",
       "    </tr>\n",
       "    <tr>\n",
       "      <th>5</th>\n",
       "      <td>신동엽</td>\n",
       "      <td>100</td>\n",
       "      <td>연예인</td>\n",
       "      <td>music</td>\n",
       "    </tr>\n",
       "  </tbody>\n",
       "</table>\n",
       "</div>"
      ],
      "text/plain": [
       "  name  age  job  hobby\n",
       "1  유재석   41   교수    art\n",
       "2  김새롬   18   학생  study\n",
       "3  이영자   45  상담사   talk\n",
       "4  강호동   38  연예인   talk\n",
       "5  신동엽  100  연예인  music"
      ]
     },
     "execution_count": 281,
     "metadata": {},
     "output_type": "execute_result"
    }
   ],
   "source": [
    "df.drop_duplicates(['name'], keep='last') # name값을 기준으로 삭제"
   ]
  },
  {
   "cell_type": "code",
   "execution_count": 284,
   "metadata": {},
   "outputs": [
    {
     "data": {
      "text/html": [
       "<div>\n",
       "<style scoped>\n",
       "    .dataframe tbody tr th:only-of-type {\n",
       "        vertical-align: middle;\n",
       "    }\n",
       "\n",
       "    .dataframe tbody tr th {\n",
       "        vertical-align: top;\n",
       "    }\n",
       "\n",
       "    .dataframe thead th {\n",
       "        text-align: right;\n",
       "    }\n",
       "</style>\n",
       "<table border=\"1\" class=\"dataframe\">\n",
       "  <thead>\n",
       "    <tr style=\"text-align: right;\">\n",
       "      <th></th>\n",
       "      <th>name</th>\n",
       "      <th>age</th>\n",
       "      <th>job</th>\n",
       "      <th>hobby</th>\n",
       "    </tr>\n",
       "  </thead>\n",
       "  <tbody>\n",
       "    <tr>\n",
       "      <th>1</th>\n",
       "      <td>유재석</td>\n",
       "      <td>41</td>\n",
       "      <td>교수</td>\n",
       "      <td>art</td>\n",
       "    </tr>\n",
       "    <tr>\n",
       "      <th>2</th>\n",
       "      <td>김새롬</td>\n",
       "      <td>18</td>\n",
       "      <td>학생</td>\n",
       "      <td>study</td>\n",
       "    </tr>\n",
       "    <tr>\n",
       "      <th>3</th>\n",
       "      <td>이영자</td>\n",
       "      <td>45</td>\n",
       "      <td>상담사</td>\n",
       "      <td>talk</td>\n",
       "    </tr>\n",
       "    <tr>\n",
       "      <th>4</th>\n",
       "      <td>강호동</td>\n",
       "      <td>38</td>\n",
       "      <td>연예인</td>\n",
       "      <td>talk</td>\n",
       "    </tr>\n",
       "    <tr>\n",
       "      <th>5</th>\n",
       "      <td>신동엽</td>\n",
       "      <td>100</td>\n",
       "      <td>연예인</td>\n",
       "      <td>music</td>\n",
       "    </tr>\n",
       "  </tbody>\n",
       "</table>\n",
       "</div>"
      ],
      "text/plain": [
       "  name  age  job  hobby\n",
       "1  유재석   41   교수    art\n",
       "2  김새롬   18   학생  study\n",
       "3  이영자   45  상담사   talk\n",
       "4  강호동   38  연예인   talk\n",
       "5  신동엽  100  연예인  music"
      ]
     },
     "execution_count": 284,
     "metadata": {},
     "output_type": "execute_result"
    }
   ],
   "source": [
    "# inplace=True 원본 dataframe에 영향을 주는 속성\n",
    "df.drop_duplicates(['name'], keep='last', inplace=True)\n",
    "df"
   ]
  },
  {
   "cell_type": "code",
   "execution_count": 285,
   "metadata": {},
   "outputs": [
    {
     "data": {
      "text/html": [
       "<div>\n",
       "<style scoped>\n",
       "    .dataframe tbody tr th:only-of-type {\n",
       "        vertical-align: middle;\n",
       "    }\n",
       "\n",
       "    .dataframe tbody tr th {\n",
       "        vertical-align: top;\n",
       "    }\n",
       "\n",
       "    .dataframe thead th {\n",
       "        text-align: right;\n",
       "    }\n",
       "</style>\n",
       "<table border=\"1\" class=\"dataframe\">\n",
       "  <thead>\n",
       "    <tr style=\"text-align: right;\">\n",
       "      <th></th>\n",
       "      <th>name</th>\n",
       "      <th>age</th>\n",
       "      <th>job</th>\n",
       "      <th>hobby</th>\n",
       "    </tr>\n",
       "  </thead>\n",
       "  <tbody>\n",
       "    <tr>\n",
       "      <th>1</th>\n",
       "      <td>유재석</td>\n",
       "      <td>41</td>\n",
       "      <td>교수</td>\n",
       "      <td>art</td>\n",
       "    </tr>\n",
       "    <tr>\n",
       "      <th>2</th>\n",
       "      <td>김새롬</td>\n",
       "      <td>18</td>\n",
       "      <td>학생</td>\n",
       "      <td>study</td>\n",
       "    </tr>\n",
       "    <tr>\n",
       "      <th>3</th>\n",
       "      <td>이영자</td>\n",
       "      <td>45</td>\n",
       "      <td>상담사</td>\n",
       "      <td>talk</td>\n",
       "    </tr>\n",
       "    <tr>\n",
       "      <th>4</th>\n",
       "      <td>강호동</td>\n",
       "      <td>38</td>\n",
       "      <td>연예인</td>\n",
       "      <td>talk</td>\n",
       "    </tr>\n",
       "    <tr>\n",
       "      <th>5</th>\n",
       "      <td>신동엽</td>\n",
       "      <td>100</td>\n",
       "      <td>연예인</td>\n",
       "      <td>music</td>\n",
       "    </tr>\n",
       "  </tbody>\n",
       "</table>\n",
       "</div>"
      ],
      "text/plain": [
       "  name  age  job  hobby\n",
       "1  유재석   41   교수    art\n",
       "2  김새롬   18   학생  study\n",
       "3  이영자   45  상담사   talk\n",
       "4  강호동   38  연예인   talk\n",
       "5  신동엽  100  연예인  music"
      ]
     },
     "execution_count": 285,
     "metadata": {},
     "output_type": "execute_result"
    }
   ],
   "source": []
  },
  {
   "cell_type": "code",
   "execution_count": 349,
   "metadata": {},
   "outputs": [
    {
     "data": {
      "text/html": [
       "<div>\n",
       "<style scoped>\n",
       "    .dataframe tbody tr th:only-of-type {\n",
       "        vertical-align: middle;\n",
       "    }\n",
       "\n",
       "    .dataframe tbody tr th {\n",
       "        vertical-align: top;\n",
       "    }\n",
       "\n",
       "    .dataframe thead th {\n",
       "        text-align: right;\n",
       "    }\n",
       "</style>\n",
       "<table border=\"1\" class=\"dataframe\">\n",
       "  <thead>\n",
       "    <tr style=\"text-align: right;\">\n",
       "      <th></th>\n",
       "      <th>name</th>\n",
       "      <th>age</th>\n",
       "      <th>job</th>\n",
       "      <th>hobby</th>\n",
       "    </tr>\n",
       "  </thead>\n",
       "  <tbody>\n",
       "    <tr>\n",
       "      <th>0</th>\n",
       "      <td>신동엽</td>\n",
       "      <td>20.0</td>\n",
       "      <td>연예인</td>\n",
       "      <td>music</td>\n",
       "    </tr>\n",
       "    <tr>\n",
       "      <th>1</th>\n",
       "      <td>유재석</td>\n",
       "      <td>41.0</td>\n",
       "      <td>교수</td>\n",
       "      <td>art</td>\n",
       "    </tr>\n",
       "    <tr>\n",
       "      <th>2</th>\n",
       "      <td>김새롬</td>\n",
       "      <td>18.0</td>\n",
       "      <td>학생</td>\n",
       "      <td>study</td>\n",
       "    </tr>\n",
       "    <tr>\n",
       "      <th>3</th>\n",
       "      <td>이영자</td>\n",
       "      <td>45.0</td>\n",
       "      <td>상담사</td>\n",
       "      <td>talk</td>\n",
       "    </tr>\n",
       "    <tr>\n",
       "      <th>4</th>\n",
       "      <td>강호동</td>\n",
       "      <td>38.0</td>\n",
       "      <td>연예인</td>\n",
       "      <td>talk</td>\n",
       "    </tr>\n",
       "    <tr>\n",
       "      <th>5</th>\n",
       "      <td>신동엽</td>\n",
       "      <td>NaN</td>\n",
       "      <td>연예인</td>\n",
       "      <td>music</td>\n",
       "    </tr>\n",
       "  </tbody>\n",
       "</table>\n",
       "</div>"
      ],
      "text/plain": [
       "  name   age  job  hobby\n",
       "0  신동엽  20.0  연예인  music\n",
       "1  유재석  41.0   교수    art\n",
       "2  김새롬  18.0   학생  study\n",
       "3  이영자  45.0  상담사   talk\n",
       "4  강호동  38.0  연예인   talk\n",
       "5  신동엽   NaN  연예인  music"
      ]
     },
     "execution_count": 349,
     "metadata": {},
     "output_type": "execute_result"
    }
   ],
   "source": [
    "friend_dict_list = [{'name': '신동엽', 'age': 20, 'job': '연예인', 'hobby':'music'},\n",
    "                     {'name': '유재석', 'age': 41, 'job': '교수', 'hobby':'art'},\n",
    "                     {'name': '김새롬', 'age': 18, 'job': '학생', 'hobby':'study'},\n",
    "                     {'name': '이영자', 'age' : 45, 'job': '상담사', 'hobby' : 'talk'},\n",
    "                     {'name' :  '강호동', 'age' : 38, 'job' : '연예인', 'hobby' : 'talk'},\n",
    "                    {'name': '신동엽', 'age': None, 'job': '연예인', 'hobby':'music'} ]\n",
    "\n",
    "df = pd.DataFrame(friend_dict_list)\n",
    "df = df[['name', 'age', 'job', 'hobby']]\n",
    "df"
   ]
  },
  {
   "cell_type": "code",
   "execution_count": 334,
   "metadata": {},
   "outputs": [
    {
     "data": {
      "text/plain": [
       "pandas.core.frame.DataFrame"
      ]
     },
     "execution_count": 334,
     "metadata": {},
     "output_type": "execute_result"
    }
   ],
   "source": [
    "type(df)"
   ]
  },
  {
   "cell_type": "code",
   "execution_count": 335,
   "metadata": {},
   "outputs": [
    {
     "name": "stdout",
     "output_type": "stream",
     "text": [
      "<class 'pandas.core.frame.DataFrame'>\n",
      "RangeIndex: 6 entries, 0 to 5\n",
      "Data columns (total 4 columns):\n",
      "name     6 non-null object\n",
      "age      5 non-null float64\n",
      "job      6 non-null object\n",
      "hobby    6 non-null object\n",
      "dtypes: float64(1), object(3)\n",
      "memory usage: 272.0+ bytes\n"
     ]
    }
   ],
   "source": [
    "df.info()"
   ]
  },
  {
   "cell_type": "code",
   "execution_count": 336,
   "metadata": {},
   "outputs": [
    {
     "data": {
      "text/html": [
       "<div>\n",
       "<style scoped>\n",
       "    .dataframe tbody tr th:only-of-type {\n",
       "        vertical-align: middle;\n",
       "    }\n",
       "\n",
       "    .dataframe tbody tr th {\n",
       "        vertical-align: top;\n",
       "    }\n",
       "\n",
       "    .dataframe thead th {\n",
       "        text-align: right;\n",
       "    }\n",
       "</style>\n",
       "<table border=\"1\" class=\"dataframe\">\n",
       "  <thead>\n",
       "    <tr style=\"text-align: right;\">\n",
       "      <th></th>\n",
       "      <th>name</th>\n",
       "      <th>age</th>\n",
       "      <th>job</th>\n",
       "      <th>hobby</th>\n",
       "    </tr>\n",
       "  </thead>\n",
       "  <tbody>\n",
       "    <tr>\n",
       "      <th>0</th>\n",
       "      <td>False</td>\n",
       "      <td>False</td>\n",
       "      <td>False</td>\n",
       "      <td>False</td>\n",
       "    </tr>\n",
       "    <tr>\n",
       "      <th>1</th>\n",
       "      <td>False</td>\n",
       "      <td>False</td>\n",
       "      <td>False</td>\n",
       "      <td>False</td>\n",
       "    </tr>\n",
       "    <tr>\n",
       "      <th>2</th>\n",
       "      <td>False</td>\n",
       "      <td>False</td>\n",
       "      <td>False</td>\n",
       "      <td>False</td>\n",
       "    </tr>\n",
       "    <tr>\n",
       "      <th>3</th>\n",
       "      <td>False</td>\n",
       "      <td>False</td>\n",
       "      <td>False</td>\n",
       "      <td>False</td>\n",
       "    </tr>\n",
       "    <tr>\n",
       "      <th>4</th>\n",
       "      <td>False</td>\n",
       "      <td>False</td>\n",
       "      <td>False</td>\n",
       "      <td>False</td>\n",
       "    </tr>\n",
       "    <tr>\n",
       "      <th>5</th>\n",
       "      <td>False</td>\n",
       "      <td>True</td>\n",
       "      <td>False</td>\n",
       "      <td>False</td>\n",
       "    </tr>\n",
       "  </tbody>\n",
       "</table>\n",
       "</div>"
      ],
      "text/plain": [
       "    name    age    job  hobby\n",
       "0  False  False  False  False\n",
       "1  False  False  False  False\n",
       "2  False  False  False  False\n",
       "3  False  False  False  False\n",
       "4  False  False  False  False\n",
       "5  False   True  False  False"
      ]
     },
     "execution_count": 336,
     "metadata": {},
     "output_type": "execute_result"
    }
   ],
   "source": [
    "df.isna() # 결측치 확인 함수"
   ]
  },
  {
   "cell_type": "code",
   "execution_count": 337,
   "metadata": {},
   "outputs": [
    {
     "data": {
      "text/html": [
       "<div>\n",
       "<style scoped>\n",
       "    .dataframe tbody tr th:only-of-type {\n",
       "        vertical-align: middle;\n",
       "    }\n",
       "\n",
       "    .dataframe tbody tr th {\n",
       "        vertical-align: top;\n",
       "    }\n",
       "\n",
       "    .dataframe thead th {\n",
       "        text-align: right;\n",
       "    }\n",
       "</style>\n",
       "<table border=\"1\" class=\"dataframe\">\n",
       "  <thead>\n",
       "    <tr style=\"text-align: right;\">\n",
       "      <th></th>\n",
       "      <th>name</th>\n",
       "      <th>age</th>\n",
       "      <th>job</th>\n",
       "      <th>hobby</th>\n",
       "    </tr>\n",
       "  </thead>\n",
       "  <tbody>\n",
       "    <tr>\n",
       "      <th>0</th>\n",
       "      <td>False</td>\n",
       "      <td>False</td>\n",
       "      <td>False</td>\n",
       "      <td>False</td>\n",
       "    </tr>\n",
       "    <tr>\n",
       "      <th>1</th>\n",
       "      <td>False</td>\n",
       "      <td>False</td>\n",
       "      <td>False</td>\n",
       "      <td>False</td>\n",
       "    </tr>\n",
       "    <tr>\n",
       "      <th>2</th>\n",
       "      <td>False</td>\n",
       "      <td>False</td>\n",
       "      <td>False</td>\n",
       "      <td>False</td>\n",
       "    </tr>\n",
       "    <tr>\n",
       "      <th>3</th>\n",
       "      <td>False</td>\n",
       "      <td>False</td>\n",
       "      <td>False</td>\n",
       "      <td>False</td>\n",
       "    </tr>\n",
       "    <tr>\n",
       "      <th>4</th>\n",
       "      <td>False</td>\n",
       "      <td>False</td>\n",
       "      <td>False</td>\n",
       "      <td>False</td>\n",
       "    </tr>\n",
       "    <tr>\n",
       "      <th>5</th>\n",
       "      <td>False</td>\n",
       "      <td>True</td>\n",
       "      <td>False</td>\n",
       "      <td>False</td>\n",
       "    </tr>\n",
       "  </tbody>\n",
       "</table>\n",
       "</div>"
      ],
      "text/plain": [
       "    name    age    job  hobby\n",
       "0  False  False  False  False\n",
       "1  False  False  False  False\n",
       "2  False  False  False  False\n",
       "3  False  False  False  False\n",
       "4  False  False  False  False\n",
       "5  False   True  False  False"
      ]
     },
     "execution_count": 337,
     "metadata": {},
     "output_type": "execute_result"
    }
   ],
   "source": [
    "df.isnull() # 결측치 확인 함수"
   ]
  },
  {
   "cell_type": "code",
   "execution_count": 338,
   "metadata": {},
   "outputs": [
    {
     "data": {
      "text/plain": [
       "162.0"
      ]
     },
     "execution_count": 338,
     "metadata": {},
     "output_type": "execute_result"
    }
   ],
   "source": [
    "df['age'].sum() "
   ]
  },
  {
   "cell_type": "code",
   "execution_count": 339,
   "metadata": {},
   "outputs": [
    {
     "data": {
      "text/plain": [
       "32.4"
      ]
     },
     "execution_count": 339,
     "metadata": {},
     "output_type": "execute_result"
    }
   ],
   "source": [
    "df['age'].mean()"
   ]
  },
  {
   "cell_type": "code",
   "execution_count": 340,
   "metadata": {},
   "outputs": [
    {
     "data": {
      "text/html": [
       "<div>\n",
       "<style scoped>\n",
       "    .dataframe tbody tr th:only-of-type {\n",
       "        vertical-align: middle;\n",
       "    }\n",
       "\n",
       "    .dataframe tbody tr th {\n",
       "        vertical-align: top;\n",
       "    }\n",
       "\n",
       "    .dataframe thead th {\n",
       "        text-align: right;\n",
       "    }\n",
       "</style>\n",
       "<table border=\"1\" class=\"dataframe\">\n",
       "  <thead>\n",
       "    <tr style=\"text-align: right;\">\n",
       "      <th></th>\n",
       "      <th>0</th>\n",
       "      <th>1</th>\n",
       "      <th>2</th>\n",
       "      <th>3</th>\n",
       "      <th>4</th>\n",
       "      <th>5</th>\n",
       "    </tr>\n",
       "  </thead>\n",
       "  <tbody>\n",
       "    <tr>\n",
       "      <th>name</th>\n",
       "      <td>신동엽</td>\n",
       "      <td>유재석</td>\n",
       "      <td>김새롬</td>\n",
       "      <td>이영자</td>\n",
       "      <td>강호동</td>\n",
       "      <td>신동엽</td>\n",
       "    </tr>\n",
       "    <tr>\n",
       "      <th>age</th>\n",
       "      <td>20</td>\n",
       "      <td>41</td>\n",
       "      <td>18</td>\n",
       "      <td>45</td>\n",
       "      <td>38</td>\n",
       "      <td>NaN</td>\n",
       "    </tr>\n",
       "    <tr>\n",
       "      <th>job</th>\n",
       "      <td>연예인</td>\n",
       "      <td>교수</td>\n",
       "      <td>학생</td>\n",
       "      <td>상담사</td>\n",
       "      <td>연예인</td>\n",
       "      <td>연예인</td>\n",
       "    </tr>\n",
       "    <tr>\n",
       "      <th>hobby</th>\n",
       "      <td>music</td>\n",
       "      <td>art</td>\n",
       "      <td>study</td>\n",
       "      <td>talk</td>\n",
       "      <td>talk</td>\n",
       "      <td>music</td>\n",
       "    </tr>\n",
       "  </tbody>\n",
       "</table>\n",
       "</div>"
      ],
      "text/plain": [
       "           0    1      2     3     4      5\n",
       "name     신동엽  유재석    김새롬   이영자   강호동    신동엽\n",
       "age       20   41     18    45    38    NaN\n",
       "job      연예인   교수     학생   상담사   연예인    연예인\n",
       "hobby  music  art  study  talk  talk  music"
      ]
     },
     "execution_count": 340,
     "metadata": {},
     "output_type": "execute_result"
    }
   ],
   "source": [
    "df.T"
   ]
  },
  {
   "cell_type": "code",
   "execution_count": 352,
   "metadata": {},
   "outputs": [
    {
     "data": {
      "text/html": [
       "<div>\n",
       "<style scoped>\n",
       "    .dataframe tbody tr th:only-of-type {\n",
       "        vertical-align: middle;\n",
       "    }\n",
       "\n",
       "    .dataframe tbody tr th {\n",
       "        vertical-align: top;\n",
       "    }\n",
       "\n",
       "    .dataframe thead th {\n",
       "        text-align: right;\n",
       "    }\n",
       "</style>\n",
       "<table border=\"1\" class=\"dataframe\">\n",
       "  <thead>\n",
       "    <tr style=\"text-align: right;\">\n",
       "      <th></th>\n",
       "      <th>name</th>\n",
       "      <th>age</th>\n",
       "      <th>job</th>\n",
       "      <th>hobby</th>\n",
       "    </tr>\n",
       "  </thead>\n",
       "  <tbody>\n",
       "    <tr>\n",
       "      <th>0</th>\n",
       "      <td>신동엽</td>\n",
       "      <td>20.0</td>\n",
       "      <td>연예인</td>\n",
       "      <td>music</td>\n",
       "    </tr>\n",
       "    <tr>\n",
       "      <th>1</th>\n",
       "      <td>유재석</td>\n",
       "      <td>41.0</td>\n",
       "      <td>교수</td>\n",
       "      <td>art</td>\n",
       "    </tr>\n",
       "    <tr>\n",
       "      <th>2</th>\n",
       "      <td>김새롬</td>\n",
       "      <td>18.0</td>\n",
       "      <td>학생</td>\n",
       "      <td>study</td>\n",
       "    </tr>\n",
       "    <tr>\n",
       "      <th>3</th>\n",
       "      <td>이영자</td>\n",
       "      <td>45.0</td>\n",
       "      <td>상담사</td>\n",
       "      <td>talk</td>\n",
       "    </tr>\n",
       "    <tr>\n",
       "      <th>4</th>\n",
       "      <td>강호동</td>\n",
       "      <td>38.0</td>\n",
       "      <td>연예인</td>\n",
       "      <td>talk</td>\n",
       "    </tr>\n",
       "    <tr>\n",
       "      <th>5</th>\n",
       "      <td>신동엽</td>\n",
       "      <td>0.0</td>\n",
       "      <td>연예인</td>\n",
       "      <td>music</td>\n",
       "    </tr>\n",
       "  </tbody>\n",
       "</table>\n",
       "</div>"
      ],
      "text/plain": [
       "  name   age  job  hobby\n",
       "0  신동엽  20.0  연예인  music\n",
       "1  유재석  41.0   교수    art\n",
       "2  김새롬  18.0   학생  study\n",
       "3  이영자  45.0  상담사   talk\n",
       "4  강호동  38.0  연예인   talk\n",
       "5  신동엽   0.0  연예인  music"
      ]
     },
     "execution_count": 352,
     "metadata": {},
     "output_type": "execute_result"
    }
   ],
   "source": [
    "# nan을 0으로 치환 : 평균을 제대로 구하기\n",
    "# inplace는 원본에 적용여부 \n",
    "df['age'].fillna(0, inplace=True)\n",
    "df"
   ]
  },
  {
   "cell_type": "code",
   "execution_count": 353,
   "metadata": {},
   "outputs": [
    {
     "data": {
      "text/plain": [
       "27.0"
      ]
     },
     "execution_count": 353,
     "metadata": {},
     "output_type": "execute_result"
    }
   ],
   "source": [
    "df['age'].mean()"
   ]
  },
  {
   "cell_type": "code",
   "execution_count": 4,
   "metadata": {},
   "outputs": [],
   "source": [
    "import pandas as pd\n",
    "import numpy as np"
   ]
  },
  {
   "cell_type": "code",
   "execution_count": 18,
   "metadata": {},
   "outputs": [
    {
     "data": {
      "text/html": [
       "<div>\n",
       "<style scoped>\n",
       "    .dataframe tbody tr th:only-of-type {\n",
       "        vertical-align: middle;\n",
       "    }\n",
       "\n",
       "    .dataframe tbody tr th {\n",
       "        vertical-align: top;\n",
       "    }\n",
       "\n",
       "    .dataframe thead th {\n",
       "        text-align: right;\n",
       "    }\n",
       "</style>\n",
       "<table border=\"1\" class=\"dataframe\">\n",
       "  <thead>\n",
       "    <tr style=\"text-align: right;\">\n",
       "      <th></th>\n",
       "      <th>name</th>\n",
       "      <th>age</th>\n",
       "      <th>job</th>\n",
       "      <th>hobby</th>\n",
       "    </tr>\n",
       "  </thead>\n",
       "  <tbody>\n",
       "    <tr>\n",
       "      <th>0</th>\n",
       "      <td>신동엽</td>\n",
       "      <td>20.0</td>\n",
       "      <td>연예인</td>\n",
       "      <td>music</td>\n",
       "    </tr>\n",
       "    <tr>\n",
       "      <th>1</th>\n",
       "      <td>유재석</td>\n",
       "      <td>41.0</td>\n",
       "      <td>교수</td>\n",
       "      <td>art</td>\n",
       "    </tr>\n",
       "    <tr>\n",
       "      <th>2</th>\n",
       "      <td>김새롬</td>\n",
       "      <td>18.0</td>\n",
       "      <td>학생</td>\n",
       "      <td>study</td>\n",
       "    </tr>\n",
       "    <tr>\n",
       "      <th>3</th>\n",
       "      <td>이영자</td>\n",
       "      <td>45.0</td>\n",
       "      <td>상담사</td>\n",
       "      <td>talk</td>\n",
       "    </tr>\n",
       "    <tr>\n",
       "      <th>4</th>\n",
       "      <td>강호동</td>\n",
       "      <td>38.0</td>\n",
       "      <td>연예인</td>\n",
       "      <td>talk</td>\n",
       "    </tr>\n",
       "    <tr>\n",
       "      <th>5</th>\n",
       "      <td>신동엽</td>\n",
       "      <td>NaN</td>\n",
       "      <td>연예인</td>\n",
       "      <td>music</td>\n",
       "    </tr>\n",
       "  </tbody>\n",
       "</table>\n",
       "</div>"
      ],
      "text/plain": [
       "  name   age  job  hobby\n",
       "0  신동엽  20.0  연예인  music\n",
       "1  유재석  41.0   교수    art\n",
       "2  김새롬  18.0   학생  study\n",
       "3  이영자  45.0  상담사   talk\n",
       "4  강호동  38.0  연예인   talk\n",
       "5  신동엽   NaN  연예인  music"
      ]
     },
     "execution_count": 18,
     "metadata": {},
     "output_type": "execute_result"
    }
   ],
   "source": [
    "\n",
    "friend_dict_list = [{'name': '신동엽', 'age': 20, 'job': '연예인', 'hobby':'music'},\n",
    "                     {'name': '유재석', 'age': 41, 'job': '교수', 'hobby':'art'},\n",
    "                     {'name': '김새롬', 'age': 18, 'job': '학생', 'hobby':'study'},\n",
    "                     {'name': '이영자', 'age' : 45, 'job': '상담사', 'hobby' : 'talk'},\n",
    "                     {'name' :  '강호동', 'age' : 38, 'job' : '연예인', 'hobby' : 'talk'},\n",
    "                    {'name': '신동엽', 'age': None, 'job': '연예인', 'hobby':'music'} ]\n",
    "\n",
    "df = pd.DataFrame(friend_dict_list)\n",
    "df = df[['name', 'age', 'job', 'hobby']]\n",
    "df"
   ]
  },
  {
   "cell_type": "markdown",
   "metadata": {},
   "source": [
    "### groupby()\n",
    "### transform()"
   ]
  },
  {
   "cell_type": "code",
   "execution_count": 24,
   "metadata": {},
   "outputs": [
    {
     "data": {
      "text/html": [
       "<div>\n",
       "<style scoped>\n",
       "    .dataframe tbody tr th:only-of-type {\n",
       "        vertical-align: middle;\n",
       "    }\n",
       "\n",
       "    .dataframe tbody tr th {\n",
       "        vertical-align: top;\n",
       "    }\n",
       "\n",
       "    .dataframe thead th {\n",
       "        text-align: right;\n",
       "    }\n",
       "</style>\n",
       "<table border=\"1\" class=\"dataframe\">\n",
       "  <thead>\n",
       "    <tr style=\"text-align: right;\">\n",
       "      <th></th>\n",
       "      <th>name</th>\n",
       "      <th>age</th>\n",
       "      <th>job</th>\n",
       "      <th>hobby</th>\n",
       "    </tr>\n",
       "  </thead>\n",
       "  <tbody>\n",
       "    <tr>\n",
       "      <th>0</th>\n",
       "      <td>신동엽</td>\n",
       "      <td>20.0</td>\n",
       "      <td>연예인</td>\n",
       "      <td>music</td>\n",
       "    </tr>\n",
       "    <tr>\n",
       "      <th>1</th>\n",
       "      <td>유재석</td>\n",
       "      <td>41.0</td>\n",
       "      <td>교수</td>\n",
       "      <td>art</td>\n",
       "    </tr>\n",
       "    <tr>\n",
       "      <th>2</th>\n",
       "      <td>김새롬</td>\n",
       "      <td>18.0</td>\n",
       "      <td>학생</td>\n",
       "      <td>study</td>\n",
       "    </tr>\n",
       "    <tr>\n",
       "      <th>3</th>\n",
       "      <td>이영자</td>\n",
       "      <td>45.0</td>\n",
       "      <td>상담사</td>\n",
       "      <td>talk</td>\n",
       "    </tr>\n",
       "    <tr>\n",
       "      <th>4</th>\n",
       "      <td>강호동</td>\n",
       "      <td>38.0</td>\n",
       "      <td>연예인</td>\n",
       "      <td>talk</td>\n",
       "    </tr>\n",
       "    <tr>\n",
       "      <th>5</th>\n",
       "      <td>신동엽</td>\n",
       "      <td>29.0</td>\n",
       "      <td>연예인</td>\n",
       "      <td>music</td>\n",
       "    </tr>\n",
       "  </tbody>\n",
       "</table>\n",
       "</div>"
      ],
      "text/plain": [
       "  name   age  job  hobby\n",
       "0  신동엽  20.0  연예인  music\n",
       "1  유재석  41.0   교수    art\n",
       "2  김새롬  18.0   학생  study\n",
       "3  이영자  45.0  상담사   talk\n",
       "4  강호동  38.0  연예인   talk\n",
       "5  신동엽  29.0  연예인  music"
      ]
     },
     "execution_count": 24,
     "metadata": {},
     "output_type": "execute_result"
    }
   ],
   "source": [
    "# age의 평균을 구해서 2번째 동명이인인 신동엽의 나이에게 대입\n",
    "# NaN이 평균나이로 변경됨\n",
    "df['age'].fillna(df.groupby('job')['age'].transform('mean'), inplace = True)\n",
    "df"
   ]
  },
  {
   "cell_type": "code",
   "execution_count": 25,
   "metadata": {},
   "outputs": [
    {
     "data": {
      "text/plain": [
       "<pandas.core.groupby.groupby.DataFrameGroupBy object at 0x000001FAE67CF748>"
      ]
     },
     "execution_count": 25,
     "metadata": {},
     "output_type": "execute_result"
    }
   ],
   "source": [
    "# type은 DataFrameGroupBy \n",
    "df.groupby('job')"
   ]
  },
  {
   "cell_type": "code",
   "execution_count": 26,
   "metadata": {},
   "outputs": [
    {
     "data": {
      "text/plain": [
       "<pandas.core.groupby.groupby.SeriesGroupBy object at 0x000001FAE6490048>"
      ]
     },
     "execution_count": 26,
     "metadata": {},
     "output_type": "execute_result"
    }
   ],
   "source": [
    "# SeriesGroupBy \n",
    "df.groupby('job')['age']"
   ]
  },
  {
   "cell_type": "markdown",
   "metadata": {},
   "source": [
    "## 중복 데이터 관련된 unique 처리 기술 학습\n",
    "> 1. db의 distinct 와 같은 기능 학습\n",
    "    - 오라클 db의 emp 사원 테이블의 job의 종류가 중복되지 않게 검색 : <br>\n",
    "    - select distinct job from emp\n"
   ]
  },
  {
   "cell_type": "code",
   "execution_count": 27,
   "metadata": {},
   "outputs": [
    {
     "data": {
      "text/html": [
       "<div>\n",
       "<style scoped>\n",
       "    .dataframe tbody tr th:only-of-type {\n",
       "        vertical-align: middle;\n",
       "    }\n",
       "\n",
       "    .dataframe tbody tr th {\n",
       "        vertical-align: top;\n",
       "    }\n",
       "\n",
       "    .dataframe thead th {\n",
       "        text-align: right;\n",
       "    }\n",
       "</style>\n",
       "<table border=\"1\" class=\"dataframe\">\n",
       "  <thead>\n",
       "    <tr style=\"text-align: right;\">\n",
       "      <th></th>\n",
       "      <th>name</th>\n",
       "      <th>age</th>\n",
       "      <th>job</th>\n",
       "      <th>hobby</th>\n",
       "    </tr>\n",
       "  </thead>\n",
       "  <tbody>\n",
       "    <tr>\n",
       "      <th>0</th>\n",
       "      <td>신동엽</td>\n",
       "      <td>20.0</td>\n",
       "      <td>연예인</td>\n",
       "      <td>music</td>\n",
       "    </tr>\n",
       "    <tr>\n",
       "      <th>1</th>\n",
       "      <td>유재석</td>\n",
       "      <td>41.0</td>\n",
       "      <td>교수</td>\n",
       "      <td>art</td>\n",
       "    </tr>\n",
       "    <tr>\n",
       "      <th>2</th>\n",
       "      <td>김새롬</td>\n",
       "      <td>18.0</td>\n",
       "      <td>학생</td>\n",
       "      <td>study</td>\n",
       "    </tr>\n",
       "    <tr>\n",
       "      <th>3</th>\n",
       "      <td>이영자</td>\n",
       "      <td>45.0</td>\n",
       "      <td>상담사</td>\n",
       "      <td>talk</td>\n",
       "    </tr>\n",
       "    <tr>\n",
       "      <th>4</th>\n",
       "      <td>강호동</td>\n",
       "      <td>38.0</td>\n",
       "      <td>연예인</td>\n",
       "      <td>talk</td>\n",
       "    </tr>\n",
       "    <tr>\n",
       "      <th>5</th>\n",
       "      <td>신동엽</td>\n",
       "      <td>NaN</td>\n",
       "      <td>연예인</td>\n",
       "      <td>music</td>\n",
       "    </tr>\n",
       "    <tr>\n",
       "      <th>6</th>\n",
       "      <td>고현정</td>\n",
       "      <td>44.0</td>\n",
       "      <td>가수</td>\n",
       "      <td>music</td>\n",
       "    </tr>\n",
       "    <tr>\n",
       "      <th>7</th>\n",
       "      <td>박민영</td>\n",
       "      <td>22.0</td>\n",
       "      <td>학생</td>\n",
       "      <td>art</td>\n",
       "    </tr>\n",
       "    <tr>\n",
       "      <th>8</th>\n",
       "      <td>박서준</td>\n",
       "      <td>18.0</td>\n",
       "      <td>학생</td>\n",
       "      <td>study</td>\n",
       "    </tr>\n",
       "    <tr>\n",
       "      <th>9</th>\n",
       "      <td>박보검</td>\n",
       "      <td>45.0</td>\n",
       "      <td>상담사</td>\n",
       "      <td>talk</td>\n",
       "    </tr>\n",
       "    <tr>\n",
       "      <th>10</th>\n",
       "      <td>이효리</td>\n",
       "      <td>28.0</td>\n",
       "      <td>교수</td>\n",
       "      <td>talk</td>\n",
       "    </tr>\n",
       "    <tr>\n",
       "      <th>11</th>\n",
       "      <td>이상순</td>\n",
       "      <td>29.0</td>\n",
       "      <td>주부</td>\n",
       "      <td>music</td>\n",
       "    </tr>\n",
       "  </tbody>\n",
       "</table>\n",
       "</div>"
      ],
      "text/plain": [
       "   name   age  job  hobby\n",
       "0   신동엽  20.0  연예인  music\n",
       "1   유재석  41.0   교수    art\n",
       "2   김새롬  18.0   학생  study\n",
       "3   이영자  45.0  상담사   talk\n",
       "4   강호동  38.0  연예인   talk\n",
       "5   신동엽   NaN  연예인  music\n",
       "6   고현정  44.0   가수  music\n",
       "7   박민영  22.0   학생    art\n",
       "8   박서준  18.0   학생  study\n",
       "9   박보검  45.0  상담사   talk\n",
       "10  이효리  28.0   교수   talk\n",
       "11  이상순  29.0   주부  music"
      ]
     },
     "execution_count": 27,
     "metadata": {},
     "output_type": "execute_result"
    }
   ],
   "source": [
    "friend_dict_list = [{'name': '신동엽', 'age': 20, 'job': '연예인', 'hobby':'music'},\n",
    "                     {'name': '유재석', 'age': 41, 'job': '교수', 'hobby':'art'},\n",
    "                     {'name': '김새롬', 'age': 18, 'job': '학생', 'hobby':'study'},\n",
    "                     {'name': '이영자', 'age' : 45, 'job': '상담사', 'hobby' : 'talk'},\n",
    "                     {'name' : '강호동', 'age' : 38, 'job' : '연예인', 'hobby' : 'talk'},\n",
    "                     {'name': '신동엽', 'age': None, 'job': '연예인', 'hobby':'music'},\n",
    "                     {'name': '고현정', 'age': 44, 'job': '가수', 'hobby':'music'},\n",
    "                     {'name': '박민영', 'age': 22, 'job': '학생', 'hobby':'art'},\n",
    "                     {'name': '박서준', 'age': 18, 'job': '학생', 'hobby':'study'},\n",
    "                     {'name': '박보검', 'age' : 45, 'job': '상담사', 'hobby' : 'talk'},\n",
    "                     {'name' : '이효리', 'age' : 28, 'job' : '교수', 'hobby' : 'talk'},\n",
    "                    {'name': '이상순', 'age': 29, 'job': '주부', 'hobby':'music'}]\n",
    "\n",
    "df = pd.DataFrame(friend_dict_list)\n",
    "df = df[['name', 'age', 'job', 'hobby']]\n",
    "df"
   ]
  },
  {
   "cell_type": "code",
   "execution_count": 30,
   "metadata": {},
   "outputs": [
    {
     "name": "stdout",
     "output_type": "stream",
     "text": [
      "['연예인' '교수' '학생' '상담사' '가수' '주부']\n"
     ]
    }
   ],
   "source": [
    "print(df.job.unique()) # 중복되지 않는 값 검색"
   ]
  },
  {
   "cell_type": "code",
   "execution_count": 31,
   "metadata": {},
   "outputs": [
    {
     "data": {
      "text/plain": [
       "pandas.core.series.Series"
      ]
     },
     "execution_count": 31,
     "metadata": {},
     "output_type": "execute_result"
    }
   ],
   "source": [
    "type(df.job)"
   ]
  },
  {
   "cell_type": "code",
   "execution_count": 32,
   "metadata": {},
   "outputs": [
    {
     "data": {
      "text/plain": [
       "array(['연예인', '교수', '학생', '상담사', '가수', '주부'], dtype=object)"
      ]
     },
     "execution_count": 32,
     "metadata": {},
     "output_type": "execute_result"
    }
   ],
   "source": [
    "df.job.unique()"
   ]
  },
  {
   "cell_type": "code",
   "execution_count": 33,
   "metadata": {},
   "outputs": [
    {
     "data": {
      "text/plain": [
       "학생     3\n",
       "연예인    3\n",
       "교수     2\n",
       "상담사    2\n",
       "가수     1\n",
       "주부     1\n",
       "Name: job, dtype: int64"
      ]
     },
     "execution_count": 33,
     "metadata": {},
     "output_type": "execute_result"
    }
   ],
   "source": [
    "df.job.value_counts()"
   ]
  },
  {
   "cell_type": "code",
   "execution_count": 34,
   "metadata": {},
   "outputs": [
    {
     "data": {
      "text/plain": [
       "pandas.core.series.Series"
      ]
     },
     "execution_count": 34,
     "metadata": {},
     "output_type": "execute_result"
    }
   ],
   "source": [
    "type(df.job.value_counts())"
   ]
  },
  {
   "cell_type": "code",
   "execution_count": 43,
   "metadata": {},
   "outputs": [
    {
     "name": "stdout",
     "output_type": "stream",
     "text": [
      "['music' 'art' 'study' 'talk']\n",
      "talk     4\n",
      "music    4\n",
      "art      2\n",
      "study    2\n",
      "Name: hobby, dtype: int64\n",
      "hobby\n",
      "art      2\n",
      "music    4\n",
      "study    2\n",
      "talk     4\n",
      "dtype: int64\n"
     ]
    }
   ],
   "source": [
    "# hobby 종류 검색, 갯수 확인, 취미 별 인원수 파악\n",
    "print(df.hobby.unique())\n",
    "print(df.hobby.value_counts())\n",
    "print(df.groupby('hobby').size())"
   ]
  },
  {
   "cell_type": "code",
   "execution_count": 44,
   "metadata": {},
   "outputs": [],
   "source": [
    "l1 = [{'name': '이효리', 'job': \"교수\"},\n",
    "      {'name': '이상순', 'job': \"학생\"},\n",
    "      {'name': '박보검', 'job': \"개발자\"}]\n",
    "\n",
    "l2 = [{'name': '신동엽', 'job': \"치과의사\"},\n",
    "      {'name': '이영자', 'job': \"농부\"},\n",
    "      {'name': '정찬우', 'job': \"연예인\"}]\n",
    "         \n",
    "df1 = pd.DataFrame(l1, columns = ['name', 'job'])\n",
    "df2 = pd.DataFrame(l2, columns = ['name', 'job'])"
   ]
  },
  {
   "cell_type": "code",
   "execution_count": 45,
   "metadata": {},
   "outputs": [
    {
     "data": {
      "text/html": [
       "<div>\n",
       "<style scoped>\n",
       "    .dataframe tbody tr th:only-of-type {\n",
       "        vertical-align: middle;\n",
       "    }\n",
       "\n",
       "    .dataframe tbody tr th {\n",
       "        vertical-align: top;\n",
       "    }\n",
       "\n",
       "    .dataframe thead th {\n",
       "        text-align: right;\n",
       "    }\n",
       "</style>\n",
       "<table border=\"1\" class=\"dataframe\">\n",
       "  <thead>\n",
       "    <tr style=\"text-align: right;\">\n",
       "      <th></th>\n",
       "      <th>name</th>\n",
       "      <th>job</th>\n",
       "    </tr>\n",
       "  </thead>\n",
       "  <tbody>\n",
       "    <tr>\n",
       "      <th>0</th>\n",
       "      <td>이효리</td>\n",
       "      <td>교수</td>\n",
       "    </tr>\n",
       "    <tr>\n",
       "      <th>1</th>\n",
       "      <td>이상순</td>\n",
       "      <td>학생</td>\n",
       "    </tr>\n",
       "    <tr>\n",
       "      <th>2</th>\n",
       "      <td>박보검</td>\n",
       "      <td>개발자</td>\n",
       "    </tr>\n",
       "  </tbody>\n",
       "</table>\n",
       "</div>"
      ],
      "text/plain": [
       "  name  job\n",
       "0  이효리   교수\n",
       "1  이상순   학생\n",
       "2  박보검  개발자"
      ]
     },
     "execution_count": 45,
     "metadata": {},
     "output_type": "execute_result"
    }
   ],
   "source": [
    "df1"
   ]
  },
  {
   "cell_type": "code",
   "execution_count": 46,
   "metadata": {},
   "outputs": [
    {
     "data": {
      "text/html": [
       "<div>\n",
       "<style scoped>\n",
       "    .dataframe tbody tr th:only-of-type {\n",
       "        vertical-align: middle;\n",
       "    }\n",
       "\n",
       "    .dataframe tbody tr th {\n",
       "        vertical-align: top;\n",
       "    }\n",
       "\n",
       "    .dataframe thead th {\n",
       "        text-align: right;\n",
       "    }\n",
       "</style>\n",
       "<table border=\"1\" class=\"dataframe\">\n",
       "  <thead>\n",
       "    <tr style=\"text-align: right;\">\n",
       "      <th></th>\n",
       "      <th>name</th>\n",
       "      <th>job</th>\n",
       "    </tr>\n",
       "  </thead>\n",
       "  <tbody>\n",
       "    <tr>\n",
       "      <th>0</th>\n",
       "      <td>신동엽</td>\n",
       "      <td>치과의사</td>\n",
       "    </tr>\n",
       "    <tr>\n",
       "      <th>1</th>\n",
       "      <td>이영자</td>\n",
       "      <td>농부</td>\n",
       "    </tr>\n",
       "    <tr>\n",
       "      <th>2</th>\n",
       "      <td>정찬우</td>\n",
       "      <td>연예인</td>\n",
       "    </tr>\n",
       "  </tbody>\n",
       "</table>\n",
       "</div>"
      ],
      "text/plain": [
       "  name   job\n",
       "0  신동엽  치과의사\n",
       "1  이영자    농부\n",
       "2  정찬우   연예인"
      ]
     },
     "execution_count": 46,
     "metadata": {},
     "output_type": "execute_result"
    }
   ],
   "source": [
    "df2"
   ]
  },
  {
   "cell_type": "code",
   "execution_count": 47,
   "metadata": {},
   "outputs": [
    {
     "name": "stdout",
     "output_type": "stream",
     "text": [
      "<class 'pandas.core.frame.DataFrame'> <class 'pandas.core.frame.DataFrame'>\n"
     ]
    }
   ],
   "source": [
    "print(type(df1), type(df2))"
   ]
  },
  {
   "cell_type": "code",
   "execution_count": 50,
   "metadata": {},
   "outputs": [
    {
     "data": {
      "text/plain": [
       "[  name  job\n",
       " 0  이효리   교수\n",
       " 1  이상순   학생\n",
       " 2  박보검  개발자,   name   job\n",
       " 0  신동엽  치과의사\n",
       " 1  이영자    농부\n",
       " 2  정찬우   연예인]"
      ]
     },
     "execution_count": 50,
     "metadata": {},
     "output_type": "execute_result"
    }
   ],
   "source": [
    "df3 = [df1, df2]\n",
    "df3 "
   ]
  },
  {
   "cell_type": "code",
   "execution_count": 51,
   "metadata": {},
   "outputs": [
    {
     "data": {
      "text/html": [
       "<div>\n",
       "<style scoped>\n",
       "    .dataframe tbody tr th:only-of-type {\n",
       "        vertical-align: middle;\n",
       "    }\n",
       "\n",
       "    .dataframe tbody tr th {\n",
       "        vertical-align: top;\n",
       "    }\n",
       "\n",
       "    .dataframe thead th {\n",
       "        text-align: right;\n",
       "    }\n",
       "</style>\n",
       "<table border=\"1\" class=\"dataframe\">\n",
       "  <thead>\n",
       "    <tr style=\"text-align: right;\">\n",
       "      <th></th>\n",
       "      <th>name</th>\n",
       "      <th>job</th>\n",
       "    </tr>\n",
       "  </thead>\n",
       "  <tbody>\n",
       "    <tr>\n",
       "      <th>0</th>\n",
       "      <td>이효리</td>\n",
       "      <td>교수</td>\n",
       "    </tr>\n",
       "    <tr>\n",
       "      <th>1</th>\n",
       "      <td>이상순</td>\n",
       "      <td>학생</td>\n",
       "    </tr>\n",
       "    <tr>\n",
       "      <th>2</th>\n",
       "      <td>박보검</td>\n",
       "      <td>개발자</td>\n",
       "    </tr>\n",
       "    <tr>\n",
       "      <th>0</th>\n",
       "      <td>신동엽</td>\n",
       "      <td>치과의사</td>\n",
       "    </tr>\n",
       "    <tr>\n",
       "      <th>1</th>\n",
       "      <td>이영자</td>\n",
       "      <td>농부</td>\n",
       "    </tr>\n",
       "    <tr>\n",
       "      <th>2</th>\n",
       "      <td>정찬우</td>\n",
       "      <td>연예인</td>\n",
       "    </tr>\n",
       "  </tbody>\n",
       "</table>\n",
       "</div>"
      ],
      "text/plain": [
       "  name   job\n",
       "0  이효리    교수\n",
       "1  이상순    학생\n",
       "2  박보검   개발자\n",
       "0  신동엽  치과의사\n",
       "1  이영자    농부\n",
       "2  정찬우   연예인"
      ]
     },
     "execution_count": 51,
     "metadata": {},
     "output_type": "execute_result"
    }
   ],
   "source": [
    "df4 = pd.concat(df3)\n",
    "df4"
   ]
  },
  {
   "cell_type": "code",
   "execution_count": 53,
   "metadata": {},
   "outputs": [
    {
     "data": {
      "text/html": [
       "<div>\n",
       "<style scoped>\n",
       "    .dataframe tbody tr th:only-of-type {\n",
       "        vertical-align: middle;\n",
       "    }\n",
       "\n",
       "    .dataframe tbody tr th {\n",
       "        vertical-align: top;\n",
       "    }\n",
       "\n",
       "    .dataframe thead th {\n",
       "        text-align: right;\n",
       "    }\n",
       "</style>\n",
       "<table border=\"1\" class=\"dataframe\">\n",
       "  <thead>\n",
       "    <tr style=\"text-align: right;\">\n",
       "      <th></th>\n",
       "      <th>name</th>\n",
       "      <th>job</th>\n",
       "    </tr>\n",
       "  </thead>\n",
       "  <tbody>\n",
       "    <tr>\n",
       "      <th>0</th>\n",
       "      <td>이효리</td>\n",
       "      <td>교수</td>\n",
       "    </tr>\n",
       "    <tr>\n",
       "      <th>1</th>\n",
       "      <td>이상순</td>\n",
       "      <td>학생</td>\n",
       "    </tr>\n",
       "    <tr>\n",
       "      <th>2</th>\n",
       "      <td>박보검</td>\n",
       "      <td>개발자</td>\n",
       "    </tr>\n",
       "    <tr>\n",
       "      <th>3</th>\n",
       "      <td>신동엽</td>\n",
       "      <td>치과의사</td>\n",
       "    </tr>\n",
       "    <tr>\n",
       "      <th>4</th>\n",
       "      <td>이영자</td>\n",
       "      <td>농부</td>\n",
       "    </tr>\n",
       "    <tr>\n",
       "      <th>5</th>\n",
       "      <td>정찬우</td>\n",
       "      <td>연예인</td>\n",
       "    </tr>\n",
       "  </tbody>\n",
       "</table>\n",
       "</div>"
      ],
      "text/plain": [
       "  name   job\n",
       "0  이효리    교수\n",
       "1  이상순    학생\n",
       "2  박보검   개발자\n",
       "3  신동엽  치과의사\n",
       "4  이영자    농부\n",
       "5  정찬우   연예인"
      ]
     },
     "execution_count": 53,
     "metadata": {},
     "output_type": "execute_result"
    }
   ],
   "source": [
    "df4 = pd.concat(df3, ignore_index=True)\n",
    "df4"
   ]
  },
  {
   "cell_type": "code",
   "execution_count": 76,
   "metadata": {},
   "outputs": [],
   "source": [
    "# 컬럼 기준으로 데이터 병합하기\n",
    "l1 = [{'name': '이효리', 'job': \"교수\"},\n",
    "      {'name': '이상순', 'job': \"학생\"},\n",
    "      {'name': '박보검', 'job': \"개발자\"}]\n",
    "\n",
    "l2 = [{'name': '신동엽', 'job': \"치과의사\"},\n",
    "      {'name': '이영자', 'job': \"농부\"},\n",
    "      {'name': '정찬우', 'job': \"연예인\"}]\n",
    "         \n",
    "df1 = pd.DataFrame(l1, columns = ['name', 'job'])\n",
    "df2 = pd.DataFrame(l2, columns = ['name', 'job'])"
   ]
  },
  {
   "cell_type": "code",
   "execution_count": 77,
   "metadata": {},
   "outputs": [
    {
     "data": {
      "text/html": [
       "<div>\n",
       "<style scoped>\n",
       "    .dataframe tbody tr th:only-of-type {\n",
       "        vertical-align: middle;\n",
       "    }\n",
       "\n",
       "    .dataframe tbody tr th {\n",
       "        vertical-align: top;\n",
       "    }\n",
       "\n",
       "    .dataframe thead th {\n",
       "        text-align: right;\n",
       "    }\n",
       "</style>\n",
       "<table border=\"1\" class=\"dataframe\">\n",
       "  <thead>\n",
       "    <tr style=\"text-align: right;\">\n",
       "      <th></th>\n",
       "      <th>name</th>\n",
       "      <th>job</th>\n",
       "      <th>name</th>\n",
       "      <th>job</th>\n",
       "    </tr>\n",
       "  </thead>\n",
       "  <tbody>\n",
       "    <tr>\n",
       "      <th>0</th>\n",
       "      <td>이효리</td>\n",
       "      <td>교수</td>\n",
       "      <td>신동엽</td>\n",
       "      <td>치과의사</td>\n",
       "    </tr>\n",
       "    <tr>\n",
       "      <th>1</th>\n",
       "      <td>이상순</td>\n",
       "      <td>학생</td>\n",
       "      <td>이영자</td>\n",
       "      <td>농부</td>\n",
       "    </tr>\n",
       "    <tr>\n",
       "      <th>2</th>\n",
       "      <td>박보검</td>\n",
       "      <td>개발자</td>\n",
       "      <td>정찬우</td>\n",
       "      <td>연예인</td>\n",
       "    </tr>\n",
       "  </tbody>\n",
       "</table>\n",
       "</div>"
      ],
      "text/plain": [
       "  name  job name   job\n",
       "0  이효리   교수  신동엽  치과의사\n",
       "1  이상순   학생  이영자    농부\n",
       "2  박보검  개발자  정찬우   연예인"
      ]
     },
     "execution_count": 77,
     "metadata": {},
     "output_type": "execute_result"
    }
   ],
   "source": [
    "df3 = [df1,df2]\n",
    "df4 = pd.concat(df3, axis=1)\n",
    "df4"
   ]
  },
  {
   "cell_type": "code",
   "execution_count": 107,
   "metadata": {},
   "outputs": [
    {
     "data": {
      "text/html": [
       "<div>\n",
       "<style scoped>\n",
       "    .dataframe tbody tr th:only-of-type {\n",
       "        vertical-align: middle;\n",
       "    }\n",
       "\n",
       "    .dataframe tbody tr th {\n",
       "        vertical-align: top;\n",
       "    }\n",
       "\n",
       "    .dataframe thead th {\n",
       "        text-align: right;\n",
       "    }\n",
       "</style>\n",
       "<table border=\"1\" class=\"dataframe\">\n",
       "  <thead>\n",
       "    <tr style=\"text-align: right;\">\n",
       "      <th></th>\n",
       "      <th>이름</th>\n",
       "      <th>직업1</th>\n",
       "      <th>이름</th>\n",
       "      <th>직업2</th>\n",
       "    </tr>\n",
       "  </thead>\n",
       "  <tbody>\n",
       "    <tr>\n",
       "      <th>0</th>\n",
       "      <td>이효리</td>\n",
       "      <td>교수</td>\n",
       "      <td>신동엽</td>\n",
       "      <td>치과의사</td>\n",
       "    </tr>\n",
       "    <tr>\n",
       "      <th>1</th>\n",
       "      <td>이상순</td>\n",
       "      <td>학생</td>\n",
       "      <td>이영자</td>\n",
       "      <td>농부</td>\n",
       "    </tr>\n",
       "    <tr>\n",
       "      <th>2</th>\n",
       "      <td>박보검</td>\n",
       "      <td>개발자</td>\n",
       "      <td>정찬우</td>\n",
       "      <td>연예인</td>\n",
       "    </tr>\n",
       "  </tbody>\n",
       "</table>\n",
       "</div>"
      ],
      "text/plain": [
       "    이름  직업1   이름   직업2\n",
       "0  이효리   교수  신동엽  치과의사\n",
       "1  이상순   학생  이영자    농부\n",
       "2  박보검  개발자  정찬우   연예인"
      ]
     },
     "execution_count": 107,
     "metadata": {},
     "output_type": "execute_result"
    }
   ],
   "source": [
    "# 컬럼명 수정, 이름, 직업\n",
    "df4.columns = ['이름', '직업1', '이름', '직업2']\n",
    "df4"
   ]
  },
  {
   "cell_type": "code",
   "execution_count": 108,
   "metadata": {},
   "outputs": [
    {
     "data": {
      "text/plain": [
       "pandas.core.series.Series"
      ]
     },
     "execution_count": 108,
     "metadata": {},
     "output_type": "execute_result"
    }
   ],
   "source": [
    "type(df4[:3]['직업2'])"
   ]
  },
  {
   "cell_type": "code",
   "execution_count": 112,
   "metadata": {},
   "outputs": [
    {
     "data": {
      "text/plain": [
       "0    치과의사\n",
       "Name: 직업2, dtype: object"
      ]
     },
     "execution_count": 112,
     "metadata": {},
     "output_type": "execute_result"
    }
   ],
   "source": [
    "df4['직업2'][0:1]"
   ]
  },
  {
   "cell_type": "code",
   "execution_count": 113,
   "metadata": {},
   "outputs": [
    {
     "data": {
      "text/plain": [
       "'교수'"
      ]
     },
     "execution_count": 113,
     "metadata": {},
     "output_type": "execute_result"
    }
   ],
   "source": [
    "df4['직업1'][0]"
   ]
  },
  {
   "cell_type": "code",
   "execution_count": 125,
   "metadata": {},
   "outputs": [
    {
     "name": "stdout",
     "output_type": "stream",
     "text": [
      "교수 치과의사\n"
     ]
    }
   ],
   "source": [
    "tmp1 = df4['직업1'][0]\n",
    "tmp2 = df4['직업2'][0]\n",
    "print(tmp1, tmp2)"
   ]
  },
  {
   "cell_type": "markdown",
   "metadata": {},
   "source": [
    "### 문제\n",
    " > Q1 학생들간에 중간, 기말 성적들 만으로 총점 , 평균을 추가<br>\n",
    "   Q2 데이터 프레임도 반복문으로 처리 가능 / 평균값을 반복문으로 출력해보기 for in <br>\n",
    "   Q3 등급 grade 이라는 컬럼 추가 / 90점 이상(A), 80점이상 (B), 그 외 F등급/ 파이썬 조건문 사용해서 처리해보기\n"
   ]
  },
  {
   "cell_type": "code",
   "execution_count": 192,
   "metadata": {},
   "outputs": [
    {
     "data": {
      "text/html": [
       "<div>\n",
       "<style scoped>\n",
       "    .dataframe tbody tr th:only-of-type {\n",
       "        vertical-align: middle;\n",
       "    }\n",
       "\n",
       "    .dataframe tbody tr th {\n",
       "        vertical-align: top;\n",
       "    }\n",
       "\n",
       "    .dataframe thead th {\n",
       "        text-align: right;\n",
       "    }\n",
       "</style>\n",
       "<table border=\"1\" class=\"dataframe\">\n",
       "  <thead>\n",
       "    <tr style=\"text-align: right;\">\n",
       "      <th></th>\n",
       "      <th>이름</th>\n",
       "      <th>중간고사점수</th>\n",
       "      <th>기말고사점수</th>\n",
       "    </tr>\n",
       "  </thead>\n",
       "  <tbody>\n",
       "    <tr>\n",
       "      <th>0</th>\n",
       "      <td>나학생1</td>\n",
       "      <td>95</td>\n",
       "      <td>85</td>\n",
       "    </tr>\n",
       "    <tr>\n",
       "      <th>1</th>\n",
       "      <td>나학생2</td>\n",
       "      <td>85</td>\n",
       "      <td>80</td>\n",
       "    </tr>\n",
       "    <tr>\n",
       "      <th>2</th>\n",
       "      <td>나학생3</td>\n",
       "      <td>10</td>\n",
       "      <td>30</td>\n",
       "    </tr>\n",
       "  </tbody>\n",
       "</table>\n",
       "</div>"
      ],
      "text/plain": [
       "     이름  중간고사점수  기말고사점수\n",
       "0  나학생1      95      85\n",
       "1  나학생2      85      80\n",
       "2  나학생3      10      30"
      ]
     },
     "execution_count": 192,
     "metadata": {},
     "output_type": "execute_result"
    }
   ],
   "source": [
    "friend_dict_list = [{'이름': '나학생1', '중간고사점수': 95, '기말고사점수': 85},\n",
    "         {'이름': '나학생2', '중간고사점수': 85, '기말고사점수': 80},\n",
    "         {'이름': '나학생3', '중간고사점수': 10, '기말고사점수': 30}]\n",
    "\n",
    "df = pd.DataFrame(friend_dict_list, columns = ['이름', '중간고사점수', '기말고사점수'])\n",
    "df"
   ]
  },
  {
   "cell_type": "code",
   "execution_count": 194,
   "metadata": {},
   "outputs": [
    {
     "data": {
      "text/html": [
       "<div>\n",
       "<style scoped>\n",
       "    .dataframe tbody tr th:only-of-type {\n",
       "        vertical-align: middle;\n",
       "    }\n",
       "\n",
       "    .dataframe tbody tr th {\n",
       "        vertical-align: top;\n",
       "    }\n",
       "\n",
       "    .dataframe thead th {\n",
       "        text-align: right;\n",
       "    }\n",
       "</style>\n",
       "<table border=\"1\" class=\"dataframe\">\n",
       "  <thead>\n",
       "    <tr style=\"text-align: right;\">\n",
       "      <th></th>\n",
       "      <th>이름</th>\n",
       "      <th>중간고사점수</th>\n",
       "      <th>기말고사점수</th>\n",
       "      <th>총점</th>\n",
       "    </tr>\n",
       "  </thead>\n",
       "  <tbody>\n",
       "    <tr>\n",
       "      <th>0</th>\n",
       "      <td>나학생1</td>\n",
       "      <td>95</td>\n",
       "      <td>85</td>\n",
       "      <td>180</td>\n",
       "    </tr>\n",
       "    <tr>\n",
       "      <th>1</th>\n",
       "      <td>나학생2</td>\n",
       "      <td>85</td>\n",
       "      <td>80</td>\n",
       "      <td>165</td>\n",
       "    </tr>\n",
       "    <tr>\n",
       "      <th>2</th>\n",
       "      <td>나학생3</td>\n",
       "      <td>10</td>\n",
       "      <td>30</td>\n",
       "      <td>40</td>\n",
       "    </tr>\n",
       "  </tbody>\n",
       "</table>\n",
       "</div>"
      ],
      "text/plain": [
       "     이름  중간고사점수  기말고사점수   총점\n",
       "0  나학생1      95      85  180\n",
       "1  나학생2      85      80  165\n",
       "2  나학생3      10      30   40"
      ]
     },
     "execution_count": 194,
     "metadata": {},
     "output_type": "execute_result"
    }
   ],
   "source": [
    "df['총점'] = df['중간고사점수']+ df['기말고사점수']\n",
    "df"
   ]
  },
  {
   "cell_type": "code",
   "execution_count": 195,
   "metadata": {},
   "outputs": [
    {
     "data": {
      "text/html": [
       "<div>\n",
       "<style scoped>\n",
       "    .dataframe tbody tr th:only-of-type {\n",
       "        vertical-align: middle;\n",
       "    }\n",
       "\n",
       "    .dataframe tbody tr th {\n",
       "        vertical-align: top;\n",
       "    }\n",
       "\n",
       "    .dataframe thead th {\n",
       "        text-align: right;\n",
       "    }\n",
       "</style>\n",
       "<table border=\"1\" class=\"dataframe\">\n",
       "  <thead>\n",
       "    <tr style=\"text-align: right;\">\n",
       "      <th></th>\n",
       "      <th>이름</th>\n",
       "      <th>중간고사점수</th>\n",
       "      <th>기말고사점수</th>\n",
       "      <th>총점</th>\n",
       "      <th>평균</th>\n",
       "    </tr>\n",
       "  </thead>\n",
       "  <tbody>\n",
       "    <tr>\n",
       "      <th>0</th>\n",
       "      <td>나학생1</td>\n",
       "      <td>95</td>\n",
       "      <td>85</td>\n",
       "      <td>180</td>\n",
       "      <td>90.0</td>\n",
       "    </tr>\n",
       "    <tr>\n",
       "      <th>1</th>\n",
       "      <td>나학생2</td>\n",
       "      <td>85</td>\n",
       "      <td>80</td>\n",
       "      <td>165</td>\n",
       "      <td>82.5</td>\n",
       "    </tr>\n",
       "    <tr>\n",
       "      <th>2</th>\n",
       "      <td>나학생3</td>\n",
       "      <td>10</td>\n",
       "      <td>30</td>\n",
       "      <td>40</td>\n",
       "      <td>20.0</td>\n",
       "    </tr>\n",
       "  </tbody>\n",
       "</table>\n",
       "</div>"
      ],
      "text/plain": [
       "     이름  중간고사점수  기말고사점수   총점    평균\n",
       "0  나학생1      95      85  180  90.0\n",
       "1  나학생2      85      80  165  82.5\n",
       "2  나학생3      10      30   40  20.0"
      ]
     },
     "execution_count": 195,
     "metadata": {},
     "output_type": "execute_result"
    }
   ],
   "source": [
    "df['평균'] =( df['중간고사점수']+ df['기말고사점수'] ) / 2\n",
    "df"
   ]
  },
  {
   "cell_type": "code",
   "execution_count": 196,
   "metadata": {},
   "outputs": [
    {
     "name": "stdout",
     "output_type": "stream",
     "text": [
      "이름\n",
      "중간고사점수\n",
      "기말고사점수\n",
      "총점\n",
      "평균\n"
     ]
    }
   ],
   "source": [
    "for v in df:\n",
    "    print(v)"
   ]
  },
  {
   "cell_type": "code",
   "execution_count": 197,
   "metadata": {},
   "outputs": [
    {
     "name": "stdout",
     "output_type": "stream",
     "text": [
      "이름   0    나학생1\n",
      "1    나학생2\n",
      "2    나학생3\n",
      "Name: 이름, dtype: object\n",
      "중간고사점수   0    95\n",
      "1    85\n",
      "2    10\n",
      "Name: 중간고사점수, dtype: int64\n",
      "기말고사점수   0    85\n",
      "1    80\n",
      "2    30\n",
      "Name: 기말고사점수, dtype: int64\n",
      "총점   0    180\n",
      "1    165\n",
      "2     40\n",
      "Name: 총점, dtype: int64\n",
      "평균   0    90.0\n",
      "1    82.5\n",
      "2    20.0\n",
      "Name: 평균, dtype: float64\n"
     ]
    }
   ],
   "source": [
    "for key, value in df.iteritems():\n",
    "    print(key, \" \", value)"
   ]
  },
  {
   "cell_type": "code",
   "execution_count": 214,
   "metadata": {},
   "outputs": [
    {
     "data": {
      "text/html": [
       "<div>\n",
       "<style scoped>\n",
       "    .dataframe tbody tr th:only-of-type {\n",
       "        vertical-align: middle;\n",
       "    }\n",
       "\n",
       "    .dataframe tbody tr th {\n",
       "        vertical-align: top;\n",
       "    }\n",
       "\n",
       "    .dataframe thead th {\n",
       "        text-align: right;\n",
       "    }\n",
       "</style>\n",
       "<table border=\"1\" class=\"dataframe\">\n",
       "  <thead>\n",
       "    <tr style=\"text-align: right;\">\n",
       "      <th></th>\n",
       "      <th>이름</th>\n",
       "      <th>중간고사점수</th>\n",
       "      <th>기말고사점수</th>\n",
       "      <th>총점</th>\n",
       "      <th>평균</th>\n",
       "      <th>등급</th>\n",
       "    </tr>\n",
       "  </thead>\n",
       "  <tbody>\n",
       "    <tr>\n",
       "      <th>0</th>\n",
       "      <td>나학생1</td>\n",
       "      <td>95</td>\n",
       "      <td>85</td>\n",
       "      <td>180</td>\n",
       "      <td>90.0</td>\n",
       "      <td>A</td>\n",
       "    </tr>\n",
       "    <tr>\n",
       "      <th>1</th>\n",
       "      <td>나학생2</td>\n",
       "      <td>85</td>\n",
       "      <td>80</td>\n",
       "      <td>165</td>\n",
       "      <td>82.5</td>\n",
       "      <td>B</td>\n",
       "    </tr>\n",
       "    <tr>\n",
       "      <th>2</th>\n",
       "      <td>나학생3</td>\n",
       "      <td>10</td>\n",
       "      <td>30</td>\n",
       "      <td>40</td>\n",
       "      <td>20.0</td>\n",
       "      <td>F</td>\n",
       "    </tr>\n",
       "  </tbody>\n",
       "</table>\n",
       "</div>"
      ],
      "text/plain": [
       "     이름  중간고사점수  기말고사점수   총점    평균 등급\n",
       "0  나학생1      95      85  180  90.0  A\n",
       "1  나학생2      85      80  165  82.5  B\n",
       "2  나학생3      10      30   40  20.0  F"
      ]
     },
     "execution_count": 214,
     "metadata": {},
     "output_type": "execute_result"
    }
   ],
   "source": [
    "df['등급'] = None\n",
    "grade = []\n",
    "for avg in df['평균']:\n",
    "    if avg >= 90:\n",
    "        grade.append('A')\n",
    "    elif avg >= 80:\n",
    "        grade.append('B')\n",
    "    else:\n",
    "        grade.append('F')\n",
    "df['등급'] = grade\n",
    "df"
   ]
  },
  {
   "cell_type": "markdown",
   "metadata": {},
   "source": [
    "### 문제 : \n",
    "> '이수여부' 라는 컬럼을 추가하되 등급을 기준으로 <br>\n",
    "    f인 경우 fail / F 가 아닌경우 pass 값으로 반영 <br>\n",
    "    단 lambda 문법으로 처리해보기"
   ]
  },
  {
   "cell_type": "code",
   "execution_count": 217,
   "metadata": {},
   "outputs": [
    {
     "data": {
      "text/html": [
       "<div>\n",
       "<style scoped>\n",
       "    .dataframe tbody tr th:only-of-type {\n",
       "        vertical-align: middle;\n",
       "    }\n",
       "\n",
       "    .dataframe tbody tr th {\n",
       "        vertical-align: top;\n",
       "    }\n",
       "\n",
       "    .dataframe thead th {\n",
       "        text-align: right;\n",
       "    }\n",
       "</style>\n",
       "<table border=\"1\" class=\"dataframe\">\n",
       "  <thead>\n",
       "    <tr style=\"text-align: right;\">\n",
       "      <th></th>\n",
       "      <th>이름</th>\n",
       "      <th>중간고사점수</th>\n",
       "      <th>기말고사점수</th>\n",
       "      <th>총점</th>\n",
       "      <th>평균</th>\n",
       "      <th>등급</th>\n",
       "      <th>이수여부</th>\n",
       "    </tr>\n",
       "  </thead>\n",
       "  <tbody>\n",
       "    <tr>\n",
       "      <th>0</th>\n",
       "      <td>나학생1</td>\n",
       "      <td>95</td>\n",
       "      <td>85</td>\n",
       "      <td>180</td>\n",
       "      <td>90.0</td>\n",
       "      <td>A</td>\n",
       "      <td>pass</td>\n",
       "    </tr>\n",
       "    <tr>\n",
       "      <th>1</th>\n",
       "      <td>나학생2</td>\n",
       "      <td>85</td>\n",
       "      <td>80</td>\n",
       "      <td>165</td>\n",
       "      <td>82.5</td>\n",
       "      <td>B</td>\n",
       "      <td>pass</td>\n",
       "    </tr>\n",
       "    <tr>\n",
       "      <th>2</th>\n",
       "      <td>나학생3</td>\n",
       "      <td>10</td>\n",
       "      <td>30</td>\n",
       "      <td>40</td>\n",
       "      <td>20.0</td>\n",
       "      <td>F</td>\n",
       "      <td>fail</td>\n",
       "    </tr>\n",
       "  </tbody>\n",
       "</table>\n",
       "</div>"
      ],
      "text/plain": [
       "     이름  중간고사점수  기말고사점수   총점    평균 등급  이수여부\n",
       "0  나학생1      95      85  180  90.0  A  pass\n",
       "1  나학생2      85      80  165  82.5  B  pass\n",
       "2  나학생3      10      30   40  20.0  F  fail"
      ]
     },
     "execution_count": 217,
     "metadata": {},
     "output_type": "execute_result"
    }
   ],
   "source": [
    "df['이수여부'] = df['등급'].apply(lambda x :'pass' if x != 'F' else 'fail')\n",
    "df"
   ]
  },
  {
   "cell_type": "markdown",
   "metadata": {},
   "source": [
    "### 문제 :\n",
    "> apply 함수를 사용해서 년월일 정보에서 년에 해당하는 정보만 반환"
   ]
  },
  {
   "cell_type": "code",
   "execution_count": 219,
   "metadata": {},
   "outputs": [
    {
     "data": {
      "text/html": [
       "<div>\n",
       "<style scoped>\n",
       "    .dataframe tbody tr th:only-of-type {\n",
       "        vertical-align: middle;\n",
       "    }\n",
       "\n",
       "    .dataframe tbody tr th {\n",
       "        vertical-align: top;\n",
       "    }\n",
       "\n",
       "    .dataframe thead th {\n",
       "        text-align: right;\n",
       "    }\n",
       "</style>\n",
       "<table border=\"1\" class=\"dataframe\">\n",
       "  <thead>\n",
       "    <tr style=\"text-align: right;\">\n",
       "      <th></th>\n",
       "      <th>yyyy-mm-dd</th>\n",
       "    </tr>\n",
       "  </thead>\n",
       "  <tbody>\n",
       "    <tr>\n",
       "      <th>0</th>\n",
       "      <td>2000-06-27</td>\n",
       "    </tr>\n",
       "    <tr>\n",
       "      <th>1</th>\n",
       "      <td>2002-09-24</td>\n",
       "    </tr>\n",
       "    <tr>\n",
       "      <th>2</th>\n",
       "      <td>2018-12-20</td>\n",
       "    </tr>\n",
       "  </tbody>\n",
       "</table>\n",
       "</div>"
      ],
      "text/plain": [
       "   yyyy-mm-dd\n",
       "0  2000-06-27\n",
       "1  2002-09-24\n",
       "2  2018-12-20"
      ]
     },
     "execution_count": 219,
     "metadata": {},
     "output_type": "execute_result"
    }
   ],
   "source": [
    "date_list = [{'yyyy-mm-dd': '2000-06-27'},\n",
    "         {'yyyy-mm-dd': '2002-09-24'},\n",
    "         {'yyyy-mm-dd': '2018-12-20'}]\n",
    "\n",
    "df = pd.DataFrame(date_list, columns = ['yyyy-mm-dd'])\n",
    "df"
   ]
  },
  {
   "cell_type": "code",
   "execution_count": 234,
   "metadata": {},
   "outputs": [],
   "source": [
    "def getYear(row):\n",
    "    return row.split('-')[0]"
   ]
  },
  {
   "cell_type": "code",
   "execution_count": 241,
   "metadata": {},
   "outputs": [
    {
     "data": {
      "text/html": [
       "<div>\n",
       "<style scoped>\n",
       "    .dataframe tbody tr th:only-of-type {\n",
       "        vertical-align: middle;\n",
       "    }\n",
       "\n",
       "    .dataframe tbody tr th {\n",
       "        vertical-align: top;\n",
       "    }\n",
       "\n",
       "    .dataframe thead th {\n",
       "        text-align: right;\n",
       "    }\n",
       "</style>\n",
       "<table border=\"1\" class=\"dataframe\">\n",
       "  <thead>\n",
       "    <tr style=\"text-align: right;\">\n",
       "      <th></th>\n",
       "      <th>yyyy-mm-dd</th>\n",
       "      <th>year</th>\n",
       "    </tr>\n",
       "  </thead>\n",
       "  <tbody>\n",
       "    <tr>\n",
       "      <th>0</th>\n",
       "      <td>2000-06-27</td>\n",
       "      <td>2000</td>\n",
       "    </tr>\n",
       "    <tr>\n",
       "      <th>1</th>\n",
       "      <td>2002-09-24</td>\n",
       "      <td>2002</td>\n",
       "    </tr>\n",
       "    <tr>\n",
       "      <th>2</th>\n",
       "      <td>2018-12-20</td>\n",
       "      <td>2018</td>\n",
       "    </tr>\n",
       "  </tbody>\n",
       "</table>\n",
       "</div>"
      ],
      "text/plain": [
       "   yyyy-mm-dd  year\n",
       "0  2000-06-27  2000\n",
       "1  2002-09-24  2002\n",
       "2  2018-12-20  2018"
      ]
     },
     "execution_count": 241,
     "metadata": {},
     "output_type": "execute_result"
    }
   ],
   "source": [
    "# 사용자 정의 함수를 개발해서 apply()에서 호출\n",
    "df['year'] = df['yyyy-mm-dd'].apply(getYear)\n",
    "df"
   ]
  },
  {
   "cell_type": "code",
   "execution_count": 253,
   "metadata": {},
   "outputs": [],
   "source": [
    "def getAge(year , currentYear):\n",
    "    return currentYear - int(year)"
   ]
  },
  {
   "cell_type": "code",
   "execution_count": 254,
   "metadata": {},
   "outputs": [
    {
     "data": {
      "text/html": [
       "<div>\n",
       "<style scoped>\n",
       "    .dataframe tbody tr th:only-of-type {\n",
       "        vertical-align: middle;\n",
       "    }\n",
       "\n",
       "    .dataframe tbody tr th {\n",
       "        vertical-align: top;\n",
       "    }\n",
       "\n",
       "    .dataframe thead th {\n",
       "        text-align: right;\n",
       "    }\n",
       "</style>\n",
       "<table border=\"1\" class=\"dataframe\">\n",
       "  <thead>\n",
       "    <tr style=\"text-align: right;\">\n",
       "      <th></th>\n",
       "      <th>yyyy-mm-dd</th>\n",
       "      <th>year</th>\n",
       "      <th>age</th>\n",
       "    </tr>\n",
       "  </thead>\n",
       "  <tbody>\n",
       "    <tr>\n",
       "      <th>0</th>\n",
       "      <td>2000-06-27</td>\n",
       "      <td>2000</td>\n",
       "      <td>18</td>\n",
       "    </tr>\n",
       "    <tr>\n",
       "      <th>1</th>\n",
       "      <td>2002-09-24</td>\n",
       "      <td>2002</td>\n",
       "      <td>16</td>\n",
       "    </tr>\n",
       "    <tr>\n",
       "      <th>2</th>\n",
       "      <td>2018-12-20</td>\n",
       "      <td>2018</td>\n",
       "      <td>0</td>\n",
       "    </tr>\n",
       "  </tbody>\n",
       "</table>\n",
       "</div>"
      ],
      "text/plain": [
       "   yyyy-mm-dd  year  age\n",
       "0  2000-06-27  2000   18\n",
       "1  2002-09-24  2002   16\n",
       "2  2018-12-20  2018    0"
      ]
     },
     "execution_count": 254,
     "metadata": {},
     "output_type": "execute_result"
    }
   ],
   "source": [
    "# apply 함수 안에는 소괄호 쓰면 안됨\n",
    "df['age'] = df['year'].apply(getAge, currentYear=2018)\n",
    "df"
   ]
  },
  {
   "cell_type": "code",
   "execution_count": 257,
   "metadata": {},
   "outputs": [],
   "source": [
    "def getinfo(age, prefix, suffix):\n",
    "    return prefix + str(age) + suffix"
   ]
  },
  {
   "cell_type": "code",
   "execution_count": 258,
   "metadata": {},
   "outputs": [
    {
     "data": {
      "text/html": [
       "<div>\n",
       "<style scoped>\n",
       "    .dataframe tbody tr th:only-of-type {\n",
       "        vertical-align: middle;\n",
       "    }\n",
       "\n",
       "    .dataframe tbody tr th {\n",
       "        vertical-align: top;\n",
       "    }\n",
       "\n",
       "    .dataframe thead th {\n",
       "        text-align: right;\n",
       "    }\n",
       "</style>\n",
       "<table border=\"1\" class=\"dataframe\">\n",
       "  <thead>\n",
       "    <tr style=\"text-align: right;\">\n",
       "      <th></th>\n",
       "      <th>yyyy-mm-dd</th>\n",
       "      <th>year</th>\n",
       "      <th>age</th>\n",
       "      <th>info</th>\n",
       "    </tr>\n",
       "  </thead>\n",
       "  <tbody>\n",
       "    <tr>\n",
       "      <th>0</th>\n",
       "      <td>2000-06-27</td>\n",
       "      <td>2000</td>\n",
       "      <td>18</td>\n",
       "      <td>내 나이는 18살</td>\n",
       "    </tr>\n",
       "    <tr>\n",
       "      <th>1</th>\n",
       "      <td>2002-09-24</td>\n",
       "      <td>2002</td>\n",
       "      <td>16</td>\n",
       "      <td>내 나이는 16살</td>\n",
       "    </tr>\n",
       "    <tr>\n",
       "      <th>2</th>\n",
       "      <td>2018-12-20</td>\n",
       "      <td>2018</td>\n",
       "      <td>0</td>\n",
       "      <td>내 나이는 0살</td>\n",
       "    </tr>\n",
       "  </tbody>\n",
       "</table>\n",
       "</div>"
      ],
      "text/plain": [
       "   yyyy-mm-dd  year  age       info\n",
       "0  2000-06-27  2000   18  내 나이는 18살\n",
       "1  2002-09-24  2002   16  내 나이는 16살\n",
       "2  2018-12-20  2018    0   내 나이는 0살"
      ]
     },
     "execution_count": 258,
     "metadata": {},
     "output_type": "execute_result"
    }
   ],
   "source": [
    "df['info'] = df['age'].apply(getinfo, prefix='내 나이는 ', suffix='살')\n",
    "df"
   ]
  },
  {
   "cell_type": "code",
   "execution_count": 259,
   "metadata": {},
   "outputs": [
    {
     "data": {
      "text/html": [
       "<div>\n",
       "<style scoped>\n",
       "    .dataframe tbody tr th:only-of-type {\n",
       "        vertical-align: middle;\n",
       "    }\n",
       "\n",
       "    .dataframe tbody tr th {\n",
       "        vertical-align: top;\n",
       "    }\n",
       "\n",
       "    .dataframe thead th {\n",
       "        text-align: right;\n",
       "    }\n",
       "</style>\n",
       "<table border=\"1\" class=\"dataframe\">\n",
       "  <thead>\n",
       "    <tr style=\"text-align: right;\">\n",
       "      <th></th>\n",
       "      <th>name</th>\n",
       "      <th>major</th>\n",
       "      <th>gender</th>\n",
       "    </tr>\n",
       "  </thead>\n",
       "  <tbody>\n",
       "    <tr>\n",
       "      <th>0</th>\n",
       "      <td>John</td>\n",
       "      <td>Computer Science</td>\n",
       "      <td>male</td>\n",
       "    </tr>\n",
       "    <tr>\n",
       "      <th>1</th>\n",
       "      <td>Nate</td>\n",
       "      <td>Computer Science</td>\n",
       "      <td>male</td>\n",
       "    </tr>\n",
       "    <tr>\n",
       "      <th>2</th>\n",
       "      <td>Abraham</td>\n",
       "      <td>Physics</td>\n",
       "      <td>male</td>\n",
       "    </tr>\n",
       "    <tr>\n",
       "      <th>3</th>\n",
       "      <td>Brian</td>\n",
       "      <td>Psychology</td>\n",
       "      <td>male</td>\n",
       "    </tr>\n",
       "    <tr>\n",
       "      <th>4</th>\n",
       "      <td>Janny</td>\n",
       "      <td>Economics</td>\n",
       "      <td>female</td>\n",
       "    </tr>\n",
       "    <tr>\n",
       "      <th>5</th>\n",
       "      <td>Yuna</td>\n",
       "      <td>Economics</td>\n",
       "      <td>female</td>\n",
       "    </tr>\n",
       "    <tr>\n",
       "      <th>6</th>\n",
       "      <td>Jeniffer</td>\n",
       "      <td>Computer Science</td>\n",
       "      <td>female</td>\n",
       "    </tr>\n",
       "    <tr>\n",
       "      <th>7</th>\n",
       "      <td>Edward</td>\n",
       "      <td>Computer Science</td>\n",
       "      <td>male</td>\n",
       "    </tr>\n",
       "    <tr>\n",
       "      <th>8</th>\n",
       "      <td>Zara</td>\n",
       "      <td>Psychology</td>\n",
       "      <td>female</td>\n",
       "    </tr>\n",
       "    <tr>\n",
       "      <th>9</th>\n",
       "      <td>Wendy</td>\n",
       "      <td>Economics</td>\n",
       "      <td>female</td>\n",
       "    </tr>\n",
       "    <tr>\n",
       "      <th>10</th>\n",
       "      <td>Sera</td>\n",
       "      <td>Psychology</td>\n",
       "      <td>female</td>\n",
       "    </tr>\n",
       "  </tbody>\n",
       "</table>\n",
       "</div>"
      ],
      "text/plain": [
       "        name             major  gender\n",
       "0       John  Computer Science    male\n",
       "1       Nate  Computer Science    male\n",
       "2    Abraham           Physics    male\n",
       "3      Brian        Psychology    male\n",
       "4      Janny         Economics  female\n",
       "5       Yuna         Economics  female\n",
       "6   Jeniffer  Computer Science  female\n",
       "7     Edward  Computer Science    male\n",
       "8       Zara        Psychology  female\n",
       "9      Wendy         Economics  female\n",
       "10      Sera        Psychology  female"
      ]
     },
     "execution_count": 259,
     "metadata": {},
     "output_type": "execute_result"
    }
   ],
   "source": [
    "student_list = [{'name': 'John', 'major': \"Computer Science\", 'gender': \"male\"},\n",
    "                {'name': 'Nate', 'major': \"Computer Science\", 'gender': \"male\"},\n",
    "                {'name': 'Abraham', 'major': \"Physics\", 'gender': \"male\"},\n",
    "                {'name': 'Brian', 'major': \"Psychology\", 'gender': \"male\"},\n",
    "                {'name': 'Janny', 'major': \"Economics\", 'gender': \"female\"},\n",
    "                {'name': 'Yuna', 'major': \"Economics\", 'gender': \"female\"},\n",
    "                {'name': 'Jeniffer', 'major': \"Computer Science\", 'gender': \"female\"},\n",
    "                {'name': 'Edward', 'major': \"Computer Science\", 'gender': \"male\"},\n",
    "                {'name': 'Zara', 'major': \"Psychology\", 'gender': \"female\"},\n",
    "                {'name': 'Wendy', 'major': \"Economics\", 'gender': \"female\"},\n",
    "                {'name': 'Sera', 'major': \"Psychology\", 'gender': \"female\"}\n",
    "         ]\n",
    "df = pd.DataFrame(student_list, columns = ['name', 'major', 'gender'])\n",
    "df"
   ]
  },
  {
   "cell_type": "code",
   "execution_count": 264,
   "metadata": {},
   "outputs": [
    {
     "data": {
      "text/plain": [
       "{'Computer Science': Int64Index([0, 1, 6, 7], dtype='int64'),\n",
       " 'Economics': Int64Index([4, 5, 9], dtype='int64'),\n",
       " 'Physics': Int64Index([2], dtype='int64'),\n",
       " 'Psychology': Int64Index([3, 8, 10], dtype='int64')}"
      ]
     },
     "execution_count": 264,
     "metadata": {},
     "output_type": "execute_result"
    }
   ],
   "source": [
    "df.groupby('major').groups"
   ]
  },
  {
   "cell_type": "code",
   "execution_count": 265,
   "metadata": {},
   "outputs": [
    {
     "data": {
      "text/plain": [
       "<pandas.core.groupby.groupby.SeriesGroupBy object at 0x000001FAE6BBB518>"
      ]
     },
     "execution_count": 265,
     "metadata": {},
     "output_type": "execute_result"
    }
   ],
   "source": [
    "df.groupby('major').name"
   ]
  },
  {
   "cell_type": "code",
   "execution_count": 268,
   "metadata": {},
   "outputs": [
    {
     "name": "stdout",
     "output_type": "stream",
     "text": [
      "Computer Science 4\n",
      "       name             major  gender\n",
      "0      John  Computer Science    male\n",
      "1      Nate  Computer Science    male\n",
      "6  Jeniffer  Computer Science  female\n",
      "7    Edward  Computer Science    male\n",
      "Economics 3\n",
      "    name      major  gender\n",
      "4  Janny  Economics  female\n",
      "5   Yuna  Economics  female\n",
      "9  Wendy  Economics  female\n",
      "Physics 1\n",
      "      name    major gender\n",
      "2  Abraham  Physics   male\n",
      "Psychology 3\n",
      "     name       major  gender\n",
      "3   Brian  Psychology    male\n",
      "8    Zara  Psychology  female\n",
      "10   Sera  Psychology  female\n"
     ]
    }
   ],
   "source": [
    "for name, group in group_major:\n",
    "    print(name+ \" \"+str(len(group)))\n",
    "    print(group)"
   ]
  },
  {
   "cell_type": "code",
   "execution_count": 269,
   "metadata": {},
   "outputs": [
    {
     "data": {
      "text/plain": [
       "<pandas.core.groupby.groupby.SeriesGroupBy object at 0x000001FAE6B5F978>"
      ]
     },
     "execution_count": 269,
     "metadata": {},
     "output_type": "execute_result"
    }
   ],
   "source": [
    "# 그룹 변수는 각 컬럼명 사용 가능\n",
    "# 호출 가능 속성명 : name / gender / major\n",
    "group_major.major"
   ]
  },
  {
   "cell_type": "code",
   "execution_count": 270,
   "metadata": {},
   "outputs": [
    {
     "data": {
      "text/plain": [
       "major\n",
       "Computer Science    4\n",
       "Economics           3\n",
       "Physics             1\n",
       "Psychology          3\n",
       "dtype: int64"
      ]
     },
     "execution_count": 270,
     "metadata": {},
     "output_type": "execute_result"
    }
   ],
   "source": [
    "# name 변수 : 변수명 가변적, 보유하게 되는 데이터 값은 그룹핑된 데이터 이름\n",
    "# group 변수 : 변수명 가변적, 보유하게 되는 데이터\n",
    "group_major.size()"
   ]
  },
  {
   "cell_type": "code",
   "execution_count": 273,
   "metadata": {},
   "outputs": [
    {
     "data": {
      "text/html": [
       "<div>\n",
       "<style scoped>\n",
       "    .dataframe tbody tr th:only-of-type {\n",
       "        vertical-align: middle;\n",
       "    }\n",
       "\n",
       "    .dataframe tbody tr th {\n",
       "        vertical-align: top;\n",
       "    }\n",
       "\n",
       "    .dataframe thead th {\n",
       "        text-align: right;\n",
       "    }\n",
       "</style>\n",
       "<table border=\"1\" class=\"dataframe\">\n",
       "  <thead>\n",
       "    <tr style=\"text-align: right;\">\n",
       "      <th></th>\n",
       "      <th>count</th>\n",
       "    </tr>\n",
       "    <tr>\n",
       "      <th>major</th>\n",
       "      <th></th>\n",
       "    </tr>\n",
       "  </thead>\n",
       "  <tbody>\n",
       "    <tr>\n",
       "      <th>Computer Science</th>\n",
       "      <td>4</td>\n",
       "    </tr>\n",
       "    <tr>\n",
       "      <th>Economics</th>\n",
       "      <td>3</td>\n",
       "    </tr>\n",
       "    <tr>\n",
       "      <th>Physics</th>\n",
       "      <td>1</td>\n",
       "    </tr>\n",
       "    <tr>\n",
       "      <th>Psychology</th>\n",
       "      <td>3</td>\n",
       "    </tr>\n",
       "  </tbody>\n",
       "</table>\n",
       "</div>"
      ],
      "text/plain": [
       "                  count\n",
       "major                  \n",
       "Computer Science      4\n",
       "Economics             3\n",
       "Physics               1\n",
       "Psychology            3"
      ]
     },
     "execution_count": 273,
     "metadata": {},
     "output_type": "execute_result"
    }
   ],
   "source": [
    "# index도 없고 count도 정렬이 안되어 찍힘\n",
    "df2 = pd.DataFrame({'count':group_major.size()})\n",
    "df2"
   ]
  },
  {
   "cell_type": "code",
   "execution_count": 274,
   "metadata": {},
   "outputs": [
    {
     "data": {
      "text/html": [
       "<div>\n",
       "<style scoped>\n",
       "    .dataframe tbody tr th:only-of-type {\n",
       "        vertical-align: middle;\n",
       "    }\n",
       "\n",
       "    .dataframe tbody tr th {\n",
       "        vertical-align: top;\n",
       "    }\n",
       "\n",
       "    .dataframe thead th {\n",
       "        text-align: right;\n",
       "    }\n",
       "</style>\n",
       "<table border=\"1\" class=\"dataframe\">\n",
       "  <thead>\n",
       "    <tr style=\"text-align: right;\">\n",
       "      <th></th>\n",
       "      <th>major</th>\n",
       "      <th>count</th>\n",
       "    </tr>\n",
       "  </thead>\n",
       "  <tbody>\n",
       "    <tr>\n",
       "      <th>0</th>\n",
       "      <td>Computer Science</td>\n",
       "      <td>4</td>\n",
       "    </tr>\n",
       "    <tr>\n",
       "      <th>1</th>\n",
       "      <td>Economics</td>\n",
       "      <td>3</td>\n",
       "    </tr>\n",
       "    <tr>\n",
       "      <th>2</th>\n",
       "      <td>Physics</td>\n",
       "      <td>1</td>\n",
       "    </tr>\n",
       "    <tr>\n",
       "      <th>3</th>\n",
       "      <td>Psychology</td>\n",
       "      <td>3</td>\n",
       "    </tr>\n",
       "  </tbody>\n",
       "</table>\n",
       "</div>"
      ],
      "text/plain": [
       "              major  count\n",
       "0  Computer Science      4\n",
       "1         Economics      3\n",
       "2           Physics      1\n",
       "3        Psychology      3"
      ]
     },
     "execution_count": 274,
     "metadata": {},
     "output_type": "execute_result"
    }
   ],
   "source": [
    "df3 = pd.DataFrame({'count':group_major.size()}).reset_index() # 재정렬\n",
    "df3"
   ]
  },
  {
   "cell_type": "markdown",
   "metadata": {},
   "source": [
    "### 마지막 문제: \n",
    ">  - gender별로 그룹화 하기<br>\n",
    "   - 그룹 단위로 이름, 전공,성별 구조로 출력하기<br>\n",
    "   - 성별 인원수로 새로운 DataFrame 생성하기<br>"
   ]
  },
  {
   "cell_type": "code",
   "execution_count": 278,
   "metadata": {},
   "outputs": [
    {
     "data": {
      "text/plain": [
       "gender\n",
       "female    6\n",
       "male      5\n",
       "Name: name, dtype: int64"
      ]
     },
     "execution_count": 278,
     "metadata": {},
     "output_type": "execute_result"
    }
   ],
   "source": [
    "group_gender = df.groupby('gender')\n",
    "group_gender.gender.size()"
   ]
  },
  {
   "cell_type": "code",
   "execution_count": 280,
   "metadata": {},
   "outputs": [
    {
     "name": "stdout",
     "output_type": "stream",
     "text": [
      "female\n",
      "        name             major  gender\n",
      "4      Janny         Economics  female\n",
      "5       Yuna         Economics  female\n",
      "6   Jeniffer  Computer Science  female\n",
      "8       Zara        Psychology  female\n",
      "9      Wendy         Economics  female\n",
      "10      Sera        Psychology  female\n",
      "male\n",
      "      name             major gender\n",
      "0     John  Computer Science   male\n",
      "1     Nate  Computer Science   male\n",
      "2  Abraham           Physics   male\n",
      "3    Brian        Psychology   male\n",
      "7   Edward  Computer Science   male\n"
     ]
    }
   ],
   "source": [
    "for gender, group in group_gender:\n",
    "    print(gender)\n",
    "    print(group)"
   ]
  },
  {
   "cell_type": "code",
   "execution_count": 283,
   "metadata": {},
   "outputs": [
    {
     "data": {
      "text/html": [
       "<div>\n",
       "<style scoped>\n",
       "    .dataframe tbody tr th:only-of-type {\n",
       "        vertical-align: middle;\n",
       "    }\n",
       "\n",
       "    .dataframe tbody tr th {\n",
       "        vertical-align: top;\n",
       "    }\n",
       "\n",
       "    .dataframe thead th {\n",
       "        text-align: right;\n",
       "    }\n",
       "</style>\n",
       "<table border=\"1\" class=\"dataframe\">\n",
       "  <thead>\n",
       "    <tr style=\"text-align: right;\">\n",
       "      <th></th>\n",
       "      <th>gender</th>\n",
       "      <th>gender count</th>\n",
       "    </tr>\n",
       "  </thead>\n",
       "  <tbody>\n",
       "    <tr>\n",
       "      <th>0</th>\n",
       "      <td>female</td>\n",
       "      <td>6</td>\n",
       "    </tr>\n",
       "    <tr>\n",
       "      <th>1</th>\n",
       "      <td>male</td>\n",
       "      <td>5</td>\n",
       "    </tr>\n",
       "  </tbody>\n",
       "</table>\n",
       "</div>"
      ],
      "text/plain": [
       "   gender  gender count\n",
       "0  female             6\n",
       "1    male             5"
      ]
     },
     "execution_count": 283,
     "metadata": {},
     "output_type": "execute_result"
    }
   ],
   "source": [
    "group_gender.gender.size()\n",
    "dfgender = pd.DataFrame({'gender count' : group_gender.gender.size()}).reset_index()\n",
    "dfgender"
   ]
  },
  {
   "cell_type": "code",
   "execution_count": null,
   "metadata": {},
   "outputs": [],
   "source": []
  }
 ],
 "metadata": {
  "kernelspec": {
   "display_name": "Python 3",
   "language": "python",
   "name": "python3"
  },
  "language_info": {
   "codemirror_mode": {
    "name": "ipython",
    "version": 3
   },
   "file_extension": ".py",
   "mimetype": "text/x-python",
   "name": "python",
   "nbconvert_exporter": "python",
   "pygments_lexer": "ipython3",
   "version": "3.7.0"
  }
 },
 "nbformat": 4,
 "nbformat_minor": 2
}
