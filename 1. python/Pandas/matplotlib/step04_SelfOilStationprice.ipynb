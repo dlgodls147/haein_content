{
 "cells": [
  {
   "cell_type": "markdown",
   "metadata": {},
   "source": [
    "# 셀프 주유소는 정말 저렴할까\n",
    "\n",
    "## 1. Selenium 사용하기"
   ]
  },
  {
   "cell_type": "code",
   "execution_count": 1,
   "metadata": {},
   "outputs": [],
   "source": [
    "#-*- encoding:utf8 -*-"
   ]
  },
  {
   "cell_type": "code",
   "execution_count": 2,
   "metadata": {},
   "outputs": [],
   "source": [
    "from selenium import webdriver"
   ]
  },
  {
   "cell_type": "code",
   "execution_count": 3,
   "metadata": {},
   "outputs": [],
   "source": [
    "driver = webdriver.Chrome('c:/driver/chromedriver')\n",
    "driver.get(\"http://naver.com\")"
   ]
  },
  {
   "cell_type": "code",
   "execution_count": 4,
   "metadata": {},
   "outputs": [],
   "source": [
    "driver.close()"
   ]
  },
  {
   "cell_type": "markdown",
   "metadata": {
    "collapsed": true
   },
   "source": [
    "## 2. 서울시 구별 주유소 가격 정보 얻기"
   ]
  },
  {
   "cell_type": "code",
   "execution_count": 5,
   "metadata": {},
   "outputs": [],
   "source": [
    "driver = webdriver.Chrome('c:/driver/chromedriver')\n",
    "driver.get(\"http://www.opinet.co.kr/searRgSelect.do\")"
   ]
  },
  {
   "cell_type": "code",
   "execution_count": 6,
   "metadata": {},
   "outputs": [],
   "source": [
    "gu_list_raw = driver.find_element_by_xpath(\"\"\"//*[@id=\"SIGUNGU_NM0\"]\"\"\")\n",
    "gu_list = gu_list_raw.find_elements_by_tag_name(\"option\")"
   ]
  },
  {
   "cell_type": "code",
   "execution_count": 7,
   "metadata": {
    "scrolled": true
   },
   "outputs": [
    {
     "data": {
      "text/plain": [
       "['강남구',\n",
       " '강동구',\n",
       " '강북구',\n",
       " '강서구',\n",
       " '관악구',\n",
       " '광진구',\n",
       " '구로구',\n",
       " '금천구',\n",
       " '노원구',\n",
       " '도봉구',\n",
       " '동대문구',\n",
       " '동작구',\n",
       " '마포구',\n",
       " '서대문구',\n",
       " '서초구',\n",
       " '성동구',\n",
       " '성북구',\n",
       " '송파구',\n",
       " '양천구',\n",
       " '영등포구',\n",
       " '용산구',\n",
       " '은평구',\n",
       " '종로구',\n",
       " '중구',\n",
       " '중랑구']"
      ]
     },
     "execution_count": 7,
     "metadata": {},
     "output_type": "execute_result"
    }
   ],
   "source": [
    "gu_names = [option.get_attribute(\"value\") for option in gu_list]\n",
    "gu_names.remove('')\n",
    "gu_names"
   ]
  },
  {
   "cell_type": "code",
   "execution_count": 17,
   "metadata": {},
   "outputs": [
    {
     "ename": "WebDriverException",
     "evalue": "Message: invalid session id\n  (Driver info: chromedriver=2.44.609538 (b655c5a60b0b544917107a59d4153d4bf78e1b90),platform=Windows NT 10.0.17134 x86_64)\n",
     "output_type": "error",
     "traceback": [
      "\u001b[1;31m---------------------------------------------------------------------------\u001b[0m",
      "\u001b[1;31mWebDriverException\u001b[0m                        Traceback (most recent call last)",
      "\u001b[1;32m<ipython-input-17-96372d7ca2e6>\u001b[0m in \u001b[0;36m<module>\u001b[1;34m()\u001b[0m\n\u001b[1;32m----> 1\u001b[1;33m \u001b[0melement\u001b[0m \u001b[1;33m=\u001b[0m \u001b[0mdriver\u001b[0m\u001b[1;33m.\u001b[0m\u001b[0mfind_element_by_id\u001b[0m\u001b[1;33m(\u001b[0m\u001b[1;34m\"SIGUNGU_NM0\"\u001b[0m\u001b[1;33m)\u001b[0m\u001b[1;33m\u001b[0m\u001b[0m\n\u001b[0m\u001b[0;32m      2\u001b[0m \u001b[0melement\u001b[0m\u001b[1;33m.\u001b[0m\u001b[0msend_keys\u001b[0m\u001b[1;33m(\u001b[0m\u001b[0mgu_names\u001b[0m\u001b[1;33m[\u001b[0m\u001b[1;36m0\u001b[0m\u001b[1;33m]\u001b[0m\u001b[1;33m)\u001b[0m\u001b[1;33m\u001b[0m\u001b[0m\n",
      "\u001b[1;32m~\\Anaconda3\\lib\\site-packages\\selenium\\webdriver\\remote\\webdriver.py\u001b[0m in \u001b[0;36mfind_element_by_id\u001b[1;34m(self, id_)\u001b[0m\n\u001b[0;32m    358\u001b[0m             \u001b[0melement\u001b[0m \u001b[1;33m=\u001b[0m \u001b[0mdriver\u001b[0m\u001b[1;33m.\u001b[0m\u001b[0mfind_element_by_id\u001b[0m\u001b[1;33m(\u001b[0m\u001b[1;34m'foo'\u001b[0m\u001b[1;33m)\u001b[0m\u001b[1;33m\u001b[0m\u001b[0m\n\u001b[0;32m    359\u001b[0m         \"\"\"\n\u001b[1;32m--> 360\u001b[1;33m         \u001b[1;32mreturn\u001b[0m \u001b[0mself\u001b[0m\u001b[1;33m.\u001b[0m\u001b[0mfind_element\u001b[0m\u001b[1;33m(\u001b[0m\u001b[0mby\u001b[0m\u001b[1;33m=\u001b[0m\u001b[0mBy\u001b[0m\u001b[1;33m.\u001b[0m\u001b[0mID\u001b[0m\u001b[1;33m,\u001b[0m \u001b[0mvalue\u001b[0m\u001b[1;33m=\u001b[0m\u001b[0mid_\u001b[0m\u001b[1;33m)\u001b[0m\u001b[1;33m\u001b[0m\u001b[0m\n\u001b[0m\u001b[0;32m    361\u001b[0m \u001b[1;33m\u001b[0m\u001b[0m\n\u001b[0;32m    362\u001b[0m     \u001b[1;32mdef\u001b[0m \u001b[0mfind_elements_by_id\u001b[0m\u001b[1;33m(\u001b[0m\u001b[0mself\u001b[0m\u001b[1;33m,\u001b[0m \u001b[0mid_\u001b[0m\u001b[1;33m)\u001b[0m\u001b[1;33m:\u001b[0m\u001b[1;33m\u001b[0m\u001b[0m\n",
      "\u001b[1;32m~\\Anaconda3\\lib\\site-packages\\selenium\\webdriver\\remote\\webdriver.py\u001b[0m in \u001b[0;36mfind_element\u001b[1;34m(self, by, value)\u001b[0m\n\u001b[0;32m    976\u001b[0m         return self.execute(Command.FIND_ELEMENT, {\n\u001b[0;32m    977\u001b[0m             \u001b[1;34m'using'\u001b[0m\u001b[1;33m:\u001b[0m \u001b[0mby\u001b[0m\u001b[1;33m,\u001b[0m\u001b[1;33m\u001b[0m\u001b[0m\n\u001b[1;32m--> 978\u001b[1;33m             'value': value})['value']\n\u001b[0m\u001b[0;32m    979\u001b[0m \u001b[1;33m\u001b[0m\u001b[0m\n\u001b[0;32m    980\u001b[0m     \u001b[1;32mdef\u001b[0m \u001b[0mfind_elements\u001b[0m\u001b[1;33m(\u001b[0m\u001b[0mself\u001b[0m\u001b[1;33m,\u001b[0m \u001b[0mby\u001b[0m\u001b[1;33m=\u001b[0m\u001b[0mBy\u001b[0m\u001b[1;33m.\u001b[0m\u001b[0mID\u001b[0m\u001b[1;33m,\u001b[0m \u001b[0mvalue\u001b[0m\u001b[1;33m=\u001b[0m\u001b[1;32mNone\u001b[0m\u001b[1;33m)\u001b[0m\u001b[1;33m:\u001b[0m\u001b[1;33m\u001b[0m\u001b[0m\n",
      "\u001b[1;32m~\\Anaconda3\\lib\\site-packages\\selenium\\webdriver\\remote\\webdriver.py\u001b[0m in \u001b[0;36mexecute\u001b[1;34m(self, driver_command, params)\u001b[0m\n\u001b[0;32m    319\u001b[0m         \u001b[0mresponse\u001b[0m \u001b[1;33m=\u001b[0m \u001b[0mself\u001b[0m\u001b[1;33m.\u001b[0m\u001b[0mcommand_executor\u001b[0m\u001b[1;33m.\u001b[0m\u001b[0mexecute\u001b[0m\u001b[1;33m(\u001b[0m\u001b[0mdriver_command\u001b[0m\u001b[1;33m,\u001b[0m \u001b[0mparams\u001b[0m\u001b[1;33m)\u001b[0m\u001b[1;33m\u001b[0m\u001b[0m\n\u001b[0;32m    320\u001b[0m         \u001b[1;32mif\u001b[0m \u001b[0mresponse\u001b[0m\u001b[1;33m:\u001b[0m\u001b[1;33m\u001b[0m\u001b[0m\n\u001b[1;32m--> 321\u001b[1;33m             \u001b[0mself\u001b[0m\u001b[1;33m.\u001b[0m\u001b[0merror_handler\u001b[0m\u001b[1;33m.\u001b[0m\u001b[0mcheck_response\u001b[0m\u001b[1;33m(\u001b[0m\u001b[0mresponse\u001b[0m\u001b[1;33m)\u001b[0m\u001b[1;33m\u001b[0m\u001b[0m\n\u001b[0m\u001b[0;32m    322\u001b[0m             response['value'] = self._unwrap_value(\n\u001b[0;32m    323\u001b[0m                 response.get('value', None))\n",
      "\u001b[1;32m~\\Anaconda3\\lib\\site-packages\\selenium\\webdriver\\remote\\errorhandler.py\u001b[0m in \u001b[0;36mcheck_response\u001b[1;34m(self, response)\u001b[0m\n\u001b[0;32m    240\u001b[0m                 \u001b[0malert_text\u001b[0m \u001b[1;33m=\u001b[0m \u001b[0mvalue\u001b[0m\u001b[1;33m[\u001b[0m\u001b[1;34m'alert'\u001b[0m\u001b[1;33m]\u001b[0m\u001b[1;33m.\u001b[0m\u001b[0mget\u001b[0m\u001b[1;33m(\u001b[0m\u001b[1;34m'text'\u001b[0m\u001b[1;33m)\u001b[0m\u001b[1;33m\u001b[0m\u001b[0m\n\u001b[0;32m    241\u001b[0m             \u001b[1;32mraise\u001b[0m \u001b[0mexception_class\u001b[0m\u001b[1;33m(\u001b[0m\u001b[0mmessage\u001b[0m\u001b[1;33m,\u001b[0m \u001b[0mscreen\u001b[0m\u001b[1;33m,\u001b[0m \u001b[0mstacktrace\u001b[0m\u001b[1;33m,\u001b[0m \u001b[0malert_text\u001b[0m\u001b[1;33m)\u001b[0m\u001b[1;33m\u001b[0m\u001b[0m\n\u001b[1;32m--> 242\u001b[1;33m         \u001b[1;32mraise\u001b[0m \u001b[0mexception_class\u001b[0m\u001b[1;33m(\u001b[0m\u001b[0mmessage\u001b[0m\u001b[1;33m,\u001b[0m \u001b[0mscreen\u001b[0m\u001b[1;33m,\u001b[0m \u001b[0mstacktrace\u001b[0m\u001b[1;33m)\u001b[0m\u001b[1;33m\u001b[0m\u001b[0m\n\u001b[0m\u001b[0;32m    243\u001b[0m \u001b[1;33m\u001b[0m\u001b[0m\n\u001b[0;32m    244\u001b[0m     \u001b[1;32mdef\u001b[0m \u001b[0m_value_or_default\u001b[0m\u001b[1;33m(\u001b[0m\u001b[0mself\u001b[0m\u001b[1;33m,\u001b[0m \u001b[0mobj\u001b[0m\u001b[1;33m,\u001b[0m \u001b[0mkey\u001b[0m\u001b[1;33m,\u001b[0m \u001b[0mdefault\u001b[0m\u001b[1;33m)\u001b[0m\u001b[1;33m:\u001b[0m\u001b[1;33m\u001b[0m\u001b[0m\n",
      "\u001b[1;31mWebDriverException\u001b[0m: Message: invalid session id\n  (Driver info: chromedriver=2.44.609538 (b655c5a60b0b544917107a59d4153d4bf78e1b90),platform=Windows NT 10.0.17134 x86_64)\n"
     ]
    }
   ],
   "source": [
    "element = driver.find_element_by_id(\"SIGUNGU_NM0\")\n",
    "element.send_keys(gu_names[0])"
   ]
  },
  {
   "cell_type": "code",
   "execution_count": 18,
   "metadata": {},
   "outputs": [
    {
     "ename": "WebDriverException",
     "evalue": "Message: invalid session id\n  (Driver info: chromedriver=2.44.609538 (b655c5a60b0b544917107a59d4153d4bf78e1b90),platform=Windows NT 10.0.17134 x86_64)\n",
     "output_type": "error",
     "traceback": [
      "\u001b[1;31m---------------------------------------------------------------------------\u001b[0m",
      "\u001b[1;31mWebDriverException\u001b[0m                        Traceback (most recent call last)",
      "\u001b[1;32m<ipython-input-18-e2a27dabcfeb>\u001b[0m in \u001b[0;36m<module>\u001b[1;34m()\u001b[0m\n\u001b[0;32m      1\u001b[0m \u001b[0mxpath\u001b[0m \u001b[1;33m=\u001b[0m \u001b[1;34m\"\"\"//*[@id=\"searRgSelect\"]\"\"\"\u001b[0m\u001b[1;33m\u001b[0m\u001b[0m\n\u001b[1;32m----> 2\u001b[1;33m \u001b[0melement_sel_gu\u001b[0m \u001b[1;33m=\u001b[0m \u001b[0mdriver\u001b[0m\u001b[1;33m.\u001b[0m\u001b[0mfind_element_by_xpath\u001b[0m\u001b[1;33m(\u001b[0m\u001b[0mxpath\u001b[0m\u001b[1;33m)\u001b[0m\u001b[1;33m.\u001b[0m\u001b[0mclick\u001b[0m\u001b[1;33m(\u001b[0m\u001b[1;33m)\u001b[0m\u001b[1;33m\u001b[0m\u001b[0m\n\u001b[0m",
      "\u001b[1;32m~\\Anaconda3\\lib\\site-packages\\selenium\\webdriver\\remote\\webdriver.py\u001b[0m in \u001b[0;36mfind_element_by_xpath\u001b[1;34m(self, xpath)\u001b[0m\n\u001b[0;32m    392\u001b[0m             \u001b[0melement\u001b[0m \u001b[1;33m=\u001b[0m \u001b[0mdriver\u001b[0m\u001b[1;33m.\u001b[0m\u001b[0mfind_element_by_xpath\u001b[0m\u001b[1;33m(\u001b[0m\u001b[1;34m'//div/td[1]'\u001b[0m\u001b[1;33m)\u001b[0m\u001b[1;33m\u001b[0m\u001b[0m\n\u001b[0;32m    393\u001b[0m         \"\"\"\n\u001b[1;32m--> 394\u001b[1;33m         \u001b[1;32mreturn\u001b[0m \u001b[0mself\u001b[0m\u001b[1;33m.\u001b[0m\u001b[0mfind_element\u001b[0m\u001b[1;33m(\u001b[0m\u001b[0mby\u001b[0m\u001b[1;33m=\u001b[0m\u001b[0mBy\u001b[0m\u001b[1;33m.\u001b[0m\u001b[0mXPATH\u001b[0m\u001b[1;33m,\u001b[0m \u001b[0mvalue\u001b[0m\u001b[1;33m=\u001b[0m\u001b[0mxpath\u001b[0m\u001b[1;33m)\u001b[0m\u001b[1;33m\u001b[0m\u001b[0m\n\u001b[0m\u001b[0;32m    395\u001b[0m \u001b[1;33m\u001b[0m\u001b[0m\n\u001b[0;32m    396\u001b[0m     \u001b[1;32mdef\u001b[0m \u001b[0mfind_elements_by_xpath\u001b[0m\u001b[1;33m(\u001b[0m\u001b[0mself\u001b[0m\u001b[1;33m,\u001b[0m \u001b[0mxpath\u001b[0m\u001b[1;33m)\u001b[0m\u001b[1;33m:\u001b[0m\u001b[1;33m\u001b[0m\u001b[0m\n",
      "\u001b[1;32m~\\Anaconda3\\lib\\site-packages\\selenium\\webdriver\\remote\\webdriver.py\u001b[0m in \u001b[0;36mfind_element\u001b[1;34m(self, by, value)\u001b[0m\n\u001b[0;32m    976\u001b[0m         return self.execute(Command.FIND_ELEMENT, {\n\u001b[0;32m    977\u001b[0m             \u001b[1;34m'using'\u001b[0m\u001b[1;33m:\u001b[0m \u001b[0mby\u001b[0m\u001b[1;33m,\u001b[0m\u001b[1;33m\u001b[0m\u001b[0m\n\u001b[1;32m--> 978\u001b[1;33m             'value': value})['value']\n\u001b[0m\u001b[0;32m    979\u001b[0m \u001b[1;33m\u001b[0m\u001b[0m\n\u001b[0;32m    980\u001b[0m     \u001b[1;32mdef\u001b[0m \u001b[0mfind_elements\u001b[0m\u001b[1;33m(\u001b[0m\u001b[0mself\u001b[0m\u001b[1;33m,\u001b[0m \u001b[0mby\u001b[0m\u001b[1;33m=\u001b[0m\u001b[0mBy\u001b[0m\u001b[1;33m.\u001b[0m\u001b[0mID\u001b[0m\u001b[1;33m,\u001b[0m \u001b[0mvalue\u001b[0m\u001b[1;33m=\u001b[0m\u001b[1;32mNone\u001b[0m\u001b[1;33m)\u001b[0m\u001b[1;33m:\u001b[0m\u001b[1;33m\u001b[0m\u001b[0m\n",
      "\u001b[1;32m~\\Anaconda3\\lib\\site-packages\\selenium\\webdriver\\remote\\webdriver.py\u001b[0m in \u001b[0;36mexecute\u001b[1;34m(self, driver_command, params)\u001b[0m\n\u001b[0;32m    319\u001b[0m         \u001b[0mresponse\u001b[0m \u001b[1;33m=\u001b[0m \u001b[0mself\u001b[0m\u001b[1;33m.\u001b[0m\u001b[0mcommand_executor\u001b[0m\u001b[1;33m.\u001b[0m\u001b[0mexecute\u001b[0m\u001b[1;33m(\u001b[0m\u001b[0mdriver_command\u001b[0m\u001b[1;33m,\u001b[0m \u001b[0mparams\u001b[0m\u001b[1;33m)\u001b[0m\u001b[1;33m\u001b[0m\u001b[0m\n\u001b[0;32m    320\u001b[0m         \u001b[1;32mif\u001b[0m \u001b[0mresponse\u001b[0m\u001b[1;33m:\u001b[0m\u001b[1;33m\u001b[0m\u001b[0m\n\u001b[1;32m--> 321\u001b[1;33m             \u001b[0mself\u001b[0m\u001b[1;33m.\u001b[0m\u001b[0merror_handler\u001b[0m\u001b[1;33m.\u001b[0m\u001b[0mcheck_response\u001b[0m\u001b[1;33m(\u001b[0m\u001b[0mresponse\u001b[0m\u001b[1;33m)\u001b[0m\u001b[1;33m\u001b[0m\u001b[0m\n\u001b[0m\u001b[0;32m    322\u001b[0m             response['value'] = self._unwrap_value(\n\u001b[0;32m    323\u001b[0m                 response.get('value', None))\n",
      "\u001b[1;32m~\\Anaconda3\\lib\\site-packages\\selenium\\webdriver\\remote\\errorhandler.py\u001b[0m in \u001b[0;36mcheck_response\u001b[1;34m(self, response)\u001b[0m\n\u001b[0;32m    240\u001b[0m                 \u001b[0malert_text\u001b[0m \u001b[1;33m=\u001b[0m \u001b[0mvalue\u001b[0m\u001b[1;33m[\u001b[0m\u001b[1;34m'alert'\u001b[0m\u001b[1;33m]\u001b[0m\u001b[1;33m.\u001b[0m\u001b[0mget\u001b[0m\u001b[1;33m(\u001b[0m\u001b[1;34m'text'\u001b[0m\u001b[1;33m)\u001b[0m\u001b[1;33m\u001b[0m\u001b[0m\n\u001b[0;32m    241\u001b[0m             \u001b[1;32mraise\u001b[0m \u001b[0mexception_class\u001b[0m\u001b[1;33m(\u001b[0m\u001b[0mmessage\u001b[0m\u001b[1;33m,\u001b[0m \u001b[0mscreen\u001b[0m\u001b[1;33m,\u001b[0m \u001b[0mstacktrace\u001b[0m\u001b[1;33m,\u001b[0m \u001b[0malert_text\u001b[0m\u001b[1;33m)\u001b[0m\u001b[1;33m\u001b[0m\u001b[0m\n\u001b[1;32m--> 242\u001b[1;33m         \u001b[1;32mraise\u001b[0m \u001b[0mexception_class\u001b[0m\u001b[1;33m(\u001b[0m\u001b[0mmessage\u001b[0m\u001b[1;33m,\u001b[0m \u001b[0mscreen\u001b[0m\u001b[1;33m,\u001b[0m \u001b[0mstacktrace\u001b[0m\u001b[1;33m)\u001b[0m\u001b[1;33m\u001b[0m\u001b[0m\n\u001b[0m\u001b[0;32m    243\u001b[0m \u001b[1;33m\u001b[0m\u001b[0m\n\u001b[0;32m    244\u001b[0m     \u001b[1;32mdef\u001b[0m \u001b[0m_value_or_default\u001b[0m\u001b[1;33m(\u001b[0m\u001b[0mself\u001b[0m\u001b[1;33m,\u001b[0m \u001b[0mobj\u001b[0m\u001b[1;33m,\u001b[0m \u001b[0mkey\u001b[0m\u001b[1;33m,\u001b[0m \u001b[0mdefault\u001b[0m\u001b[1;33m)\u001b[0m\u001b[1;33m:\u001b[0m\u001b[1;33m\u001b[0m\u001b[0m\n",
      "\u001b[1;31mWebDriverException\u001b[0m: Message: invalid session id\n  (Driver info: chromedriver=2.44.609538 (b655c5a60b0b544917107a59d4153d4bf78e1b90),platform=Windows NT 10.0.17134 x86_64)\n"
     ]
    }
   ],
   "source": [
    "xpath = \"\"\"//*[@id=\"searRgSelect\"]\"\"\"\n",
    "element_sel_gu = driver.find_element_by_xpath(xpath).click()"
   ]
  },
  {
   "cell_type": "code",
   "execution_count": 19,
   "metadata": {},
   "outputs": [
    {
     "ename": "WebDriverException",
     "evalue": "Message: invalid session id\n  (Driver info: chromedriver=2.44.609538 (b655c5a60b0b544917107a59d4153d4bf78e1b90),platform=Windows NT 10.0.17134 x86_64)\n",
     "output_type": "error",
     "traceback": [
      "\u001b[1;31m---------------------------------------------------------------------------\u001b[0m",
      "\u001b[1;31mWebDriverException\u001b[0m                        Traceback (most recent call last)",
      "\u001b[1;32m<ipython-input-19-f82a14d5600f>\u001b[0m in \u001b[0;36m<module>\u001b[1;34m()\u001b[0m\n\u001b[0;32m      1\u001b[0m \u001b[0mxpath\u001b[0m \u001b[1;33m=\u001b[0m \u001b[1;34m\"\"\"//*[@id=\"glopopd_excel\"]\"\"\"\u001b[0m\u001b[1;33m\u001b[0m\u001b[0m\n\u001b[1;32m----> 2\u001b[1;33m \u001b[0melement_get_excel\u001b[0m \u001b[1;33m=\u001b[0m \u001b[0mdriver\u001b[0m\u001b[1;33m.\u001b[0m\u001b[0mfind_element_by_xpath\u001b[0m\u001b[1;33m(\u001b[0m\u001b[0mxpath\u001b[0m\u001b[1;33m)\u001b[0m\u001b[1;33m.\u001b[0m\u001b[0mclick\u001b[0m\u001b[1;33m(\u001b[0m\u001b[1;33m)\u001b[0m\u001b[1;33m\u001b[0m\u001b[0m\n\u001b[0m",
      "\u001b[1;32m~\\Anaconda3\\lib\\site-packages\\selenium\\webdriver\\remote\\webdriver.py\u001b[0m in \u001b[0;36mfind_element_by_xpath\u001b[1;34m(self, xpath)\u001b[0m\n\u001b[0;32m    392\u001b[0m             \u001b[0melement\u001b[0m \u001b[1;33m=\u001b[0m \u001b[0mdriver\u001b[0m\u001b[1;33m.\u001b[0m\u001b[0mfind_element_by_xpath\u001b[0m\u001b[1;33m(\u001b[0m\u001b[1;34m'//div/td[1]'\u001b[0m\u001b[1;33m)\u001b[0m\u001b[1;33m\u001b[0m\u001b[0m\n\u001b[0;32m    393\u001b[0m         \"\"\"\n\u001b[1;32m--> 394\u001b[1;33m         \u001b[1;32mreturn\u001b[0m \u001b[0mself\u001b[0m\u001b[1;33m.\u001b[0m\u001b[0mfind_element\u001b[0m\u001b[1;33m(\u001b[0m\u001b[0mby\u001b[0m\u001b[1;33m=\u001b[0m\u001b[0mBy\u001b[0m\u001b[1;33m.\u001b[0m\u001b[0mXPATH\u001b[0m\u001b[1;33m,\u001b[0m \u001b[0mvalue\u001b[0m\u001b[1;33m=\u001b[0m\u001b[0mxpath\u001b[0m\u001b[1;33m)\u001b[0m\u001b[1;33m\u001b[0m\u001b[0m\n\u001b[0m\u001b[0;32m    395\u001b[0m \u001b[1;33m\u001b[0m\u001b[0m\n\u001b[0;32m    396\u001b[0m     \u001b[1;32mdef\u001b[0m \u001b[0mfind_elements_by_xpath\u001b[0m\u001b[1;33m(\u001b[0m\u001b[0mself\u001b[0m\u001b[1;33m,\u001b[0m \u001b[0mxpath\u001b[0m\u001b[1;33m)\u001b[0m\u001b[1;33m:\u001b[0m\u001b[1;33m\u001b[0m\u001b[0m\n",
      "\u001b[1;32m~\\Anaconda3\\lib\\site-packages\\selenium\\webdriver\\remote\\webdriver.py\u001b[0m in \u001b[0;36mfind_element\u001b[1;34m(self, by, value)\u001b[0m\n\u001b[0;32m    976\u001b[0m         return self.execute(Command.FIND_ELEMENT, {\n\u001b[0;32m    977\u001b[0m             \u001b[1;34m'using'\u001b[0m\u001b[1;33m:\u001b[0m \u001b[0mby\u001b[0m\u001b[1;33m,\u001b[0m\u001b[1;33m\u001b[0m\u001b[0m\n\u001b[1;32m--> 978\u001b[1;33m             'value': value})['value']\n\u001b[0m\u001b[0;32m    979\u001b[0m \u001b[1;33m\u001b[0m\u001b[0m\n\u001b[0;32m    980\u001b[0m     \u001b[1;32mdef\u001b[0m \u001b[0mfind_elements\u001b[0m\u001b[1;33m(\u001b[0m\u001b[0mself\u001b[0m\u001b[1;33m,\u001b[0m \u001b[0mby\u001b[0m\u001b[1;33m=\u001b[0m\u001b[0mBy\u001b[0m\u001b[1;33m.\u001b[0m\u001b[0mID\u001b[0m\u001b[1;33m,\u001b[0m \u001b[0mvalue\u001b[0m\u001b[1;33m=\u001b[0m\u001b[1;32mNone\u001b[0m\u001b[1;33m)\u001b[0m\u001b[1;33m:\u001b[0m\u001b[1;33m\u001b[0m\u001b[0m\n",
      "\u001b[1;32m~\\Anaconda3\\lib\\site-packages\\selenium\\webdriver\\remote\\webdriver.py\u001b[0m in \u001b[0;36mexecute\u001b[1;34m(self, driver_command, params)\u001b[0m\n\u001b[0;32m    319\u001b[0m         \u001b[0mresponse\u001b[0m \u001b[1;33m=\u001b[0m \u001b[0mself\u001b[0m\u001b[1;33m.\u001b[0m\u001b[0mcommand_executor\u001b[0m\u001b[1;33m.\u001b[0m\u001b[0mexecute\u001b[0m\u001b[1;33m(\u001b[0m\u001b[0mdriver_command\u001b[0m\u001b[1;33m,\u001b[0m \u001b[0mparams\u001b[0m\u001b[1;33m)\u001b[0m\u001b[1;33m\u001b[0m\u001b[0m\n\u001b[0;32m    320\u001b[0m         \u001b[1;32mif\u001b[0m \u001b[0mresponse\u001b[0m\u001b[1;33m:\u001b[0m\u001b[1;33m\u001b[0m\u001b[0m\n\u001b[1;32m--> 321\u001b[1;33m             \u001b[0mself\u001b[0m\u001b[1;33m.\u001b[0m\u001b[0merror_handler\u001b[0m\u001b[1;33m.\u001b[0m\u001b[0mcheck_response\u001b[0m\u001b[1;33m(\u001b[0m\u001b[0mresponse\u001b[0m\u001b[1;33m)\u001b[0m\u001b[1;33m\u001b[0m\u001b[0m\n\u001b[0m\u001b[0;32m    322\u001b[0m             response['value'] = self._unwrap_value(\n\u001b[0;32m    323\u001b[0m                 response.get('value', None))\n",
      "\u001b[1;32m~\\Anaconda3\\lib\\site-packages\\selenium\\webdriver\\remote\\errorhandler.py\u001b[0m in \u001b[0;36mcheck_response\u001b[1;34m(self, response)\u001b[0m\n\u001b[0;32m    240\u001b[0m                 \u001b[0malert_text\u001b[0m \u001b[1;33m=\u001b[0m \u001b[0mvalue\u001b[0m\u001b[1;33m[\u001b[0m\u001b[1;34m'alert'\u001b[0m\u001b[1;33m]\u001b[0m\u001b[1;33m.\u001b[0m\u001b[0mget\u001b[0m\u001b[1;33m(\u001b[0m\u001b[1;34m'text'\u001b[0m\u001b[1;33m)\u001b[0m\u001b[1;33m\u001b[0m\u001b[0m\n\u001b[0;32m    241\u001b[0m             \u001b[1;32mraise\u001b[0m \u001b[0mexception_class\u001b[0m\u001b[1;33m(\u001b[0m\u001b[0mmessage\u001b[0m\u001b[1;33m,\u001b[0m \u001b[0mscreen\u001b[0m\u001b[1;33m,\u001b[0m \u001b[0mstacktrace\u001b[0m\u001b[1;33m,\u001b[0m \u001b[0malert_text\u001b[0m\u001b[1;33m)\u001b[0m\u001b[1;33m\u001b[0m\u001b[0m\n\u001b[1;32m--> 242\u001b[1;33m         \u001b[1;32mraise\u001b[0m \u001b[0mexception_class\u001b[0m\u001b[1;33m(\u001b[0m\u001b[0mmessage\u001b[0m\u001b[1;33m,\u001b[0m \u001b[0mscreen\u001b[0m\u001b[1;33m,\u001b[0m \u001b[0mstacktrace\u001b[0m\u001b[1;33m)\u001b[0m\u001b[1;33m\u001b[0m\u001b[0m\n\u001b[0m\u001b[0;32m    243\u001b[0m \u001b[1;33m\u001b[0m\u001b[0m\n\u001b[0;32m    244\u001b[0m     \u001b[1;32mdef\u001b[0m \u001b[0m_value_or_default\u001b[0m\u001b[1;33m(\u001b[0m\u001b[0mself\u001b[0m\u001b[1;33m,\u001b[0m \u001b[0mobj\u001b[0m\u001b[1;33m,\u001b[0m \u001b[0mkey\u001b[0m\u001b[1;33m,\u001b[0m \u001b[0mdefault\u001b[0m\u001b[1;33m)\u001b[0m\u001b[1;33m:\u001b[0m\u001b[1;33m\u001b[0m\u001b[0m\n",
      "\u001b[1;31mWebDriverException\u001b[0m: Message: invalid session id\n  (Driver info: chromedriver=2.44.609538 (b655c5a60b0b544917107a59d4153d4bf78e1b90),platform=Windows NT 10.0.17134 x86_64)\n"
     ]
    }
   ],
   "source": [
    "xpath = \"\"\"//*[@id=\"glopopd_excel\"]\"\"\"\n",
    "element_get_excel = driver.find_element_by_xpath(xpath).click()"
   ]
  },
  {
   "cell_type": "code",
   "execution_count": 11,
   "metadata": {},
   "outputs": [
    {
     "data": {
      "application/vnd.jupyter.widget-view+json": {
       "model_id": "95a719af84f84a87acfa27aabed0a5db",
       "version_major": 2,
       "version_minor": 0
      },
      "text/plain": [
       "HBox(children=(IntProgress(value=0, max=25), HTML(value='')))"
      ]
     },
     "metadata": {},
     "output_type": "display_data"
    },
    {
     "name": "stdout",
     "output_type": "stream",
     "text": [
      "\n"
     ]
    }
   ],
   "source": [
    "import time\n",
    "from tqdm import tqdm_notebook\n",
    "\n",
    "for gu in tqdm_notebook(gu_names):\n",
    "    element = driver.find_element_by_id(\"SIGUNGU_NM0\")\n",
    "    element.send_keys(gu)\n",
    "    \n",
    "    time.sleep(2)\n",
    "    \n",
    "    xpath = \"\"\"//*[@id=\"searRgSelect\"]\"\"\"\n",
    "    element_sel_gu = driver.find_element_by_xpath(xpath).click()\n",
    "    \n",
    "    time.sleep(1)\n",
    "    \n",
    "    xpath = \"\"\"//*[@id=\"glopopd_excel\"]\"\"\"\n",
    "    element_get_excel = driver.find_element_by_xpath(xpath).click()\n",
    "    \n",
    "    time.sleep(1)"
   ]
  },
  {
   "cell_type": "code",
   "execution_count": 12,
   "metadata": {},
   "outputs": [],
   "source": [
    "driver.close()"
   ]
  },
  {
   "cell_type": "markdown",
   "metadata": {
    "collapsed": true
   },
   "source": [
    "## 3. 구별 주유 가격에 대한 데이터의 정리"
   ]
  },
  {
   "cell_type": "code",
   "execution_count": 20,
   "metadata": {},
   "outputs": [],
   "source": [
    "import pandas as pd\n",
    "from glob import glob"
   ]
  },
  {
   "cell_type": "code",
   "execution_count": 21,
   "metadata": {
    "scrolled": true
   },
   "outputs": [
    {
     "data": {
      "text/plain": [
       "['data\\\\지역_위치별(주유소) (1).xls',\n",
       " 'data\\\\지역_위치별(주유소) (10).xls',\n",
       " 'data\\\\지역_위치별(주유소) (11).xls',\n",
       " 'data\\\\지역_위치별(주유소) (12).xls',\n",
       " 'data\\\\지역_위치별(주유소) (13).xls',\n",
       " 'data\\\\지역_위치별(주유소) (14).xls',\n",
       " 'data\\\\지역_위치별(주유소) (15).xls',\n",
       " 'data\\\\지역_위치별(주유소) (16).xls',\n",
       " 'data\\\\지역_위치별(주유소) (17).xls',\n",
       " 'data\\\\지역_위치별(주유소) (18).xls',\n",
       " 'data\\\\지역_위치별(주유소) (19).xls',\n",
       " 'data\\\\지역_위치별(주유소) (2).xls',\n",
       " 'data\\\\지역_위치별(주유소) (20).xls',\n",
       " 'data\\\\지역_위치별(주유소) (21).xls',\n",
       " 'data\\\\지역_위치별(주유소) (22).xls',\n",
       " 'data\\\\지역_위치별(주유소) (23).xls',\n",
       " 'data\\\\지역_위치별(주유소) (24).xls',\n",
       " 'data\\\\지역_위치별(주유소) (25).xls',\n",
       " 'data\\\\지역_위치별(주유소) (3).xls',\n",
       " 'data\\\\지역_위치별(주유소) (4).xls',\n",
       " 'data\\\\지역_위치별(주유소) (5).xls',\n",
       " 'data\\\\지역_위치별(주유소) (6).xls',\n",
       " 'data\\\\지역_위치별(주유소) (7).xls',\n",
       " 'data\\\\지역_위치별(주유소) (8).xls',\n",
       " 'data\\\\지역_위치별(주유소) (9).xls',\n",
       " 'data\\\\지역_위치별(주유소).xls']"
      ]
     },
     "execution_count": 21,
     "metadata": {},
     "output_type": "execute_result"
    }
   ],
   "source": [
    "#glob('data/지역_위치별*xls')\n",
    "stations_files = glob('data/*xls')\n",
    "stations_files"
   ]
  },
  {
   "cell_type": "code",
   "execution_count": 22,
   "metadata": {},
   "outputs": [],
   "source": [
    "tmp_raw = []\n",
    "\n",
    "for file_name in stations_files:\n",
    "    tmp = pd.read_excel(file_name, header=2)\n",
    "    tmp_raw.append(tmp)\n",
    "    \n",
    "station_raw = pd.concat(tmp_raw)"
   ]
  },
  {
   "cell_type": "code",
   "execution_count": 23,
   "metadata": {},
   "outputs": [
    {
     "name": "stdout",
     "output_type": "stream",
     "text": [
      "<class 'pandas.core.frame.DataFrame'>\n",
      "Int64Index: 555 entries, 0 to 41\n",
      "Data columns (total 10 columns):\n",
      "지역       555 non-null object\n",
      "상호       555 non-null object\n",
      "주소       555 non-null object\n",
      "상표       555 non-null object\n",
      "전화번호     555 non-null object\n",
      "셀프여부     555 non-null object\n",
      "고급휘발유    555 non-null object\n",
      "휘발유      555 non-null object\n",
      "경유       555 non-null object\n",
      "실내등유     555 non-null object\n",
      "dtypes: object(10)\n",
      "memory usage: 47.7+ KB\n"
     ]
    }
   ],
   "source": [
    "station_raw.info()"
   ]
  },
  {
   "cell_type": "code",
   "execution_count": 24,
   "metadata": {},
   "outputs": [
    {
     "data": {
      "text/html": [
       "<div>\n",
       "<style scoped>\n",
       "    .dataframe tbody tr th:only-of-type {\n",
       "        vertical-align: middle;\n",
       "    }\n",
       "\n",
       "    .dataframe tbody tr th {\n",
       "        vertical-align: top;\n",
       "    }\n",
       "\n",
       "    .dataframe thead th {\n",
       "        text-align: right;\n",
       "    }\n",
       "</style>\n",
       "<table border=\"1\" class=\"dataframe\">\n",
       "  <thead>\n",
       "    <tr style=\"text-align: right;\">\n",
       "      <th></th>\n",
       "      <th>지역</th>\n",
       "      <th>상호</th>\n",
       "      <th>주소</th>\n",
       "      <th>상표</th>\n",
       "      <th>전화번호</th>\n",
       "      <th>셀프여부</th>\n",
       "      <th>고급휘발유</th>\n",
       "      <th>휘발유</th>\n",
       "      <th>경유</th>\n",
       "      <th>실내등유</th>\n",
       "    </tr>\n",
       "  </thead>\n",
       "  <tbody>\n",
       "    <tr>\n",
       "      <th>0</th>\n",
       "      <td>서울특별시</td>\n",
       "      <td>(주)보성 세곡주유소</td>\n",
       "      <td>서울특별시 강남구  헌릉로 731 (세곡동)</td>\n",
       "      <td>SK에너지</td>\n",
       "      <td>02-445-6870</td>\n",
       "      <td>Y</td>\n",
       "      <td>-</td>\n",
       "      <td>1485</td>\n",
       "      <td>1344</td>\n",
       "      <td>-</td>\n",
       "    </tr>\n",
       "    <tr>\n",
       "      <th>1</th>\n",
       "      <td>서울특별시</td>\n",
       "      <td>현대오일뱅크 도곡셀프주유소</td>\n",
       "      <td>서울특별시 강남구  남부순환로 2718 (도곡2동)</td>\n",
       "      <td>현대오일뱅크</td>\n",
       "      <td>02-529-5101</td>\n",
       "      <td>Y</td>\n",
       "      <td>1688</td>\n",
       "      <td>1486</td>\n",
       "      <td>1386</td>\n",
       "      <td>-</td>\n",
       "    </tr>\n",
       "    <tr>\n",
       "      <th>2</th>\n",
       "      <td>서울특별시</td>\n",
       "      <td>에쓰-오일(주)직영개나리주유소</td>\n",
       "      <td>서울특별시 강남구  언주로 423 (역삼동)</td>\n",
       "      <td>S-OIL</td>\n",
       "      <td>02-564-0187</td>\n",
       "      <td>N</td>\n",
       "      <td>1695</td>\n",
       "      <td>1495</td>\n",
       "      <td>1375</td>\n",
       "      <td>-</td>\n",
       "    </tr>\n",
       "    <tr>\n",
       "      <th>3</th>\n",
       "      <td>서울특별시</td>\n",
       "      <td>지에스타워주유소</td>\n",
       "      <td>서울특별시 강남구  논현로 516 (역삼동)</td>\n",
       "      <td>GS칼텍스</td>\n",
       "      <td>02-539-5145</td>\n",
       "      <td>N</td>\n",
       "      <td>1695</td>\n",
       "      <td>1495</td>\n",
       "      <td>1375</td>\n",
       "      <td>-</td>\n",
       "    </tr>\n",
       "    <tr>\n",
       "      <th>4</th>\n",
       "      <td>서울특별시</td>\n",
       "      <td>(주)동하힐탑셀프주유소</td>\n",
       "      <td>서울 강남구 논현로 640 (논현동)</td>\n",
       "      <td>SK에너지</td>\n",
       "      <td>02-544-4075</td>\n",
       "      <td>Y</td>\n",
       "      <td>1673</td>\n",
       "      <td>1497</td>\n",
       "      <td>1377</td>\n",
       "      <td>-</td>\n",
       "    </tr>\n",
       "  </tbody>\n",
       "</table>\n",
       "</div>"
      ],
      "text/plain": [
       "      지역                상호                            주소      상표         전화번호  \\\n",
       "0  서울특별시       (주)보성 세곡주유소      서울특별시 강남구  헌릉로 731 (세곡동)   SK에너지  02-445-6870   \n",
       "1  서울특별시    현대오일뱅크 도곡셀프주유소  서울특별시 강남구  남부순환로 2718 (도곡2동)  현대오일뱅크  02-529-5101   \n",
       "2  서울특별시  에쓰-오일(주)직영개나리주유소      서울특별시 강남구  언주로 423 (역삼동)   S-OIL  02-564-0187   \n",
       "3  서울특별시          지에스타워주유소      서울특별시 강남구  논현로 516 (역삼동)   GS칼텍스  02-539-5145   \n",
       "4  서울특별시      (주)동하힐탑셀프주유소          서울 강남구 논현로 640 (논현동)   SK에너지  02-544-4075   \n",
       "\n",
       "  셀프여부 고급휘발유   휘발유    경유 실내등유  \n",
       "0    Y     -  1485  1344    -  \n",
       "1    Y  1688  1486  1386    -  \n",
       "2    N  1695  1495  1375    -  \n",
       "3    N  1695  1495  1375    -  \n",
       "4    Y  1673  1497  1377    -  "
      ]
     },
     "execution_count": 24,
     "metadata": {},
     "output_type": "execute_result"
    }
   ],
   "source": [
    "station_raw.head()"
   ]
  },
  {
   "cell_type": "code",
   "execution_count": 25,
   "metadata": {},
   "outputs": [
    {
     "data": {
      "text/html": [
       "<div>\n",
       "<style scoped>\n",
       "    .dataframe tbody tr th:only-of-type {\n",
       "        vertical-align: middle;\n",
       "    }\n",
       "\n",
       "    .dataframe tbody tr th {\n",
       "        vertical-align: top;\n",
       "    }\n",
       "\n",
       "    .dataframe thead th {\n",
       "        text-align: right;\n",
       "    }\n",
       "</style>\n",
       "<table border=\"1\" class=\"dataframe\">\n",
       "  <thead>\n",
       "    <tr style=\"text-align: right;\">\n",
       "      <th></th>\n",
       "      <th>Oil_store</th>\n",
       "      <th>주소</th>\n",
       "      <th>가격</th>\n",
       "      <th>셀프</th>\n",
       "      <th>상표</th>\n",
       "    </tr>\n",
       "  </thead>\n",
       "  <tbody>\n",
       "    <tr>\n",
       "      <th>0</th>\n",
       "      <td>(주)보성 세곡주유소</td>\n",
       "      <td>서울특별시 강남구  헌릉로 731 (세곡동)</td>\n",
       "      <td>1485</td>\n",
       "      <td>Y</td>\n",
       "      <td>SK에너지</td>\n",
       "    </tr>\n",
       "    <tr>\n",
       "      <th>1</th>\n",
       "      <td>현대오일뱅크 도곡셀프주유소</td>\n",
       "      <td>서울특별시 강남구  남부순환로 2718 (도곡2동)</td>\n",
       "      <td>1486</td>\n",
       "      <td>Y</td>\n",
       "      <td>현대오일뱅크</td>\n",
       "    </tr>\n",
       "    <tr>\n",
       "      <th>2</th>\n",
       "      <td>에쓰-오일(주)직영개나리주유소</td>\n",
       "      <td>서울특별시 강남구  언주로 423 (역삼동)</td>\n",
       "      <td>1495</td>\n",
       "      <td>N</td>\n",
       "      <td>S-OIL</td>\n",
       "    </tr>\n",
       "    <tr>\n",
       "      <th>3</th>\n",
       "      <td>지에스타워주유소</td>\n",
       "      <td>서울특별시 강남구  논현로 516 (역삼동)</td>\n",
       "      <td>1495</td>\n",
       "      <td>N</td>\n",
       "      <td>GS칼텍스</td>\n",
       "    </tr>\n",
       "    <tr>\n",
       "      <th>4</th>\n",
       "      <td>(주)동하힐탑셀프주유소</td>\n",
       "      <td>서울 강남구 논현로 640 (논현동)</td>\n",
       "      <td>1497</td>\n",
       "      <td>Y</td>\n",
       "      <td>SK에너지</td>\n",
       "    </tr>\n",
       "  </tbody>\n",
       "</table>\n",
       "</div>"
      ],
      "text/plain": [
       "          Oil_store                            주소    가격 셀프      상표\n",
       "0       (주)보성 세곡주유소      서울특별시 강남구  헌릉로 731 (세곡동)  1485  Y   SK에너지\n",
       "1    현대오일뱅크 도곡셀프주유소  서울특별시 강남구  남부순환로 2718 (도곡2동)  1486  Y  현대오일뱅크\n",
       "2  에쓰-오일(주)직영개나리주유소      서울특별시 강남구  언주로 423 (역삼동)  1495  N   S-OIL\n",
       "3          지에스타워주유소      서울특별시 강남구  논현로 516 (역삼동)  1495  N   GS칼텍스\n",
       "4      (주)동하힐탑셀프주유소          서울 강남구 논현로 640 (논현동)  1497  Y   SK에너지"
      ]
     },
     "execution_count": 25,
     "metadata": {},
     "output_type": "execute_result"
    }
   ],
   "source": [
    "stations = pd.DataFrame({'Oil_store':station_raw['상호'], \n",
    "                                       '주소':station_raw['주소'],\n",
    "                                       '가격':station_raw['휘발유'],\n",
    "                                       '셀프':station_raw['셀프여부'],\n",
    "                                       '상표':station_raw['상표']  })\n",
    "stations.head()"
   ]
  },
  {
   "cell_type": "code",
   "execution_count": 26,
   "metadata": {},
   "outputs": [
    {
     "data": {
      "text/html": [
       "<div>\n",
       "<style scoped>\n",
       "    .dataframe tbody tr th:only-of-type {\n",
       "        vertical-align: middle;\n",
       "    }\n",
       "\n",
       "    .dataframe tbody tr th {\n",
       "        vertical-align: top;\n",
       "    }\n",
       "\n",
       "    .dataframe thead th {\n",
       "        text-align: right;\n",
       "    }\n",
       "</style>\n",
       "<table border=\"1\" class=\"dataframe\">\n",
       "  <thead>\n",
       "    <tr style=\"text-align: right;\">\n",
       "      <th></th>\n",
       "      <th>Oil_store</th>\n",
       "      <th>주소</th>\n",
       "      <th>가격</th>\n",
       "      <th>셀프</th>\n",
       "      <th>상표</th>\n",
       "      <th>구</th>\n",
       "    </tr>\n",
       "  </thead>\n",
       "  <tbody>\n",
       "    <tr>\n",
       "      <th>0</th>\n",
       "      <td>(주)보성 세곡주유소</td>\n",
       "      <td>서울특별시 강남구  헌릉로 731 (세곡동)</td>\n",
       "      <td>1485</td>\n",
       "      <td>Y</td>\n",
       "      <td>SK에너지</td>\n",
       "      <td>강남구</td>\n",
       "    </tr>\n",
       "    <tr>\n",
       "      <th>1</th>\n",
       "      <td>현대오일뱅크 도곡셀프주유소</td>\n",
       "      <td>서울특별시 강남구  남부순환로 2718 (도곡2동)</td>\n",
       "      <td>1486</td>\n",
       "      <td>Y</td>\n",
       "      <td>현대오일뱅크</td>\n",
       "      <td>강남구</td>\n",
       "    </tr>\n",
       "    <tr>\n",
       "      <th>2</th>\n",
       "      <td>에쓰-오일(주)직영개나리주유소</td>\n",
       "      <td>서울특별시 강남구  언주로 423 (역삼동)</td>\n",
       "      <td>1495</td>\n",
       "      <td>N</td>\n",
       "      <td>S-OIL</td>\n",
       "      <td>강남구</td>\n",
       "    </tr>\n",
       "    <tr>\n",
       "      <th>3</th>\n",
       "      <td>지에스타워주유소</td>\n",
       "      <td>서울특별시 강남구  논현로 516 (역삼동)</td>\n",
       "      <td>1495</td>\n",
       "      <td>N</td>\n",
       "      <td>GS칼텍스</td>\n",
       "      <td>강남구</td>\n",
       "    </tr>\n",
       "    <tr>\n",
       "      <th>4</th>\n",
       "      <td>(주)동하힐탑셀프주유소</td>\n",
       "      <td>서울 강남구 논현로 640 (논현동)</td>\n",
       "      <td>1497</td>\n",
       "      <td>Y</td>\n",
       "      <td>SK에너지</td>\n",
       "      <td>강남구</td>\n",
       "    </tr>\n",
       "  </tbody>\n",
       "</table>\n",
       "</div>"
      ],
      "text/plain": [
       "          Oil_store                            주소    가격 셀프      상표    구\n",
       "0       (주)보성 세곡주유소      서울특별시 강남구  헌릉로 731 (세곡동)  1485  Y   SK에너지  강남구\n",
       "1    현대오일뱅크 도곡셀프주유소  서울특별시 강남구  남부순환로 2718 (도곡2동)  1486  Y  현대오일뱅크  강남구\n",
       "2  에쓰-오일(주)직영개나리주유소      서울특별시 강남구  언주로 423 (역삼동)  1495  N   S-OIL  강남구\n",
       "3          지에스타워주유소      서울특별시 강남구  논현로 516 (역삼동)  1495  N   GS칼텍스  강남구\n",
       "4      (주)동하힐탑셀프주유소          서울 강남구 논현로 640 (논현동)  1497  Y   SK에너지  강남구"
      ]
     },
     "execution_count": 26,
     "metadata": {},
     "output_type": "execute_result"
    }
   ],
   "source": [
    "stations['구'] = [eachAddress.split()[1] for eachAddress in stations['주소']]\n",
    "stations.head()"
   ]
  },
  {
   "cell_type": "code",
   "execution_count": 27,
   "metadata": {},
   "outputs": [
    {
     "data": {
      "text/plain": [
       "array(['강남구', '도봉구', '특별시', '동대문구', '동작구', '마포구', '서대문구', '서초구', '성동구',\n",
       "       '서울특별시', '성북구', '송파구', '양천구', '강동구', '영등포구', '용산구', '은평구', '종로구',\n",
       "       '중구', '중랑구', '강북구', '강서구', '관악구', '광진구', '구로구', '금천구', '노원구'],\n",
       "      dtype=object)"
      ]
     },
     "execution_count": 27,
     "metadata": {},
     "output_type": "execute_result"
    }
   ],
   "source": [
    "stations['구'].unique()"
   ]
  },
  {
   "cell_type": "code",
   "execution_count": 28,
   "metadata": {},
   "outputs": [
    {
     "data": {
      "text/html": [
       "<div>\n",
       "<style scoped>\n",
       "    .dataframe tbody tr th:only-of-type {\n",
       "        vertical-align: middle;\n",
       "    }\n",
       "\n",
       "    .dataframe tbody tr th {\n",
       "        vertical-align: top;\n",
       "    }\n",
       "\n",
       "    .dataframe thead th {\n",
       "        text-align: right;\n",
       "    }\n",
       "</style>\n",
       "<table border=\"1\" class=\"dataframe\">\n",
       "  <thead>\n",
       "    <tr style=\"text-align: right;\">\n",
       "      <th></th>\n",
       "      <th>Oil_store</th>\n",
       "      <th>주소</th>\n",
       "      <th>가격</th>\n",
       "      <th>셀프</th>\n",
       "      <th>상표</th>\n",
       "      <th>구</th>\n",
       "    </tr>\n",
       "  </thead>\n",
       "  <tbody>\n",
       "    <tr>\n",
       "      <th>11</th>\n",
       "      <td>SK네트웍스(주)효진주유소</td>\n",
       "      <td>1 서울특별시 성동구 동일로 129 (성수동2가)</td>\n",
       "      <td>1559</td>\n",
       "      <td>N</td>\n",
       "      <td>SK에너지</td>\n",
       "      <td>서울특별시</td>\n",
       "    </tr>\n",
       "  </tbody>\n",
       "</table>\n",
       "</div>"
      ],
      "text/plain": [
       "         Oil_store                           주소    가격 셀프     상표      구\n",
       "11  SK네트웍스(주)효진주유소  1 서울특별시 성동구 동일로 129 (성수동2가)  1559  N  SK에너지  서울특별시"
      ]
     },
     "execution_count": 28,
     "metadata": {},
     "output_type": "execute_result"
    }
   ],
   "source": [
    "stations[stations['구']=='서울특별시']"
   ]
  },
  {
   "cell_type": "code",
   "execution_count": 30,
   "metadata": {},
   "outputs": [
    {
     "data": {
      "text/plain": [
       "array(['강남구', '도봉구', '특별시', '동대문구', '동작구', '마포구', '서대문구', '서초구', '성동구',\n",
       "       '성북구', '송파구', '양천구', '강동구', '영등포구', '용산구', '은평구', '종로구', '중구',\n",
       "       '중랑구', '강북구', '강서구', '관악구', '광진구', '구로구', '금천구', '노원구'],\n",
       "      dtype=object)"
      ]
     },
     "execution_count": 30,
     "metadata": {},
     "output_type": "execute_result"
    }
   ],
   "source": [
    "stations.loc[stations['구']=='서울특별시', '구'] = '성동구'\n",
    "stations['구'].unique()"
   ]
  },
  {
   "cell_type": "code",
   "execution_count": 32,
   "metadata": {},
   "outputs": [
    {
     "data": {
      "text/html": [
       "<div>\n",
       "<style scoped>\n",
       "    .dataframe tbody tr th:only-of-type {\n",
       "        vertical-align: middle;\n",
       "    }\n",
       "\n",
       "    .dataframe tbody tr th {\n",
       "        vertical-align: top;\n",
       "    }\n",
       "\n",
       "    .dataframe thead th {\n",
       "        text-align: right;\n",
       "    }\n",
       "</style>\n",
       "<table border=\"1\" class=\"dataframe\">\n",
       "  <thead>\n",
       "    <tr style=\"text-align: right;\">\n",
       "      <th></th>\n",
       "      <th>Oil_store</th>\n",
       "      <th>주소</th>\n",
       "      <th>가격</th>\n",
       "      <th>셀프</th>\n",
       "      <th>상표</th>\n",
       "      <th>구</th>\n",
       "    </tr>\n",
       "  </thead>\n",
       "  <tbody>\n",
       "    <tr>\n",
       "      <th>8</th>\n",
       "      <td>서현주유소</td>\n",
       "      <td>서울 특별시 도봉구 방학로 142 (방학동)</td>\n",
       "      <td>1395</td>\n",
       "      <td>Y</td>\n",
       "      <td>S-OIL</td>\n",
       "      <td>특별시</td>\n",
       "    </tr>\n",
       "  </tbody>\n",
       "</table>\n",
       "</div>"
      ],
      "text/plain": [
       "  Oil_store                        주소    가격 셀프     상표    구\n",
       "8     서현주유소  서울 특별시 도봉구 방학로 142 (방학동)  1395  Y  S-OIL  특별시"
      ]
     },
     "execution_count": 32,
     "metadata": {},
     "output_type": "execute_result"
    }
   ],
   "source": [
    "stations[stations['구']=='특별시']"
   ]
  },
  {
   "cell_type": "code",
   "execution_count": 33,
   "metadata": {},
   "outputs": [
    {
     "data": {
      "text/plain": [
       "array(['강남구', '도봉구', '동대문구', '동작구', '마포구', '서대문구', '서초구', '성동구', '성북구',\n",
       "       '송파구', '양천구', '강동구', '영등포구', '용산구', '은평구', '종로구', '중구', '중랑구',\n",
       "       '강북구', '강서구', '관악구', '광진구', '구로구', '금천구', '노원구'], dtype=object)"
      ]
     },
     "execution_count": 33,
     "metadata": {},
     "output_type": "execute_result"
    }
   ],
   "source": [
    "stations.loc[stations['구']=='특별시', '구'] = '도봉구'\n",
    "stations['구'].unique()"
   ]
  },
  {
   "cell_type": "code",
   "execution_count": 35,
   "metadata": {},
   "outputs": [
    {
     "data": {
      "text/html": [
       "<div>\n",
       "<style scoped>\n",
       "    .dataframe tbody tr th:only-of-type {\n",
       "        vertical-align: middle;\n",
       "    }\n",
       "\n",
       "    .dataframe tbody tr th {\n",
       "        vertical-align: top;\n",
       "    }\n",
       "\n",
       "    .dataframe thead th {\n",
       "        text-align: right;\n",
       "    }\n",
       "</style>\n",
       "<table border=\"1\" class=\"dataframe\">\n",
       "  <thead>\n",
       "    <tr style=\"text-align: right;\">\n",
       "      <th></th>\n",
       "      <th>Oil_store</th>\n",
       "      <th>주소</th>\n",
       "      <th>가격</th>\n",
       "      <th>셀프</th>\n",
       "      <th>상표</th>\n",
       "      <th>구</th>\n",
       "    </tr>\n",
       "  </thead>\n",
       "  <tbody>\n",
       "    <tr>\n",
       "      <th>41</th>\n",
       "      <td>동우주유소</td>\n",
       "      <td>서울특별시 강남구  봉은사로 311 (논현동)</td>\n",
       "      <td>-</td>\n",
       "      <td>N</td>\n",
       "      <td>SK에너지</td>\n",
       "      <td>강남구</td>\n",
       "    </tr>\n",
       "    <tr>\n",
       "      <th>13</th>\n",
       "      <td>서강주유소</td>\n",
       "      <td>서울 마포구 독막로 134 (창전동)</td>\n",
       "      <td>-</td>\n",
       "      <td>N</td>\n",
       "      <td>SK에너지</td>\n",
       "      <td>마포구</td>\n",
       "    </tr>\n",
       "    <tr>\n",
       "      <th>25</th>\n",
       "      <td>현대주유소</td>\n",
       "      <td>서울 양천구 남부순환로 372 (신월동)</td>\n",
       "      <td>-</td>\n",
       "      <td>Y</td>\n",
       "      <td>S-OIL</td>\n",
       "      <td>양천구</td>\n",
       "    </tr>\n",
       "    <tr>\n",
       "      <th>32</th>\n",
       "      <td>하나주유소</td>\n",
       "      <td>서울특별시 영등포구  도림로 236 (신길동)</td>\n",
       "      <td>-</td>\n",
       "      <td>N</td>\n",
       "      <td>S-OIL</td>\n",
       "      <td>영등포구</td>\n",
       "    </tr>\n",
       "    <tr>\n",
       "      <th>33</th>\n",
       "      <td>대지주유소</td>\n",
       "      <td>서울 영등포구 영등포로 115 (당산동2가)</td>\n",
       "      <td>-</td>\n",
       "      <td>N</td>\n",
       "      <td>SK에너지</td>\n",
       "      <td>영등포구</td>\n",
       "    </tr>\n",
       "    <tr>\n",
       "      <th>17</th>\n",
       "      <td>대성산업(주)대성주유소</td>\n",
       "      <td>서울 은평구 통일로 642 (녹번동)</td>\n",
       "      <td>-</td>\n",
       "      <td>N</td>\n",
       "      <td>GS칼텍스</td>\n",
       "      <td>은평구</td>\n",
       "    </tr>\n",
       "    <tr>\n",
       "      <th>21</th>\n",
       "      <td>현대오일뱅크(주)직영신구로주유소</td>\n",
       "      <td>서울특별시 구로구  가마산로 293 (구로동)</td>\n",
       "      <td>-</td>\n",
       "      <td>N</td>\n",
       "      <td>현대오일뱅크</td>\n",
       "      <td>구로구</td>\n",
       "    </tr>\n",
       "    <tr>\n",
       "      <th>41</th>\n",
       "      <td>동우주유소</td>\n",
       "      <td>서울특별시 강남구  봉은사로 311 (논현동)</td>\n",
       "      <td>-</td>\n",
       "      <td>N</td>\n",
       "      <td>SK에너지</td>\n",
       "      <td>강남구</td>\n",
       "    </tr>\n",
       "  </tbody>\n",
       "</table>\n",
       "</div>"
      ],
      "text/plain": [
       "            Oil_store                         주소 가격 셀프      상표     구\n",
       "41              동우주유소  서울특별시 강남구  봉은사로 311 (논현동)  -  N   SK에너지   강남구\n",
       "13              서강주유소       서울 마포구 독막로 134 (창전동)  -  N   SK에너지   마포구\n",
       "25              현대주유소     서울 양천구 남부순환로 372 (신월동)  -  Y   S-OIL   양천구\n",
       "32              하나주유소  서울특별시 영등포구  도림로 236 (신길동)  -  N   S-OIL  영등포구\n",
       "33              대지주유소   서울 영등포구 영등포로 115 (당산동2가)  -  N   SK에너지  영등포구\n",
       "17       대성산업(주)대성주유소       서울 은평구 통일로 642 (녹번동)  -  N   GS칼텍스   은평구\n",
       "21  현대오일뱅크(주)직영신구로주유소  서울특별시 구로구  가마산로 293 (구로동)  -  N  현대오일뱅크   구로구\n",
       "41              동우주유소  서울특별시 강남구  봉은사로 311 (논현동)  -  N   SK에너지   강남구"
      ]
     },
     "execution_count": 35,
     "metadata": {},
     "output_type": "execute_result"
    }
   ],
   "source": [
    "stations[stations['가격']=='-']"
   ]
  },
  {
   "cell_type": "code",
   "execution_count": 37,
   "metadata": {},
   "outputs": [
    {
     "data": {
      "text/html": [
       "<div>\n",
       "<style scoped>\n",
       "    .dataframe tbody tr th:only-of-type {\n",
       "        vertical-align: middle;\n",
       "    }\n",
       "\n",
       "    .dataframe tbody tr th {\n",
       "        vertical-align: top;\n",
       "    }\n",
       "\n",
       "    .dataframe thead th {\n",
       "        text-align: right;\n",
       "    }\n",
       "</style>\n",
       "<table border=\"1\" class=\"dataframe\">\n",
       "  <thead>\n",
       "    <tr style=\"text-align: right;\">\n",
       "      <th></th>\n",
       "      <th>Oil_store</th>\n",
       "      <th>주소</th>\n",
       "      <th>가격</th>\n",
       "      <th>셀프</th>\n",
       "      <th>상표</th>\n",
       "      <th>구</th>\n",
       "    </tr>\n",
       "  </thead>\n",
       "  <tbody>\n",
       "    <tr>\n",
       "      <th>0</th>\n",
       "      <td>(주)보성 세곡주유소</td>\n",
       "      <td>서울특별시 강남구  헌릉로 731 (세곡동)</td>\n",
       "      <td>1485</td>\n",
       "      <td>Y</td>\n",
       "      <td>SK에너지</td>\n",
       "      <td>강남구</td>\n",
       "    </tr>\n",
       "    <tr>\n",
       "      <th>1</th>\n",
       "      <td>현대오일뱅크 도곡셀프주유소</td>\n",
       "      <td>서울특별시 강남구  남부순환로 2718 (도곡2동)</td>\n",
       "      <td>1486</td>\n",
       "      <td>Y</td>\n",
       "      <td>현대오일뱅크</td>\n",
       "      <td>강남구</td>\n",
       "    </tr>\n",
       "    <tr>\n",
       "      <th>2</th>\n",
       "      <td>에쓰-오일(주)직영개나리주유소</td>\n",
       "      <td>서울특별시 강남구  언주로 423 (역삼동)</td>\n",
       "      <td>1495</td>\n",
       "      <td>N</td>\n",
       "      <td>S-OIL</td>\n",
       "      <td>강남구</td>\n",
       "    </tr>\n",
       "    <tr>\n",
       "      <th>3</th>\n",
       "      <td>지에스타워주유소</td>\n",
       "      <td>서울특별시 강남구  논현로 516 (역삼동)</td>\n",
       "      <td>1495</td>\n",
       "      <td>N</td>\n",
       "      <td>GS칼텍스</td>\n",
       "      <td>강남구</td>\n",
       "    </tr>\n",
       "    <tr>\n",
       "      <th>4</th>\n",
       "      <td>(주)동하힐탑셀프주유소</td>\n",
       "      <td>서울 강남구 논현로 640 (논현동)</td>\n",
       "      <td>1497</td>\n",
       "      <td>Y</td>\n",
       "      <td>SK에너지</td>\n",
       "      <td>강남구</td>\n",
       "    </tr>\n",
       "  </tbody>\n",
       "</table>\n",
       "</div>"
      ],
      "text/plain": [
       "          Oil_store                            주소    가격 셀프      상표    구\n",
       "0       (주)보성 세곡주유소      서울특별시 강남구  헌릉로 731 (세곡동)  1485  Y   SK에너지  강남구\n",
       "1    현대오일뱅크 도곡셀프주유소  서울특별시 강남구  남부순환로 2718 (도곡2동)  1486  Y  현대오일뱅크  강남구\n",
       "2  에쓰-오일(주)직영개나리주유소      서울특별시 강남구  언주로 423 (역삼동)  1495  N   S-OIL  강남구\n",
       "3          지에스타워주유소      서울특별시 강남구  논현로 516 (역삼동)  1495  N   GS칼텍스  강남구\n",
       "4      (주)동하힐탑셀프주유소          서울 강남구 논현로 640 (논현동)  1497  Y   SK에너지  강남구"
      ]
     },
     "execution_count": 37,
     "metadata": {},
     "output_type": "execute_result"
    }
   ],
   "source": [
    "stations = stations[stations['가격'] != '-']\n",
    "stations.head()"
   ]
  },
  {
   "cell_type": "code",
   "execution_count": 38,
   "metadata": {},
   "outputs": [],
   "source": [
    "stations['가격'] = [float(value) for value in stations['가격']]"
   ]
  },
  {
   "cell_type": "code",
   "execution_count": 39,
   "metadata": {},
   "outputs": [],
   "source": [
    "stations.reset_index(inplace=True)\n",
    "del stations['index']"
   ]
  },
  {
   "cell_type": "code",
   "execution_count": 41,
   "metadata": {},
   "outputs": [
    {
     "name": "stdout",
     "output_type": "stream",
     "text": [
      "<class 'pandas.core.frame.DataFrame'>\n",
      "RangeIndex: 547 entries, 0 to 546\n",
      "Data columns (total 6 columns):\n",
      "Oil_store    547 non-null object\n",
      "주소           547 non-null object\n",
      "가격           547 non-null float64\n",
      "셀프           547 non-null object\n",
      "상표           547 non-null object\n",
      "구            547 non-null object\n",
      "dtypes: float64(1), object(5)\n",
      "memory usage: 25.7+ KB\n"
     ]
    }
   ],
   "source": [
    "stations.info()"
   ]
  },
  {
   "cell_type": "code",
   "execution_count": 42,
   "metadata": {},
   "outputs": [
    {
     "data": {
      "text/html": [
       "<div>\n",
       "<style scoped>\n",
       "    .dataframe tbody tr th:only-of-type {\n",
       "        vertical-align: middle;\n",
       "    }\n",
       "\n",
       "    .dataframe tbody tr th {\n",
       "        vertical-align: top;\n",
       "    }\n",
       "\n",
       "    .dataframe thead th {\n",
       "        text-align: right;\n",
       "    }\n",
       "</style>\n",
       "<table border=\"1\" class=\"dataframe\">\n",
       "  <thead>\n",
       "    <tr style=\"text-align: right;\">\n",
       "      <th></th>\n",
       "      <th>Oil_store</th>\n",
       "      <th>주소</th>\n",
       "      <th>가격</th>\n",
       "      <th>셀프</th>\n",
       "      <th>상표</th>\n",
       "      <th>구</th>\n",
       "    </tr>\n",
       "  </thead>\n",
       "  <tbody>\n",
       "    <tr>\n",
       "      <th>0</th>\n",
       "      <td>(주)보성 세곡주유소</td>\n",
       "      <td>서울특별시 강남구  헌릉로 731 (세곡동)</td>\n",
       "      <td>1485.0</td>\n",
       "      <td>Y</td>\n",
       "      <td>SK에너지</td>\n",
       "      <td>강남구</td>\n",
       "    </tr>\n",
       "    <tr>\n",
       "      <th>1</th>\n",
       "      <td>현대오일뱅크 도곡셀프주유소</td>\n",
       "      <td>서울특별시 강남구  남부순환로 2718 (도곡2동)</td>\n",
       "      <td>1486.0</td>\n",
       "      <td>Y</td>\n",
       "      <td>현대오일뱅크</td>\n",
       "      <td>강남구</td>\n",
       "    </tr>\n",
       "    <tr>\n",
       "      <th>2</th>\n",
       "      <td>에쓰-오일(주)직영개나리주유소</td>\n",
       "      <td>서울특별시 강남구  언주로 423 (역삼동)</td>\n",
       "      <td>1495.0</td>\n",
       "      <td>N</td>\n",
       "      <td>S-OIL</td>\n",
       "      <td>강남구</td>\n",
       "    </tr>\n",
       "    <tr>\n",
       "      <th>3</th>\n",
       "      <td>지에스타워주유소</td>\n",
       "      <td>서울특별시 강남구  논현로 516 (역삼동)</td>\n",
       "      <td>1495.0</td>\n",
       "      <td>N</td>\n",
       "      <td>GS칼텍스</td>\n",
       "      <td>강남구</td>\n",
       "    </tr>\n",
       "    <tr>\n",
       "      <th>4</th>\n",
       "      <td>(주)동하힐탑셀프주유소</td>\n",
       "      <td>서울 강남구 논현로 640 (논현동)</td>\n",
       "      <td>1497.0</td>\n",
       "      <td>Y</td>\n",
       "      <td>SK에너지</td>\n",
       "      <td>강남구</td>\n",
       "    </tr>\n",
       "  </tbody>\n",
       "</table>\n",
       "</div>"
      ],
      "text/plain": [
       "          Oil_store                            주소      가격 셀프      상표    구\n",
       "0       (주)보성 세곡주유소      서울특별시 강남구  헌릉로 731 (세곡동)  1485.0  Y   SK에너지  강남구\n",
       "1    현대오일뱅크 도곡셀프주유소  서울특별시 강남구  남부순환로 2718 (도곡2동)  1486.0  Y  현대오일뱅크  강남구\n",
       "2  에쓰-오일(주)직영개나리주유소      서울특별시 강남구  언주로 423 (역삼동)  1495.0  N   S-OIL  강남구\n",
       "3          지에스타워주유소      서울특별시 강남구  논현로 516 (역삼동)  1495.0  N   GS칼텍스  강남구\n",
       "4      (주)동하힐탑셀프주유소          서울 강남구 논현로 640 (논현동)  1497.0  Y   SK에너지  강남구"
      ]
     },
     "execution_count": 42,
     "metadata": {},
     "output_type": "execute_result"
    }
   ],
   "source": [
    "stations.head()"
   ]
  },
  {
   "cell_type": "markdown",
   "metadata": {
    "collapsed": true
   },
   "source": [
    "## 4. 셀프 주유소는 정말 저렴한지 boxplot으로 확인하기"
   ]
  },
  {
   "cell_type": "code",
   "execution_count": 43,
   "metadata": {},
   "outputs": [],
   "source": [
    "import matplotlib.pyplot as plt\n",
    "import seaborn as sns\n",
    "%matplotlib inline\n",
    "\n",
    "import platform\n",
    "\n",
    "path = \"c:/Windows/Fonts/malgun.ttf\"\n",
    "from matplotlib import font_manager, rc\n",
    "if platform.system() == 'Darwin':\n",
    "    rc('font', family='AppleGothic')\n",
    "elif platform.system() == 'Windows':\n",
    "    font_name = font_manager.FontProperties(fname=path).get_name()\n",
    "    rc('font', family=font_name)\n",
    "else:\n",
    "    print('Unknown system... sorry~~~~') "
   ]
  },
  {
   "cell_type": "code",
   "execution_count": 45,
   "metadata": {},
   "outputs": [
    {
     "data": {
      "image/png": "[encoded data removed]",
      "text/plain": [
       "<Figure size 864x576 with 1 Axes>"
      ]
     },
     "metadata": {
      "needs_background": "light"
     },
     "output_type": "display_data"
    }
   ],
   "source": [
    "stations.boxplot(column='가격', by='셀프', figsize=(12,8));"
   ]
  },
  {
   "cell_type": "code",
   "execution_count": 46,
   "metadata": {},
   "outputs": [
    {
     "data": {
      "image/png": "[encoded data removed]",
      "text/plain": [
       "<Figure size 864x576 with 1 Axes>"
      ]
     },
     "metadata": {
      "needs_background": "light"
     },
     "output_type": "display_data"
    }
   ],
   "source": [
    "plt.figure(figsize=(12,8))\n",
    "sns.boxplot(x=\"상표\", y=\"가격\", hue=\"셀프\", data=stations, palette=\"Set3\")\n",
    "plt.show()"
   ]
  },
  {
   "cell_type": "code",
   "execution_count": 47,
   "metadata": {},
   "outputs": [
    {
     "data": {
      "image/png": "[encoded data removed]",
      "text/plain": [
       "<Figure size 864x576 with 1 Axes>"
      ]
     },
     "metadata": {
      "needs_background": "light"
     },
     "output_type": "display_data"
    }
   ],
   "source": [
    "plt.figure(figsize=(12,8))\n",
    "sns.boxplot(x=\"상표\", y=\"가격\", data=stations, palette=\"Set3\")\n",
    "sns.swarmplot(x=\"상표\", y=\"가격\", data=stations, color=\".6\")\n",
    "plt.show()"
   ]
  },
  {
   "cell_type": "code",
   "execution_count": 48,
   "metadata": {},
   "outputs": [
    {
     "name": "stdout",
     "output_type": "stream",
     "text": [
      "Collecting folium\n",
      "  Downloading https://files.pythonhosted.org/packages/55/e2/7e523df8558b7f4b2ab4c62014fd378ccecce3fdc14c9928b272a88ae4cc/folium-0.7.0-py3-none-any.whl (85kB)\n",
      "Requirement already satisfied: numpy in c:\\users\\playdata\\anaconda3\\lib\\site-packages (from folium) (1.15.1)\n",
      "Requirement already satisfied: requests in c:\\users\\playdata\\anaconda3\\lib\\site-packages (from folium) (2.19.1)\n",
      "Requirement already satisfied: jinja2 in c:\\users\\playdata\\anaconda3\\lib\\site-packages (from folium) (2.10)\n",
      "Requirement already satisfied: six in c:\\users\\playdata\\anaconda3\\lib\\site-packages (from folium) (1.11.0)\n",
      "Collecting branca>=0.3.0 (from folium)\n",
      "  Downloading https://files.pythonhosted.org/packages/63/36/1c93318e9653f4e414a2e0c3b98fc898b4970e939afeedeee6075dd3b703/branca-0.3.1-py3-none-any.whl\n",
      "Requirement already satisfied: urllib3<1.24,>=1.21.1 in c:\\users\\playdata\\anaconda3\\lib\\site-packages (from requests->folium) (1.23)\n",
      "Requirement already satisfied: chardet<3.1.0,>=3.0.2 in c:\\users\\playdata\\anaconda3\\lib\\site-packages (from requests->folium) (3.0.4)\n",
      "Requirement already satisfied: idna<2.8,>=2.5 in c:\\users\\playdata\\anaconda3\\lib\\site-packages (from requests->folium) (2.7)\n",
      "Requirement already satisfied: certifi>=2017.4.17 in c:\\users\\playdata\\anaconda3\\lib\\site-packages (from requests->folium) (2018.8.24)\n",
      "Requirement already satisfied: MarkupSafe>=0.23 in c:\\users\\playdata\\anaconda3\\lib\\site-packages (from jinja2->folium) (1.0)\n",
      "Installing collected packages: branca, folium\n",
      "Successfully installed branca-0.3.1 folium-0.7.0\n"
     ]
    }
   ],
   "source": [
    "!pip install folium"
   ]
  },
  {
   "cell_type": "code",
   "execution_count": 49,
   "metadata": {},
   "outputs": [
    {
     "name": "stdout",
     "output_type": "stream",
     "text": [
      "Collecting googlemaps\n",
      "  Downloading https://files.pythonhosted.org/packages/5a/3d/13b4230f3c1b8a586cdc8d8179f3c6af771c11247f8de9c166d1ab37f51d/googlemaps-3.0.2.tar.gz\n",
      "Requirement already satisfied: requests<3.0,>=2.11.1 in c:\\users\\playdata\\anaconda3\\lib\\site-packages (from googlemaps) (2.19.1)\n",
      "Requirement already satisfied: urllib3<1.24,>=1.21.1 in c:\\users\\playdata\\anaconda3\\lib\\site-packages (from requests<3.0,>=2.11.1->googlemaps) (1.23)\n",
      "Requirement already satisfied: idna<2.8,>=2.5 in c:\\users\\playdata\\anaconda3\\lib\\site-packages (from requests<3.0,>=2.11.1->googlemaps) (2.7)\n",
      "Requirement already satisfied: certifi>=2017.4.17 in c:\\users\\playdata\\anaconda3\\lib\\site-packages (from requests<3.0,>=2.11.1->googlemaps) (2018.8.24)\n",
      "Requirement already satisfied: chardet<3.1.0,>=3.0.2 in c:\\users\\playdata\\anaconda3\\lib\\site-packages (from requests<3.0,>=2.11.1->googlemaps) (3.0.4)\n",
      "Building wheels for collected packages: googlemaps\n",
      "  Running setup.py bdist_wheel for googlemaps: started\n",
      "  Running setup.py bdist_wheel for googlemaps: finished with status 'done'\n",
      "  Stored in directory: C:\\Users\\Playdata\\AppData\\Local\\pip\\Cache\\wheels\\3c\\3f\\25\\ce6d7722dba07e5d4a12d27ab38f3d7add65ef43171b02c819\n",
      "Successfully built googlemaps\n",
      "Installing collected packages: googlemaps\n",
      "Successfully installed googlemaps-3.0.2\n"
     ]
    }
   ],
   "source": [
    "!pip install googlemaps"
   ]
  },
  {
   "cell_type": "markdown",
   "metadata": {
    "collapsed": true
   },
   "source": [
    "## 5.서울시 구별 주유 가격 확인하기"
   ]
  },
  {
   "cell_type": "code",
   "execution_count": 50,
   "metadata": {},
   "outputs": [],
   "source": [
    "import json\n",
    "import folium\n",
    "import googlemaps\n",
    "import warnings\n",
    "\n",
    "warnings.simplefilter(action = \"ignore\", category = FutureWarning)"
   ]
  },
  {
   "cell_type": "code",
   "execution_count": 51,
   "metadata": {},
   "outputs": [
    {
     "data": {
      "text/html": [
       "<div>\n",
       "<style scoped>\n",
       "    .dataframe tbody tr th:only-of-type {\n",
       "        vertical-align: middle;\n",
       "    }\n",
       "\n",
       "    .dataframe tbody tr th {\n",
       "        vertical-align: top;\n",
       "    }\n",
       "\n",
       "    .dataframe thead th {\n",
       "        text-align: right;\n",
       "    }\n",
       "</style>\n",
       "<table border=\"1\" class=\"dataframe\">\n",
       "  <thead>\n",
       "    <tr style=\"text-align: right;\">\n",
       "      <th></th>\n",
       "      <th>Oil_store</th>\n",
       "      <th>주소</th>\n",
       "      <th>가격</th>\n",
       "      <th>셀프</th>\n",
       "      <th>상표</th>\n",
       "      <th>구</th>\n",
       "    </tr>\n",
       "  </thead>\n",
       "  <tbody>\n",
       "    <tr>\n",
       "      <th>199</th>\n",
       "      <td>삼선주유소</td>\n",
       "      <td>서울특별시 성북구  창경궁로 324 (삼선동1가)</td>\n",
       "      <td>2068.0</td>\n",
       "      <td>N</td>\n",
       "      <td>S-OIL</td>\n",
       "      <td>성북구</td>\n",
       "    </tr>\n",
       "    <tr>\n",
       "      <th>546</th>\n",
       "      <td>현대오일뱅크(주)직영 한양주유소</td>\n",
       "      <td>서울 강남구 압구정로 302 (신사동)</td>\n",
       "      <td>2062.0</td>\n",
       "      <td>N</td>\n",
       "      <td>현대오일뱅크</td>\n",
       "      <td>강남구</td>\n",
       "    </tr>\n",
       "    <tr>\n",
       "      <th>40</th>\n",
       "      <td>현대오일뱅크(주)직영 한양주유소</td>\n",
       "      <td>서울 강남구 압구정로 302 (신사동)</td>\n",
       "      <td>2062.0</td>\n",
       "      <td>N</td>\n",
       "      <td>현대오일뱅크</td>\n",
       "      <td>강남구</td>\n",
       "    </tr>\n",
       "    <tr>\n",
       "      <th>545</th>\n",
       "      <td>뉴서울(강남)</td>\n",
       "      <td>서울 강남구 언주로 716 (논현동)</td>\n",
       "      <td>2015.0</td>\n",
       "      <td>N</td>\n",
       "      <td>SK에너지</td>\n",
       "      <td>강남구</td>\n",
       "    </tr>\n",
       "    <tr>\n",
       "      <th>39</th>\n",
       "      <td>뉴서울(강남)</td>\n",
       "      <td>서울 강남구 언주로 716 (논현동)</td>\n",
       "      <td>2015.0</td>\n",
       "      <td>N</td>\n",
       "      <td>SK에너지</td>\n",
       "      <td>강남구</td>\n",
       "    </tr>\n",
       "    <tr>\n",
       "      <th>357</th>\n",
       "      <td>서남주유소</td>\n",
       "      <td>서울 중구 통일로 30 (봉래동1가)</td>\n",
       "      <td>1999.0</td>\n",
       "      <td>N</td>\n",
       "      <td>SK에너지</td>\n",
       "      <td>중구</td>\n",
       "    </tr>\n",
       "    <tr>\n",
       "      <th>317</th>\n",
       "      <td>수림석유 제3한강주유소</td>\n",
       "      <td>서울특별시 용산구  한남대로 45 (한남동)</td>\n",
       "      <td>1998.0</td>\n",
       "      <td>N</td>\n",
       "      <td>GS칼텍스</td>\n",
       "      <td>용산구</td>\n",
       "    </tr>\n",
       "    <tr>\n",
       "      <th>355</th>\n",
       "      <td>장충주유소</td>\n",
       "      <td>서울 중구 장충단로 202 (장충동1가)</td>\n",
       "      <td>1998.0</td>\n",
       "      <td>N</td>\n",
       "      <td>SK에너지</td>\n",
       "      <td>중구</td>\n",
       "    </tr>\n",
       "    <tr>\n",
       "      <th>344</th>\n",
       "      <td>(주)대양씨앤씨 사직주유소</td>\n",
       "      <td>서울 종로구 사직로 65 (사직동)</td>\n",
       "      <td>1998.0</td>\n",
       "      <td>N</td>\n",
       "      <td>GS칼텍스</td>\n",
       "      <td>종로구</td>\n",
       "    </tr>\n",
       "    <tr>\n",
       "      <th>316</th>\n",
       "      <td>한남지점</td>\n",
       "      <td>서울 용산구 한남대로21길 4 (한남동)</td>\n",
       "      <td>1998.0</td>\n",
       "      <td>N</td>\n",
       "      <td>SK에너지</td>\n",
       "      <td>용산구</td>\n",
       "    </tr>\n",
       "  </tbody>\n",
       "</table>\n",
       "</div>"
      ],
      "text/plain": [
       "             Oil_store                           주소      가격 셀프      상표    구\n",
       "199              삼선주유소  서울특별시 성북구  창경궁로 324 (삼선동1가)  2068.0  N   S-OIL  성북구\n",
       "546  현대오일뱅크(주)직영 한양주유소        서울 강남구 압구정로 302 (신사동)  2062.0  N  현대오일뱅크  강남구\n",
       "40   현대오일뱅크(주)직영 한양주유소        서울 강남구 압구정로 302 (신사동)  2062.0  N  현대오일뱅크  강남구\n",
       "545            뉴서울(강남)         서울 강남구 언주로 716 (논현동)  2015.0  N   SK에너지  강남구\n",
       "39             뉴서울(강남)         서울 강남구 언주로 716 (논현동)  2015.0  N   SK에너지  강남구\n",
       "357              서남주유소         서울 중구 통일로 30 (봉래동1가)  1999.0  N   SK에너지   중구\n",
       "317       수림석유 제3한강주유소     서울특별시 용산구  한남대로 45 (한남동)  1998.0  N   GS칼텍스  용산구\n",
       "355              장충주유소       서울 중구 장충단로 202 (장충동1가)  1998.0  N   SK에너지   중구\n",
       "344     (주)대양씨앤씨 사직주유소          서울 종로구 사직로 65 (사직동)  1998.0  N   GS칼텍스  종로구\n",
       "316               한남지점       서울 용산구 한남대로21길 4 (한남동)  1998.0  N   SK에너지  용산구"
      ]
     },
     "execution_count": 51,
     "metadata": {},
     "output_type": "execute_result"
    }
   ],
   "source": [
    "stations.sort_values(by='가격', ascending=False).head(10)"
   ]
  },
  {
   "cell_type": "code",
   "execution_count": 52,
   "metadata": {},
   "outputs": [
    {
     "data": {
      "text/html": [
       "<div>\n",
       "<style scoped>\n",
       "    .dataframe tbody tr th:only-of-type {\n",
       "        vertical-align: middle;\n",
       "    }\n",
       "\n",
       "    .dataframe tbody tr th {\n",
       "        vertical-align: top;\n",
       "    }\n",
       "\n",
       "    .dataframe thead th {\n",
       "        text-align: right;\n",
       "    }\n",
       "</style>\n",
       "<table border=\"1\" class=\"dataframe\">\n",
       "  <thead>\n",
       "    <tr style=\"text-align: right;\">\n",
       "      <th></th>\n",
       "      <th>Oil_store</th>\n",
       "      <th>주소</th>\n",
       "      <th>가격</th>\n",
       "      <th>셀프</th>\n",
       "      <th>상표</th>\n",
       "      <th>구</th>\n",
       "    </tr>\n",
       "  </thead>\n",
       "  <tbody>\n",
       "    <tr>\n",
       "      <th>387</th>\n",
       "      <td>강서오곡셀프주유소</td>\n",
       "      <td>서울특별시 강서구 벌말로 254 (오곡동)</td>\n",
       "      <td>1347.0</td>\n",
       "      <td>Y</td>\n",
       "      <td>SK에너지</td>\n",
       "      <td>강서구</td>\n",
       "    </tr>\n",
       "    <tr>\n",
       "      <th>320</th>\n",
       "      <td>타이거주유소</td>\n",
       "      <td>서울 은평구 수색로 188 (증산동)</td>\n",
       "      <td>1357.0</td>\n",
       "      <td>Y</td>\n",
       "      <td>SK에너지</td>\n",
       "      <td>은평구</td>\n",
       "    </tr>\n",
       "    <tr>\n",
       "      <th>321</th>\n",
       "      <td>(주)명연에너지 수색훼미리주유소</td>\n",
       "      <td>서울 은평구 수색로 236 (수색동)</td>\n",
       "      <td>1357.0</td>\n",
       "      <td>Y</td>\n",
       "      <td>현대오일뱅크</td>\n",
       "      <td>은평구</td>\n",
       "    </tr>\n",
       "    <tr>\n",
       "      <th>121</th>\n",
       "      <td>만남의광장주유소</td>\n",
       "      <td>서울 서초구 양재대로12길 73-71 (원지동)</td>\n",
       "      <td>1364.0</td>\n",
       "      <td>Y</td>\n",
       "      <td>알뜰(ex)</td>\n",
       "      <td>서초구</td>\n",
       "    </tr>\n",
       "    <tr>\n",
       "      <th>374</th>\n",
       "      <td>수유동주유소</td>\n",
       "      <td>서울특별시 강북구  도봉로 395 (수유동)</td>\n",
       "      <td>1374.0</td>\n",
       "      <td>Y</td>\n",
       "      <td>GS칼텍스</td>\n",
       "      <td>강북구</td>\n",
       "    </tr>\n",
       "    <tr>\n",
       "      <th>41</th>\n",
       "      <td>도봉제일주유소(주)송만에너지</td>\n",
       "      <td>서울특별시 도봉구  도봉로 783 (도봉동)</td>\n",
       "      <td>1375.0</td>\n",
       "      <td>N</td>\n",
       "      <td>현대오일뱅크</td>\n",
       "      <td>도봉구</td>\n",
       "    </tr>\n",
       "    <tr>\n",
       "      <th>42</th>\n",
       "      <td>한이에너지(주)KLP제1주유소</td>\n",
       "      <td>서울특별시 도봉구  도봉로 596 (창동)</td>\n",
       "      <td>1375.0</td>\n",
       "      <td>N</td>\n",
       "      <td>현대오일뱅크</td>\n",
       "      <td>도봉구</td>\n",
       "    </tr>\n",
       "    <tr>\n",
       "      <th>322</th>\n",
       "      <td>무궁화주유소</td>\n",
       "      <td>서울특별시 은평구  응암로 163 (응암동)</td>\n",
       "      <td>1378.0</td>\n",
       "      <td>Y</td>\n",
       "      <td>SK에너지</td>\n",
       "      <td>은평구</td>\n",
       "    </tr>\n",
       "    <tr>\n",
       "      <th>43</th>\n",
       "      <td>삼미북부셀프주유소</td>\n",
       "      <td>서울특별시 도봉구  도봉로 437 (쌍문동)</td>\n",
       "      <td>1379.0</td>\n",
       "      <td>Y</td>\n",
       "      <td>SK에너지</td>\n",
       "      <td>도봉구</td>\n",
       "    </tr>\n",
       "    <tr>\n",
       "      <th>457</th>\n",
       "      <td>극동유화(주)항동주유소</td>\n",
       "      <td>서울특별시 구로구 서해안로 2154 (항동)</td>\n",
       "      <td>1384.0</td>\n",
       "      <td>Y</td>\n",
       "      <td>S-OIL</td>\n",
       "      <td>구로구</td>\n",
       "    </tr>\n",
       "  </tbody>\n",
       "</table>\n",
       "</div>"
      ],
      "text/plain": [
       "             Oil_store                          주소      가격 셀프      상표    구\n",
       "387          강서오곡셀프주유소     서울특별시 강서구 벌말로 254 (오곡동)  1347.0  Y   SK에너지  강서구\n",
       "320             타이거주유소        서울 은평구 수색로 188 (증산동)  1357.0  Y   SK에너지  은평구\n",
       "321  (주)명연에너지 수색훼미리주유소        서울 은평구 수색로 236 (수색동)  1357.0  Y  현대오일뱅크  은평구\n",
       "121           만남의광장주유소  서울 서초구 양재대로12길 73-71 (원지동)  1364.0  Y  알뜰(ex)  서초구\n",
       "374             수유동주유소    서울특별시 강북구  도봉로 395 (수유동)  1374.0  Y   GS칼텍스  강북구\n",
       "41     도봉제일주유소(주)송만에너지    서울특별시 도봉구  도봉로 783 (도봉동)  1375.0  N  현대오일뱅크  도봉구\n",
       "42    한이에너지(주)KLP제1주유소     서울특별시 도봉구  도봉로 596 (창동)  1375.0  N  현대오일뱅크  도봉구\n",
       "322             무궁화주유소    서울특별시 은평구  응암로 163 (응암동)  1378.0  Y   SK에너지  은평구\n",
       "43           삼미북부셀프주유소    서울특별시 도봉구  도봉로 437 (쌍문동)  1379.0  Y   SK에너지  도봉구\n",
       "457       극동유화(주)항동주유소    서울특별시 구로구 서해안로 2154 (항동)  1384.0  Y   S-OIL  구로구"
      ]
     },
     "execution_count": 52,
     "metadata": {},
     "output_type": "execute_result"
    }
   ],
   "source": [
    "stations.sort_values(by='가격', ascending=True).head(10)"
   ]
  },
  {
   "cell_type": "code",
   "execution_count": 54,
   "metadata": {},
   "outputs": [
    {
     "data": {
      "text/html": [
       "<div>\n",
       "<style scoped>\n",
       "    .dataframe tbody tr th:only-of-type {\n",
       "        vertical-align: middle;\n",
       "    }\n",
       "\n",
       "    .dataframe tbody tr th {\n",
       "        vertical-align: top;\n",
       "    }\n",
       "\n",
       "    .dataframe thead th {\n",
       "        text-align: right;\n",
       "    }\n",
       "</style>\n",
       "<table border=\"1\" class=\"dataframe\">\n",
       "  <thead>\n",
       "    <tr style=\"text-align: right;\">\n",
       "      <th></th>\n",
       "      <th>가격</th>\n",
       "    </tr>\n",
       "    <tr>\n",
       "      <th>구</th>\n",
       "      <th></th>\n",
       "    </tr>\n",
       "  </thead>\n",
       "  <tbody>\n",
       "    <tr>\n",
       "      <th>강남구</th>\n",
       "      <td>1682.000000</td>\n",
       "    </tr>\n",
       "    <tr>\n",
       "      <th>강동구</th>\n",
       "      <td>1577.388889</td>\n",
       "    </tr>\n",
       "    <tr>\n",
       "      <th>강북구</th>\n",
       "      <td>1436.923077</td>\n",
       "    </tr>\n",
       "    <tr>\n",
       "      <th>강서구</th>\n",
       "      <td>1463.411765</td>\n",
       "    </tr>\n",
       "    <tr>\n",
       "      <th>관악구</th>\n",
       "      <td>1503.000000</td>\n",
       "    </tr>\n",
       "  </tbody>\n",
       "</table>\n",
       "</div>"
      ],
      "text/plain": [
       "              가격\n",
       "구               \n",
       "강남구  1682.000000\n",
       "강동구  1577.388889\n",
       "강북구  1436.923077\n",
       "강서구  1463.411765\n",
       "관악구  1503.000000"
      ]
     },
     "execution_count": 54,
     "metadata": {},
     "output_type": "execute_result"
    }
   ],
   "source": [
    "import numpy as np\n",
    "\n",
    "gu_data = pd.pivot_table(stations, index=[\"구\"], values=[\"가격\"], \n",
    "                         aggfunc=np.mean)\n",
    "gu_data.head()"
   ]
  },
  {
   "cell_type": "markdown",
   "metadata": {
    "scrolled": true
   },
   "source": [
    "#### geo_path = 'data/skorea_municipalities_geo_simple.json'\n",
    "geo_str = json.load(open(geo_path, encoding='utf-8'))\n",
    "\n",
    "map = folium.Map(location=[37.5502, 126.982], zoom_start=10.5, tiles='Stamen Toner')\n",
    "\n",
    "map.choropleth(geo_data = geo_str,\n",
    "               data = gu_data,\n",
    "               columns=[gu_data.index, '가격'],\n",
    "               fill_color='PuRd', #PuRd, YlGnBu\n",
    "               key_on='feature.id')\n",
    "map"
   ]
  },
  {
   "cell_type": "markdown",
   "metadata": {},
   "source": [
    "## 6 서울시 주유 가격 상하위 10개 주유소 지도에 표기하기"
   ]
  },
  {
   "cell_type": "code",
   "execution_count": 56,
   "metadata": {},
   "outputs": [
    {
     "data": {
      "text/html": [
       "<div>\n",
       "<style scoped>\n",
       "    .dataframe tbody tr th:only-of-type {\n",
       "        vertical-align: middle;\n",
       "    }\n",
       "\n",
       "    .dataframe tbody tr th {\n",
       "        vertical-align: top;\n",
       "    }\n",
       "\n",
       "    .dataframe thead th {\n",
       "        text-align: right;\n",
       "    }\n",
       "</style>\n",
       "<table border=\"1\" class=\"dataframe\">\n",
       "  <thead>\n",
       "    <tr style=\"text-align: right;\">\n",
       "      <th></th>\n",
       "      <th>Oil_store</th>\n",
       "      <th>주소</th>\n",
       "      <th>가격</th>\n",
       "      <th>셀프</th>\n",
       "      <th>상표</th>\n",
       "      <th>구</th>\n",
       "    </tr>\n",
       "  </thead>\n",
       "  <tbody>\n",
       "    <tr>\n",
       "      <th>199</th>\n",
       "      <td>삼선주유소</td>\n",
       "      <td>서울특별시 성북구  창경궁로 324 (삼선동1가)</td>\n",
       "      <td>2068.0</td>\n",
       "      <td>N</td>\n",
       "      <td>S-OIL</td>\n",
       "      <td>성북구</td>\n",
       "    </tr>\n",
       "    <tr>\n",
       "      <th>546</th>\n",
       "      <td>현대오일뱅크(주)직영 한양주유소</td>\n",
       "      <td>서울 강남구 압구정로 302 (신사동)</td>\n",
       "      <td>2062.0</td>\n",
       "      <td>N</td>\n",
       "      <td>현대오일뱅크</td>\n",
       "      <td>강남구</td>\n",
       "    </tr>\n",
       "    <tr>\n",
       "      <th>40</th>\n",
       "      <td>현대오일뱅크(주)직영 한양주유소</td>\n",
       "      <td>서울 강남구 압구정로 302 (신사동)</td>\n",
       "      <td>2062.0</td>\n",
       "      <td>N</td>\n",
       "      <td>현대오일뱅크</td>\n",
       "      <td>강남구</td>\n",
       "    </tr>\n",
       "    <tr>\n",
       "      <th>545</th>\n",
       "      <td>뉴서울(강남)</td>\n",
       "      <td>서울 강남구 언주로 716 (논현동)</td>\n",
       "      <td>2015.0</td>\n",
       "      <td>N</td>\n",
       "      <td>SK에너지</td>\n",
       "      <td>강남구</td>\n",
       "    </tr>\n",
       "    <tr>\n",
       "      <th>39</th>\n",
       "      <td>뉴서울(강남)</td>\n",
       "      <td>서울 강남구 언주로 716 (논현동)</td>\n",
       "      <td>2015.0</td>\n",
       "      <td>N</td>\n",
       "      <td>SK에너지</td>\n",
       "      <td>강남구</td>\n",
       "    </tr>\n",
       "    <tr>\n",
       "      <th>357</th>\n",
       "      <td>서남주유소</td>\n",
       "      <td>서울 중구 통일로 30 (봉래동1가)</td>\n",
       "      <td>1999.0</td>\n",
       "      <td>N</td>\n",
       "      <td>SK에너지</td>\n",
       "      <td>중구</td>\n",
       "    </tr>\n",
       "    <tr>\n",
       "      <th>317</th>\n",
       "      <td>수림석유 제3한강주유소</td>\n",
       "      <td>서울특별시 용산구  한남대로 45 (한남동)</td>\n",
       "      <td>1998.0</td>\n",
       "      <td>N</td>\n",
       "      <td>GS칼텍스</td>\n",
       "      <td>용산구</td>\n",
       "    </tr>\n",
       "    <tr>\n",
       "      <th>355</th>\n",
       "      <td>장충주유소</td>\n",
       "      <td>서울 중구 장충단로 202 (장충동1가)</td>\n",
       "      <td>1998.0</td>\n",
       "      <td>N</td>\n",
       "      <td>SK에너지</td>\n",
       "      <td>중구</td>\n",
       "    </tr>\n",
       "    <tr>\n",
       "      <th>344</th>\n",
       "      <td>(주)대양씨앤씨 사직주유소</td>\n",
       "      <td>서울 종로구 사직로 65 (사직동)</td>\n",
       "      <td>1998.0</td>\n",
       "      <td>N</td>\n",
       "      <td>GS칼텍스</td>\n",
       "      <td>종로구</td>\n",
       "    </tr>\n",
       "    <tr>\n",
       "      <th>316</th>\n",
       "      <td>한남지점</td>\n",
       "      <td>서울 용산구 한남대로21길 4 (한남동)</td>\n",
       "      <td>1998.0</td>\n",
       "      <td>N</td>\n",
       "      <td>SK에너지</td>\n",
       "      <td>용산구</td>\n",
       "    </tr>\n",
       "  </tbody>\n",
       "</table>\n",
       "</div>"
      ],
      "text/plain": [
       "             Oil_store                           주소      가격 셀프      상표    구\n",
       "199              삼선주유소  서울특별시 성북구  창경궁로 324 (삼선동1가)  2068.0  N   S-OIL  성북구\n",
       "546  현대오일뱅크(주)직영 한양주유소        서울 강남구 압구정로 302 (신사동)  2062.0  N  현대오일뱅크  강남구\n",
       "40   현대오일뱅크(주)직영 한양주유소        서울 강남구 압구정로 302 (신사동)  2062.0  N  현대오일뱅크  강남구\n",
       "545            뉴서울(강남)         서울 강남구 언주로 716 (논현동)  2015.0  N   SK에너지  강남구\n",
       "39             뉴서울(강남)         서울 강남구 언주로 716 (논현동)  2015.0  N   SK에너지  강남구\n",
       "357              서남주유소         서울 중구 통일로 30 (봉래동1가)  1999.0  N   SK에너지   중구\n",
       "317       수림석유 제3한강주유소     서울특별시 용산구  한남대로 45 (한남동)  1998.0  N   GS칼텍스  용산구\n",
       "355              장충주유소       서울 중구 장충단로 202 (장충동1가)  1998.0  N   SK에너지   중구\n",
       "344     (주)대양씨앤씨 사직주유소          서울 종로구 사직로 65 (사직동)  1998.0  N   GS칼텍스  종로구\n",
       "316               한남지점       서울 용산구 한남대로21길 4 (한남동)  1998.0  N   SK에너지  용산구"
      ]
     },
     "execution_count": 56,
     "metadata": {},
     "output_type": "execute_result"
    }
   ],
   "source": [
    "oil_price_top10 = stations.sort_values(by='가격', ascending=False).head(10)\n",
    "oil_price_top10"
   ]
  },
  {
   "cell_type": "code",
   "execution_count": 57,
   "metadata": {},
   "outputs": [
    {
     "data": {
      "text/html": [
       "<div>\n",
       "<style scoped>\n",
       "    .dataframe tbody tr th:only-of-type {\n",
       "        vertical-align: middle;\n",
       "    }\n",
       "\n",
       "    .dataframe tbody tr th {\n",
       "        vertical-align: top;\n",
       "    }\n",
       "\n",
       "    .dataframe thead th {\n",
       "        text-align: right;\n",
       "    }\n",
       "</style>\n",
       "<table border=\"1\" class=\"dataframe\">\n",
       "  <thead>\n",
       "    <tr style=\"text-align: right;\">\n",
       "      <th></th>\n",
       "      <th>Oil_store</th>\n",
       "      <th>주소</th>\n",
       "      <th>가격</th>\n",
       "      <th>셀프</th>\n",
       "      <th>상표</th>\n",
       "      <th>구</th>\n",
       "    </tr>\n",
       "  </thead>\n",
       "  <tbody>\n",
       "    <tr>\n",
       "      <th>387</th>\n",
       "      <td>강서오곡셀프주유소</td>\n",
       "      <td>서울특별시 강서구 벌말로 254 (오곡동)</td>\n",
       "      <td>1347.0</td>\n",
       "      <td>Y</td>\n",
       "      <td>SK에너지</td>\n",
       "      <td>강서구</td>\n",
       "    </tr>\n",
       "    <tr>\n",
       "      <th>320</th>\n",
       "      <td>타이거주유소</td>\n",
       "      <td>서울 은평구 수색로 188 (증산동)</td>\n",
       "      <td>1357.0</td>\n",
       "      <td>Y</td>\n",
       "      <td>SK에너지</td>\n",
       "      <td>은평구</td>\n",
       "    </tr>\n",
       "    <tr>\n",
       "      <th>321</th>\n",
       "      <td>(주)명연에너지 수색훼미리주유소</td>\n",
       "      <td>서울 은평구 수색로 236 (수색동)</td>\n",
       "      <td>1357.0</td>\n",
       "      <td>Y</td>\n",
       "      <td>현대오일뱅크</td>\n",
       "      <td>은평구</td>\n",
       "    </tr>\n",
       "    <tr>\n",
       "      <th>121</th>\n",
       "      <td>만남의광장주유소</td>\n",
       "      <td>서울 서초구 양재대로12길 73-71 (원지동)</td>\n",
       "      <td>1364.0</td>\n",
       "      <td>Y</td>\n",
       "      <td>알뜰(ex)</td>\n",
       "      <td>서초구</td>\n",
       "    </tr>\n",
       "    <tr>\n",
       "      <th>374</th>\n",
       "      <td>수유동주유소</td>\n",
       "      <td>서울특별시 강북구  도봉로 395 (수유동)</td>\n",
       "      <td>1374.0</td>\n",
       "      <td>Y</td>\n",
       "      <td>GS칼텍스</td>\n",
       "      <td>강북구</td>\n",
       "    </tr>\n",
       "    <tr>\n",
       "      <th>41</th>\n",
       "      <td>도봉제일주유소(주)송만에너지</td>\n",
       "      <td>서울특별시 도봉구  도봉로 783 (도봉동)</td>\n",
       "      <td>1375.0</td>\n",
       "      <td>N</td>\n",
       "      <td>현대오일뱅크</td>\n",
       "      <td>도봉구</td>\n",
       "    </tr>\n",
       "    <tr>\n",
       "      <th>42</th>\n",
       "      <td>한이에너지(주)KLP제1주유소</td>\n",
       "      <td>서울특별시 도봉구  도봉로 596 (창동)</td>\n",
       "      <td>1375.0</td>\n",
       "      <td>N</td>\n",
       "      <td>현대오일뱅크</td>\n",
       "      <td>도봉구</td>\n",
       "    </tr>\n",
       "    <tr>\n",
       "      <th>322</th>\n",
       "      <td>무궁화주유소</td>\n",
       "      <td>서울특별시 은평구  응암로 163 (응암동)</td>\n",
       "      <td>1378.0</td>\n",
       "      <td>Y</td>\n",
       "      <td>SK에너지</td>\n",
       "      <td>은평구</td>\n",
       "    </tr>\n",
       "    <tr>\n",
       "      <th>43</th>\n",
       "      <td>삼미북부셀프주유소</td>\n",
       "      <td>서울특별시 도봉구  도봉로 437 (쌍문동)</td>\n",
       "      <td>1379.0</td>\n",
       "      <td>Y</td>\n",
       "      <td>SK에너지</td>\n",
       "      <td>도봉구</td>\n",
       "    </tr>\n",
       "    <tr>\n",
       "      <th>457</th>\n",
       "      <td>극동유화(주)항동주유소</td>\n",
       "      <td>서울특별시 구로구 서해안로 2154 (항동)</td>\n",
       "      <td>1384.0</td>\n",
       "      <td>Y</td>\n",
       "      <td>S-OIL</td>\n",
       "      <td>구로구</td>\n",
       "    </tr>\n",
       "  </tbody>\n",
       "</table>\n",
       "</div>"
      ],
      "text/plain": [
       "             Oil_store                          주소      가격 셀프      상표    구\n",
       "387          강서오곡셀프주유소     서울특별시 강서구 벌말로 254 (오곡동)  1347.0  Y   SK에너지  강서구\n",
       "320             타이거주유소        서울 은평구 수색로 188 (증산동)  1357.0  Y   SK에너지  은평구\n",
       "321  (주)명연에너지 수색훼미리주유소        서울 은평구 수색로 236 (수색동)  1357.0  Y  현대오일뱅크  은평구\n",
       "121           만남의광장주유소  서울 서초구 양재대로12길 73-71 (원지동)  1364.0  Y  알뜰(ex)  서초구\n",
       "374             수유동주유소    서울특별시 강북구  도봉로 395 (수유동)  1374.0  Y   GS칼텍스  강북구\n",
       "41     도봉제일주유소(주)송만에너지    서울특별시 도봉구  도봉로 783 (도봉동)  1375.0  N  현대오일뱅크  도봉구\n",
       "42    한이에너지(주)KLP제1주유소     서울특별시 도봉구  도봉로 596 (창동)  1375.0  N  현대오일뱅크  도봉구\n",
       "322             무궁화주유소    서울특별시 은평구  응암로 163 (응암동)  1378.0  Y   SK에너지  은평구\n",
       "43           삼미북부셀프주유소    서울특별시 도봉구  도봉로 437 (쌍문동)  1379.0  Y   SK에너지  도봉구\n",
       "457       극동유화(주)항동주유소    서울특별시 구로구 서해안로 2154 (항동)  1384.0  Y   S-OIL  구로구"
      ]
     },
     "execution_count": 57,
     "metadata": {},
     "output_type": "execute_result"
    }
   ],
   "source": [
    "oil_price_bottom10 = stations.sort_values(by='가격', ascending=True).head(10)\n",
    "oil_price_bottom10"
   ]
  },
  {
   "cell_type": "code",
   "execution_count": 58,
   "metadata": {},
   "outputs": [
    {
     "ename": "ValueError",
     "evalue": "Invalid API key provided.",
     "output_type": "error",
     "traceback": [
      "\u001b[1;31m---------------------------------------------------------------------------\u001b[0m",
      "\u001b[1;31mValueError\u001b[0m                                Traceback (most recent call last)",
      "\u001b[1;32m<ipython-input-58-23cf570c4c51>\u001b[0m in \u001b[0;36m<module>\u001b[1;34m()\u001b[0m\n\u001b[0;32m      1\u001b[0m \u001b[0mgmap_key\u001b[0m \u001b[1;33m=\u001b[0m \u001b[1;34m\"---개인 google api 사용 key \"\u001b[0m \u001b[1;31m# key를 입력\u001b[0m\u001b[1;33m\u001b[0m\u001b[0m\n\u001b[1;32m----> 2\u001b[1;33m \u001b[0mgmaps\u001b[0m \u001b[1;33m=\u001b[0m \u001b[0mgooglemaps\u001b[0m\u001b[1;33m.\u001b[0m\u001b[0mClient\u001b[0m\u001b[1;33m(\u001b[0m\u001b[0mkey\u001b[0m\u001b[1;33m=\u001b[0m\u001b[0mgmap_key\u001b[0m\u001b[1;33m)\u001b[0m\u001b[1;33m\u001b[0m\u001b[0m\n\u001b[0m",
      "\u001b[1;32m~\\Anaconda3\\lib\\site-packages\\googlemaps\\client.py\u001b[0m in \u001b[0;36m__init__\u001b[1;34m(self, key, client_id, client_secret, timeout, connect_timeout, read_timeout, retry_timeout, requests_kwargs, queries_per_second, channel, retry_over_query_limit)\u001b[0m\n\u001b[0;32m    117\u001b[0m \u001b[1;33m\u001b[0m\u001b[0m\n\u001b[0;32m    118\u001b[0m         \u001b[1;32mif\u001b[0m \u001b[0mkey\u001b[0m \u001b[1;32mand\u001b[0m \u001b[1;32mnot\u001b[0m \u001b[0mkey\u001b[0m\u001b[1;33m.\u001b[0m\u001b[0mstartswith\u001b[0m\u001b[1;33m(\u001b[0m\u001b[1;34m\"AIza\"\u001b[0m\u001b[1;33m)\u001b[0m\u001b[1;33m:\u001b[0m\u001b[1;33m\u001b[0m\u001b[0m\n\u001b[1;32m--> 119\u001b[1;33m             \u001b[1;32mraise\u001b[0m \u001b[0mValueError\u001b[0m\u001b[1;33m(\u001b[0m\u001b[1;34m\"Invalid API key provided.\"\u001b[0m\u001b[1;33m)\u001b[0m\u001b[1;33m\u001b[0m\u001b[0m\n\u001b[0m\u001b[0;32m    120\u001b[0m \u001b[1;33m\u001b[0m\u001b[0m\n\u001b[0;32m    121\u001b[0m         \u001b[1;32mif\u001b[0m \u001b[0mchannel\u001b[0m\u001b[1;33m:\u001b[0m\u001b[1;33m\u001b[0m\u001b[0m\n",
      "\u001b[1;31mValueError\u001b[0m: Invalid API key provided."
     ]
    }
   ],
   "source": [
    "gmap_key = \"---개인 google api 사용 key \" # key를 입력\n",
    "gmaps = googlemaps.Client(key=gmap_key)"
   ]
  },
  {
   "cell_type": "code",
   "execution_count": 59,
   "metadata": {},
   "outputs": [
    {
     "data": {
      "application/vnd.jupyter.widget-view+json": {
       "model_id": "341fcc42220e436a93974c72099394cb",
       "version_major": 2,
       "version_minor": 0
      },
      "text/plain": [
       "HBox(children=(IntProgress(value=0, max=10), HTML(value='')))"
      ]
     },
     "metadata": {},
     "output_type": "display_data"
    },
    {
     "name": "stdout",
     "output_type": "stream",
     "text": [
      "Here is nan !\n",
      "Here is nan !\n",
      "Here is nan !\n",
      "Here is nan !\n",
      "Here is nan !\n",
      "Here is nan !\n",
      "Here is nan !\n",
      "Here is nan !\n",
      "Here is nan !\n",
      "Here is nan !\n",
      "\n"
     ]
    },
    {
     "data": {
      "text/html": [
       "<div>\n",
       "<style scoped>\n",
       "    .dataframe tbody tr th:only-of-type {\n",
       "        vertical-align: middle;\n",
       "    }\n",
       "\n",
       "    .dataframe tbody tr th {\n",
       "        vertical-align: top;\n",
       "    }\n",
       "\n",
       "    .dataframe thead th {\n",
       "        text-align: right;\n",
       "    }\n",
       "</style>\n",
       "<table border=\"1\" class=\"dataframe\">\n",
       "  <thead>\n",
       "    <tr style=\"text-align: right;\">\n",
       "      <th></th>\n",
       "      <th>Oil_store</th>\n",
       "      <th>주소</th>\n",
       "      <th>가격</th>\n",
       "      <th>셀프</th>\n",
       "      <th>상표</th>\n",
       "      <th>구</th>\n",
       "      <th>lat</th>\n",
       "      <th>lng</th>\n",
       "    </tr>\n",
       "  </thead>\n",
       "  <tbody>\n",
       "    <tr>\n",
       "      <th>199</th>\n",
       "      <td>삼선주유소</td>\n",
       "      <td>서울특별시 성북구  창경궁로 324 (삼선동1가)</td>\n",
       "      <td>2068.0</td>\n",
       "      <td>N</td>\n",
       "      <td>S-OIL</td>\n",
       "      <td>성북구</td>\n",
       "      <td>NaN</td>\n",
       "      <td>NaN</td>\n",
       "    </tr>\n",
       "    <tr>\n",
       "      <th>546</th>\n",
       "      <td>현대오일뱅크(주)직영 한양주유소</td>\n",
       "      <td>서울 강남구 압구정로 302 (신사동)</td>\n",
       "      <td>2062.0</td>\n",
       "      <td>N</td>\n",
       "      <td>현대오일뱅크</td>\n",
       "      <td>강남구</td>\n",
       "      <td>NaN</td>\n",
       "      <td>NaN</td>\n",
       "    </tr>\n",
       "    <tr>\n",
       "      <th>40</th>\n",
       "      <td>현대오일뱅크(주)직영 한양주유소</td>\n",
       "      <td>서울 강남구 압구정로 302 (신사동)</td>\n",
       "      <td>2062.0</td>\n",
       "      <td>N</td>\n",
       "      <td>현대오일뱅크</td>\n",
       "      <td>강남구</td>\n",
       "      <td>NaN</td>\n",
       "      <td>NaN</td>\n",
       "    </tr>\n",
       "    <tr>\n",
       "      <th>545</th>\n",
       "      <td>뉴서울(강남)</td>\n",
       "      <td>서울 강남구 언주로 716 (논현동)</td>\n",
       "      <td>2015.0</td>\n",
       "      <td>N</td>\n",
       "      <td>SK에너지</td>\n",
       "      <td>강남구</td>\n",
       "      <td>NaN</td>\n",
       "      <td>NaN</td>\n",
       "    </tr>\n",
       "    <tr>\n",
       "      <th>39</th>\n",
       "      <td>뉴서울(강남)</td>\n",
       "      <td>서울 강남구 언주로 716 (논현동)</td>\n",
       "      <td>2015.0</td>\n",
       "      <td>N</td>\n",
       "      <td>SK에너지</td>\n",
       "      <td>강남구</td>\n",
       "      <td>NaN</td>\n",
       "      <td>NaN</td>\n",
       "    </tr>\n",
       "    <tr>\n",
       "      <th>357</th>\n",
       "      <td>서남주유소</td>\n",
       "      <td>서울 중구 통일로 30 (봉래동1가)</td>\n",
       "      <td>1999.0</td>\n",
       "      <td>N</td>\n",
       "      <td>SK에너지</td>\n",
       "      <td>중구</td>\n",
       "      <td>NaN</td>\n",
       "      <td>NaN</td>\n",
       "    </tr>\n",
       "    <tr>\n",
       "      <th>317</th>\n",
       "      <td>수림석유 제3한강주유소</td>\n",
       "      <td>서울특별시 용산구  한남대로 45 (한남동)</td>\n",
       "      <td>1998.0</td>\n",
       "      <td>N</td>\n",
       "      <td>GS칼텍스</td>\n",
       "      <td>용산구</td>\n",
       "      <td>NaN</td>\n",
       "      <td>NaN</td>\n",
       "    </tr>\n",
       "    <tr>\n",
       "      <th>355</th>\n",
       "      <td>장충주유소</td>\n",
       "      <td>서울 중구 장충단로 202 (장충동1가)</td>\n",
       "      <td>1998.0</td>\n",
       "      <td>N</td>\n",
       "      <td>SK에너지</td>\n",
       "      <td>중구</td>\n",
       "      <td>NaN</td>\n",
       "      <td>NaN</td>\n",
       "    </tr>\n",
       "    <tr>\n",
       "      <th>344</th>\n",
       "      <td>(주)대양씨앤씨 사직주유소</td>\n",
       "      <td>서울 종로구 사직로 65 (사직동)</td>\n",
       "      <td>1998.0</td>\n",
       "      <td>N</td>\n",
       "      <td>GS칼텍스</td>\n",
       "      <td>종로구</td>\n",
       "      <td>NaN</td>\n",
       "      <td>NaN</td>\n",
       "    </tr>\n",
       "    <tr>\n",
       "      <th>316</th>\n",
       "      <td>한남지점</td>\n",
       "      <td>서울 용산구 한남대로21길 4 (한남동)</td>\n",
       "      <td>1998.0</td>\n",
       "      <td>N</td>\n",
       "      <td>SK에너지</td>\n",
       "      <td>용산구</td>\n",
       "      <td>NaN</td>\n",
       "      <td>NaN</td>\n",
       "    </tr>\n",
       "  </tbody>\n",
       "</table>\n",
       "</div>"
      ],
      "text/plain": [
       "             Oil_store                           주소      가격 셀프      상표    구  \\\n",
       "199              삼선주유소  서울특별시 성북구  창경궁로 324 (삼선동1가)  2068.0  N   S-OIL  성북구   \n",
       "546  현대오일뱅크(주)직영 한양주유소        서울 강남구 압구정로 302 (신사동)  2062.0  N  현대오일뱅크  강남구   \n",
       "40   현대오일뱅크(주)직영 한양주유소        서울 강남구 압구정로 302 (신사동)  2062.0  N  현대오일뱅크  강남구   \n",
       "545            뉴서울(강남)         서울 강남구 언주로 716 (논현동)  2015.0  N   SK에너지  강남구   \n",
       "39             뉴서울(강남)         서울 강남구 언주로 716 (논현동)  2015.0  N   SK에너지  강남구   \n",
       "357              서남주유소         서울 중구 통일로 30 (봉래동1가)  1999.0  N   SK에너지   중구   \n",
       "317       수림석유 제3한강주유소     서울특별시 용산구  한남대로 45 (한남동)  1998.0  N   GS칼텍스  용산구   \n",
       "355              장충주유소       서울 중구 장충단로 202 (장충동1가)  1998.0  N   SK에너지   중구   \n",
       "344     (주)대양씨앤씨 사직주유소          서울 종로구 사직로 65 (사직동)  1998.0  N   GS칼텍스  종로구   \n",
       "316               한남지점       서울 용산구 한남대로21길 4 (한남동)  1998.0  N   SK에너지  용산구   \n",
       "\n",
       "     lat  lng  \n",
       "199  NaN  NaN  \n",
       "546  NaN  NaN  \n",
       "40   NaN  NaN  \n",
       "545  NaN  NaN  \n",
       "39   NaN  NaN  \n",
       "357  NaN  NaN  \n",
       "317  NaN  NaN  \n",
       "355  NaN  NaN  \n",
       "344  NaN  NaN  \n",
       "316  NaN  NaN  "
      ]
     },
     "execution_count": 59,
     "metadata": {},
     "output_type": "execute_result"
    }
   ],
   "source": [
    "from tqdm import tqdm_notebook\n",
    "\n",
    "lat = []\n",
    "lng = []\n",
    "\n",
    "for n in tqdm_notebook(oil_price_top10.index):\n",
    "    try:\n",
    "        tmp_add = str(oil_price_top10['주소'][n]).split('(')[0]\n",
    "        tmp_map = gmaps.geocode(tmp_add)\n",
    "\n",
    "        tmp_loc = tmp_map[0].get('geometry')\n",
    "        lat.append(tmp_loc['location']['lat'])\n",
    "        lng.append(tmp_loc['location']['lng'])\n",
    "        \n",
    "    except:\n",
    "        lat.append(np.nan)\n",
    "        lng.append(np.nan)\n",
    "        print(\"Here is nan !\")\n",
    "        \n",
    "oil_price_top10['lat'] = lat\n",
    "oil_price_top10['lng'] = lng\n",
    "oil_price_top10"
   ]
  },
  {
   "cell_type": "code",
   "execution_count": 60,
   "metadata": {},
   "outputs": [
    {
     "data": {
      "application/vnd.jupyter.widget-view+json": {
       "model_id": "d1bded09b9484a4f80f2621108a4df9b",
       "version_major": 2,
       "version_minor": 0
      },
      "text/plain": [
       "HBox(children=(IntProgress(value=0, max=10), HTML(value='')))"
      ]
     },
     "metadata": {},
     "output_type": "display_data"
    },
    {
     "name": "stdout",
     "output_type": "stream",
     "text": [
      "Here is nan !\n",
      "Here is nan !\n",
      "Here is nan !\n",
      "Here is nan !\n",
      "Here is nan !\n",
      "Here is nan !\n",
      "Here is nan !\n",
      "Here is nan !\n",
      "Here is nan !\n",
      "Here is nan !\n",
      "\n"
     ]
    },
    {
     "data": {
      "text/html": [
       "<div>\n",
       "<style scoped>\n",
       "    .dataframe tbody tr th:only-of-type {\n",
       "        vertical-align: middle;\n",
       "    }\n",
       "\n",
       "    .dataframe tbody tr th {\n",
       "        vertical-align: top;\n",
       "    }\n",
       "\n",
       "    .dataframe thead th {\n",
       "        text-align: right;\n",
       "    }\n",
       "</style>\n",
       "<table border=\"1\" class=\"dataframe\">\n",
       "  <thead>\n",
       "    <tr style=\"text-align: right;\">\n",
       "      <th></th>\n",
       "      <th>Oil_store</th>\n",
       "      <th>주소</th>\n",
       "      <th>가격</th>\n",
       "      <th>셀프</th>\n",
       "      <th>상표</th>\n",
       "      <th>구</th>\n",
       "      <th>lat</th>\n",
       "      <th>lng</th>\n",
       "    </tr>\n",
       "  </thead>\n",
       "  <tbody>\n",
       "    <tr>\n",
       "      <th>387</th>\n",
       "      <td>강서오곡셀프주유소</td>\n",
       "      <td>서울특별시 강서구 벌말로 254 (오곡동)</td>\n",
       "      <td>1347.0</td>\n",
       "      <td>Y</td>\n",
       "      <td>SK에너지</td>\n",
       "      <td>강서구</td>\n",
       "      <td>NaN</td>\n",
       "      <td>NaN</td>\n",
       "    </tr>\n",
       "    <tr>\n",
       "      <th>320</th>\n",
       "      <td>타이거주유소</td>\n",
       "      <td>서울 은평구 수색로 188 (증산동)</td>\n",
       "      <td>1357.0</td>\n",
       "      <td>Y</td>\n",
       "      <td>SK에너지</td>\n",
       "      <td>은평구</td>\n",
       "      <td>NaN</td>\n",
       "      <td>NaN</td>\n",
       "    </tr>\n",
       "    <tr>\n",
       "      <th>321</th>\n",
       "      <td>(주)명연에너지 수색훼미리주유소</td>\n",
       "      <td>서울 은평구 수색로 236 (수색동)</td>\n",
       "      <td>1357.0</td>\n",
       "      <td>Y</td>\n",
       "      <td>현대오일뱅크</td>\n",
       "      <td>은평구</td>\n",
       "      <td>NaN</td>\n",
       "      <td>NaN</td>\n",
       "    </tr>\n",
       "    <tr>\n",
       "      <th>121</th>\n",
       "      <td>만남의광장주유소</td>\n",
       "      <td>서울 서초구 양재대로12길 73-71 (원지동)</td>\n",
       "      <td>1364.0</td>\n",
       "      <td>Y</td>\n",
       "      <td>알뜰(ex)</td>\n",
       "      <td>서초구</td>\n",
       "      <td>NaN</td>\n",
       "      <td>NaN</td>\n",
       "    </tr>\n",
       "    <tr>\n",
       "      <th>374</th>\n",
       "      <td>수유동주유소</td>\n",
       "      <td>서울특별시 강북구  도봉로 395 (수유동)</td>\n",
       "      <td>1374.0</td>\n",
       "      <td>Y</td>\n",
       "      <td>GS칼텍스</td>\n",
       "      <td>강북구</td>\n",
       "      <td>NaN</td>\n",
       "      <td>NaN</td>\n",
       "    </tr>\n",
       "    <tr>\n",
       "      <th>41</th>\n",
       "      <td>도봉제일주유소(주)송만에너지</td>\n",
       "      <td>서울특별시 도봉구  도봉로 783 (도봉동)</td>\n",
       "      <td>1375.0</td>\n",
       "      <td>N</td>\n",
       "      <td>현대오일뱅크</td>\n",
       "      <td>도봉구</td>\n",
       "      <td>NaN</td>\n",
       "      <td>NaN</td>\n",
       "    </tr>\n",
       "    <tr>\n",
       "      <th>42</th>\n",
       "      <td>한이에너지(주)KLP제1주유소</td>\n",
       "      <td>서울특별시 도봉구  도봉로 596 (창동)</td>\n",
       "      <td>1375.0</td>\n",
       "      <td>N</td>\n",
       "      <td>현대오일뱅크</td>\n",
       "      <td>도봉구</td>\n",
       "      <td>NaN</td>\n",
       "      <td>NaN</td>\n",
       "    </tr>\n",
       "    <tr>\n",
       "      <th>322</th>\n",
       "      <td>무궁화주유소</td>\n",
       "      <td>서울특별시 은평구  응암로 163 (응암동)</td>\n",
       "      <td>1378.0</td>\n",
       "      <td>Y</td>\n",
       "      <td>SK에너지</td>\n",
       "      <td>은평구</td>\n",
       "      <td>NaN</td>\n",
       "      <td>NaN</td>\n",
       "    </tr>\n",
       "    <tr>\n",
       "      <th>43</th>\n",
       "      <td>삼미북부셀프주유소</td>\n",
       "      <td>서울특별시 도봉구  도봉로 437 (쌍문동)</td>\n",
       "      <td>1379.0</td>\n",
       "      <td>Y</td>\n",
       "      <td>SK에너지</td>\n",
       "      <td>도봉구</td>\n",
       "      <td>NaN</td>\n",
       "      <td>NaN</td>\n",
       "    </tr>\n",
       "    <tr>\n",
       "      <th>457</th>\n",
       "      <td>극동유화(주)항동주유소</td>\n",
       "      <td>서울특별시 구로구 서해안로 2154 (항동)</td>\n",
       "      <td>1384.0</td>\n",
       "      <td>Y</td>\n",
       "      <td>S-OIL</td>\n",
       "      <td>구로구</td>\n",
       "      <td>NaN</td>\n",
       "      <td>NaN</td>\n",
       "    </tr>\n",
       "  </tbody>\n",
       "</table>\n",
       "</div>"
      ],
      "text/plain": [
       "             Oil_store                          주소      가격 셀프      상표    구  \\\n",
       "387          강서오곡셀프주유소     서울특별시 강서구 벌말로 254 (오곡동)  1347.0  Y   SK에너지  강서구   \n",
       "320             타이거주유소        서울 은평구 수색로 188 (증산동)  1357.0  Y   SK에너지  은평구   \n",
       "321  (주)명연에너지 수색훼미리주유소        서울 은평구 수색로 236 (수색동)  1357.0  Y  현대오일뱅크  은평구   \n",
       "121           만남의광장주유소  서울 서초구 양재대로12길 73-71 (원지동)  1364.0  Y  알뜰(ex)  서초구   \n",
       "374             수유동주유소    서울특별시 강북구  도봉로 395 (수유동)  1374.0  Y   GS칼텍스  강북구   \n",
       "41     도봉제일주유소(주)송만에너지    서울특별시 도봉구  도봉로 783 (도봉동)  1375.0  N  현대오일뱅크  도봉구   \n",
       "42    한이에너지(주)KLP제1주유소     서울특별시 도봉구  도봉로 596 (창동)  1375.0  N  현대오일뱅크  도봉구   \n",
       "322             무궁화주유소    서울특별시 은평구  응암로 163 (응암동)  1378.0  Y   SK에너지  은평구   \n",
       "43           삼미북부셀프주유소    서울특별시 도봉구  도봉로 437 (쌍문동)  1379.0  Y   SK에너지  도봉구   \n",
       "457       극동유화(주)항동주유소    서울특별시 구로구 서해안로 2154 (항동)  1384.0  Y   S-OIL  구로구   \n",
       "\n",
       "     lat  lng  \n",
       "387  NaN  NaN  \n",
       "320  NaN  NaN  \n",
       "321  NaN  NaN  \n",
       "121  NaN  NaN  \n",
       "374  NaN  NaN  \n",
       "41   NaN  NaN  \n",
       "42   NaN  NaN  \n",
       "322  NaN  NaN  \n",
       "43   NaN  NaN  \n",
       "457  NaN  NaN  "
      ]
     },
     "execution_count": 60,
     "metadata": {},
     "output_type": "execute_result"
    }
   ],
   "source": [
    "lat = []\n",
    "lng = []\n",
    "\n",
    "for n in tqdm_notebook(oil_price_bottom10.index):\n",
    "    try:\n",
    "        tmp_add = oil_price_bottom10['주소'][n].split('(')[0]\n",
    "        tmp_map = gmaps.geocode(tmp_add)\n",
    "\n",
    "        tmp_loc = tmp_map[0]['geometry']\n",
    "        lat.append(tmp_loc['location']['lat'])\n",
    "        lng.append(tmp_loc['location']['lng'])\n",
    "        \n",
    "    except:\n",
    "        lat.append(np.nan)\n",
    "        lng.append(np.nan)\n",
    "        print(\"Here is nan !\")\n",
    "    \n",
    "oil_price_bottom10['lat'] = lat\n",
    "oil_price_bottom10['lng'] = lng\n",
    "oil_price_bottom10"
   ]
  },
  {
   "cell_type": "code",
   "execution_count": 61,
   "metadata": {},
   "outputs": [
    {
     "data": {
      "text/html": [
       "<div style=\"width:100%;\"><div style=\"position:relative;width:100%;height:0;padding-bottom:60%;\"><iframe src=\"data:text/html;charset=utf-8;base64,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\" style=\"position:absolute;width:100%;height:100%;left:0;top:0;border:none !important;\" allowfullscreen webkitallowfullscreen mozallowfullscreen></iframe></div></div>"
      ],
      "text/plain": [
       "<folium.folium.Map at 0x1afc0c6b898>"
      ]
     },
     "execution_count": 61,
     "metadata": {},
     "output_type": "execute_result"
    }
   ],
   "source": [
    "map = folium.Map(location=[37.5202, 126.975], zoom_start=10.5)\n",
    "\n",
    "for n in oil_price_top10.index:\n",
    "    if pd.notnull(oil_price_top10['lat'][n]):\n",
    "        folium.CircleMarker([oil_price_top10['lat'][n], oil_price_top10['lng'][n]], \n",
    "                                  radius=15, color='#CD3181', \n",
    "                                  fill_color='#CD3181',\n",
    "                                  fill=True).add_to(map)\n",
    "    \n",
    "for n in oil_price_bottom10.index:\n",
    "    if pd.notnull(oil_price_bottom10['lat'][n]): \n",
    "        folium.CircleMarker([oil_price_bottom10['lat'][n], \n",
    "                                  oil_price_bottom10['lng'][n]], \n",
    "                                  radius=15, color='#3186cc', \n",
    "                                  fill_color='#3186cc',\n",
    "                                  fill=True).add_to(map)\n",
    "        \n",
    "map"
   ]
  },
  {
   "cell_type": "code",
   "execution_count": null,
   "metadata": {},
   "outputs": [],
   "source": []
  },
  {
   "cell_type": "code",
   "execution_count": null,
   "metadata": {},
   "outputs": [],
   "source": []
  }
 ],
 "metadata": {
  "kernelspec": {
   "display_name": "Python 3",
   "language": "python",
   "name": "python3"
  },
  "language_info": {
   "codemirror_mode": {
    "name": "ipython",
    "version": 3
   },
   "file_extension": ".py",
   "mimetype": "text/x-python",
   "name": "python",
   "nbconvert_exporter": "python",
   "pygments_lexer": "ipython3",
   "version": "3.7.0"
  }
 },
 "nbformat": 4,
 "nbformat_minor": 1
}
